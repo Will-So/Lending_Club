{
 "cells": [
  {
   "cell_type": "code",
   "execution_count": 4,
   "metadata": {
    "collapsed": false,
    "scrolled": true
   },
   "outputs": [
    {
     "name": "stdout",
     "output_type": "stream",
     "text": [
      "Populating the interactive namespace from numpy and matplotlib\n"
     ]
    }
   ],
   "source": [
    "%pylab inline\n",
    "import pandas as pd\n",
    "import os\n",
    "DATA_DIR = '/Users/Will/Data/lending_club/'"
   ]
  },
  {
   "cell_type": "code",
   "execution_count": 5,
   "metadata": {
    "collapsed": false,
    "scrolled": true
   },
   "outputs": [
    {
     "data": {
      "text/plain": [
       "['.DS_Store',\n",
       " 'LoanStats3a.csv',\n",
       " 'LoanStats3b.csv',\n",
       " 'LoanStats3c.csv',\n",
       " 'LoanStats3d.csv']"
      ]
     },
     "execution_count": 5,
     "metadata": {},
     "output_type": "execute_result"
    }
   ],
   "source": [
    "os.listdir(DATA_DIR)"
   ]
  },
  {
   "cell_type": "code",
   "execution_count": 259,
   "metadata": {
    "collapsed": false,
    "scrolled": true
   },
   "outputs": [
    {
     "name": "stderr",
     "output_type": "stream",
     "text": [
      "/Users/Will/anaconda/envs/py34/lib/python3.4/site-packages/pandas/io/parsers.py:1170: DtypeWarning: Columns (0) have mixed types. Specify dtype option on import or set low_memory=False.\n",
      "  data = self._reader.read(nrows)\n",
      "/Users/Will/anaconda/envs/py34/lib/python3.4/site-packages/pandas/io/parsers.py:1170: DtypeWarning: Columns (0,19) have mixed types. Specify dtype option on import or set low_memory=False.\n",
      "  data = self._reader.read(nrows)\n"
     ]
    }
   ],
   "source": [
    "df = pd.DataFrame()\n",
    "for csv in os.listdir(DATA_DIR)[1:]:\n",
    "    df = df.append(pd.read_csv(DATA_DIR + csv, header=True))"
   ]
  },
  {
   "cell_type": "code",
   "execution_count": 261,
   "metadata": {
    "collapsed": false
   },
   "outputs": [],
   "source": [
    "important_columns = ['total_pymnt', 'zip_code', 'member_id', 'id', 'loan_amnt', 'int_rate',\n",
    "                    'installment', 'emp_length', 'home_ownership', 'grade', 'sub_grade', 'emp_title',\n",
    "                    'issue_d', 'loan_status', 'annual_inc', 'verification_status', 'purpose', 'addr_state', 'pymnt_plan',\n",
    "                     'inq_last_6mths', 'dti', 'revol_util', 'mths_since_last_record', 'mths_since_last_delinq',\n",
    "                     'pub_rec', 'revol_bal', 'open_acc', 'collections_12_mths_ex_med', 'delinq_2yrs',\n",
    "                     'earliest_cr_line',  'last_credit_pull_d']"
   ]
  },
  {
   "cell_type": "code",
   "execution_count": 262,
   "metadata": {
    "collapsed": false
   },
   "outputs": [],
   "source": [
    "lc = df[important_columns]"
   ]
  },
  {
   "cell_type": "code",
   "execution_count": 128,
   "metadata": {
    "collapsed": false,
    "scrolled": true
   },
   "outputs": [],
   "source": [
    "other_columns = ['last_pymnt_d', 'last_pymnt_amnt']"
   ]
  },
  {
   "cell_type": "code",
   "execution_count": 263,
   "metadata": {
    "collapsed": false
   },
   "outputs": [
    {
     "data": {
      "text/plain": [
       "50.786928010183928"
      ]
     },
     "execution_count": 263,
     "metadata": {},
     "output_type": "execute_result"
    }
   ],
   "source": [
    "mean(df.total_pymnt - df.total_pymnt_inv)"
   ]
  },
  {
   "cell_type": "markdown",
   "metadata": {},
   "source": [
    "Earliest CR line is a good proxy for age."
   ]
  },
  {
   "cell_type": "markdown",
   "metadata": {},
   "source": [
    "# Type Casting"
   ]
  },
  {
   "cell_type": "code",
   "execution_count": 300,
   "metadata": {
    "collapsed": true
   },
   "outputs": [],
   "source": [
    "lc = lc[:-2] # The last 2 rows of the CSV arent proper rows"
   ]
  },
  {
   "cell_type": "code",
   "execution_count": 301,
   "metadata": {
    "collapsed": false,
    "scrolled": true
   },
   "outputs": [
    {
     "name": "stdout",
     "output_type": "stream",
     "text": [
      "<class 'pandas.core.frame.DataFrame'>\n",
      "Int64Index: 646387 entries, 0 to 180099\n",
      "Data columns (total 30 columns):\n",
      "total_pymnt                   646387 non-null float64\n",
      "zip_code                      646387 non-null int64\n",
      "member_id                     646387 non-null float64\n",
      "id                            646387 non-null int64\n",
      "loan_amnt                     646387 non-null float64\n",
      "int_rate                      646387 non-null float64\n",
      "installment                   646387 non-null float64\n",
      "emp_length                    615969 non-null float64\n",
      "home_ownership                646387 non-null category\n",
      "grade                         646387 non-null category\n",
      "sub_grade                     646387 non-null int64\n",
      "emp_title                     609363 non-null object\n",
      "issue_d                       646387 non-null datetime64[ns]\n",
      "loan_status                   646387 non-null category\n",
      "annual_inc                    646383 non-null float64\n",
      "verification_status           646387 non-null int64\n",
      "purpose                       646387 non-null category\n",
      "addr_state                    646387 non-null category\n",
      "inq_last_6mths                646358 non-null float64\n",
      "dti                           646387 non-null float64\n",
      "revol_util                    645984 non-null float64\n",
      "mths_since_last_record        94340 non-null float64\n",
      "mths_since_last_delinq        309041 non-null float64\n",
      "pub_rec                       646358 non-null float64\n",
      "revol_bal                     646387 non-null float64\n",
      "open_acc                      646358 non-null float64\n",
      "collections_12_mths_ex_med    646242 non-null float64\n",
      "delinq_2yrs                   646358 non-null float64\n",
      "earliest_cr_line              646358 non-null datetime64[ns]\n",
      "last_credit_pull_d            646339 non-null datetime64[ns]\n",
      "dtypes: category(5), datetime64[ns](3), float64(17), int64(4), object(1)\n",
      "memory usage: 131.3+ MB\n"
     ]
    }
   ],
   "source": [
    "lc.info()"
   ]
  },
  {
   "cell_type": "code",
   "execution_count": 274,
   "metadata": {
    "collapsed": false,
    "scrolled": false
   },
   "outputs": [],
   "source": [
    "lc['zip_code'] = lc['zip_code'].str.replace('x', '')"
   ]
  },
  {
   "cell_type": "code",
   "execution_count": 275,
   "metadata": {
    "collapsed": false
   },
   "outputs": [
    {
     "data": {
      "text/plain": [
       "0         860\n",
       "1         309\n",
       "2         606\n",
       "3         917\n",
       "4         972\n",
       "5         852\n",
       "6         280\n",
       "7         900\n",
       "8         958\n",
       "9         774\n",
       "10        853\n",
       "11        913\n",
       "12        245\n",
       "13        606\n",
       "14        951\n",
       "15        641\n",
       "16        921\n",
       "17        067\n",
       "18        890\n",
       "19        921\n",
       "20        770\n",
       "21        335\n",
       "22        799\n",
       "23        917\n",
       "24        900\n",
       "25        605\n",
       "26        103\n",
       "27        150\n",
       "28        326\n",
       "29        564\n",
       "         ... \n",
       "180072    925\n",
       "180073    325\n",
       "180074    209\n",
       "180075    176\n",
       "180076    339\n",
       "180077    597\n",
       "180078    412\n",
       "180079    308\n",
       "180080    840\n",
       "180081    138\n",
       "180082    282\n",
       "180083    550\n",
       "180084    871\n",
       "180085    021\n",
       "180086    330\n",
       "180087    333\n",
       "180088    891\n",
       "180089    325\n",
       "180090    286\n",
       "180091    471\n",
       "180092    956\n",
       "180093    531\n",
       "180094    430\n",
       "180095    432\n",
       "180096    791\n",
       "180097    905\n",
       "180098    072\n",
       "180099    010\n",
       "180100    378\n",
       "180101    331\n",
       "Name: zip_code, dtype: object"
      ]
     },
     "execution_count": 275,
     "metadata": {},
     "output_type": "execute_result"
    }
   ],
   "source": [
    "lc.zip_code"
   ]
  },
  {
   "cell_type": "code",
   "execution_count": 282,
   "metadata": {
    "collapsed": false,
    "scrolled": false
   },
   "outputs": [],
   "source": [
    "lc.zip_code = lc.zip_code.astype(int)"
   ]
  },
  {
   "cell_type": "code",
   "execution_count": 283,
   "metadata": {
    "collapsed": true
   },
   "outputs": [],
   "source": [
    "lc = lc[~lc.id.str.contains('[A-z]', na=False)] #Remove ids with words"
   ]
  },
  {
   "cell_type": "code",
   "execution_count": 284,
   "metadata": {
    "collapsed": false
   },
   "outputs": [],
   "source": [
    "lc['id'] = lc.id.astype(int)"
   ]
  },
  {
   "cell_type": "code",
   "execution_count": 285,
   "metadata": {
    "collapsed": false
   },
   "outputs": [
    {
     "data": {
      "text/plain": [
       "array(['10+ years', '< 1 year', '1 year', '3 years', '8 years', '9 years',\n",
       "       '4 years', '5 years', '6 years', '2 years', '7 years', 'n/a'], dtype=object)"
      ]
     },
     "execution_count": 285,
     "metadata": {},
     "output_type": "execute_result"
    }
   ],
   "source": [
    "lc.emp_length.unique()"
   ]
  },
  {
   "cell_type": "code",
   "execution_count": 286,
   "metadata": {
    "collapsed": false
   },
   "outputs": [],
   "source": [
    "lc.emp_length = lc.emp_length.replace({'10+ years': 20, '< 1 year': 0, '1 year': 1})\n",
    "lc.emp_length = lc.emp_length.replace({'{} years'.format(i): i for i in range(1,10)})\n",
    "lc.emp_length = lc.emp_length.replace({'n/a': np.nan})"
   ]
  },
  {
   "cell_type": "code",
   "execution_count": 287,
   "metadata": {
    "collapsed": false
   },
   "outputs": [],
   "source": [
    "lc.int_rate = lc.int_rate.str.replace('%', '').astype(float) / 100"
   ]
  },
  {
   "cell_type": "code",
   "execution_count": 288,
   "metadata": {
    "collapsed": false
   },
   "outputs": [],
   "source": [
    "lc.home_ownership = lc.home_ownership.astype('category')"
   ]
  },
  {
   "cell_type": "code",
   "execution_count": 289,
   "metadata": {
    "collapsed": false,
    "scrolled": false
   },
   "outputs": [],
   "source": [
    "# Change the subgrades to numeric values\n",
    "\n",
    "unique_subgrades = sorted(lc.sub_grade.unique())\n",
    "lc.sub_grade = lc.sub_grade.replace({'{}'.format(i):\n",
    "                      unique_subgrades.index(i) for i in unique_subgrades})"
   ]
  },
  {
   "cell_type": "code",
   "execution_count": 290,
   "metadata": {
    "collapsed": false
   },
   "outputs": [],
   "source": [
    "lc['grade'] = lc['grade'].astype('category')"
   ]
  },
  {
   "cell_type": "code",
   "execution_count": 291,
   "metadata": {
    "collapsed": false,
    "scrolled": false
   },
   "outputs": [],
   "source": [
    "lc.issue_d = pd.to_datetime(lc.issue_d)"
   ]
  },
  {
   "cell_type": "code",
   "execution_count": 292,
   "metadata": {
    "collapsed": false
   },
   "outputs": [],
   "source": [
    "lc.loan_status = lc.loan_status.astype('category')"
   ]
  },
  {
   "cell_type": "code",
   "execution_count": 293,
   "metadata": {
    "collapsed": false
   },
   "outputs": [],
   "source": [
    "lc.verification_status = lc.verification_status.replace({'VERIFIED - income': 1,\n",
    "                                'VERIFIED - income source': 1, 'not verified': 0 })"
   ]
  },
  {
   "cell_type": "code",
   "execution_count": 294,
   "metadata": {
    "collapsed": false
   },
   "outputs": [],
   "source": [
    "lc.purpose = lc.purpose.astype('category')"
   ]
  },
  {
   "cell_type": "code",
   "execution_count": 295,
   "metadata": {
    "collapsed": false
   },
   "outputs": [],
   "source": [
    "lc.addr_state = lc.addr_state.astype('category')"
   ]
  },
  {
   "cell_type": "code",
   "execution_count": 296,
   "metadata": {
    "collapsed": false
   },
   "outputs": [],
   "source": [
    "lc = lc.drop('pymnt_plan', axis=1)"
   ]
  },
  {
   "cell_type": "code",
   "execution_count": 297,
   "metadata": {
    "collapsed": true
   },
   "outputs": [],
   "source": [
    "lc['revol_util'] = lc.revol_util.str.replace(\"%\", '').astype(float) / 100"
   ]
  },
  {
   "cell_type": "code",
   "execution_count": 298,
   "metadata": {
    "collapsed": false
   },
   "outputs": [],
   "source": [
    "lc.earliest_cr_line = pd.to_datetime(lc.earliest_cr_line)"
   ]
  },
  {
   "cell_type": "code",
   "execution_count": 299,
   "metadata": {
    "collapsed": false
   },
   "outputs": [],
   "source": [
    "lc.last_credit_pull_d = pd.to_datetime(lc.last_credit_pull_d)"
   ]
  },
  {
   "cell_type": "code",
   "execution_count": 304,
   "metadata": {
    "collapsed": false
   },
   "outputs": [],
   "source": [
    "import pickle\n",
    "with open('cleaned_df.pkl', 'wb') as picklefile:\n",
    "    pickle.dump(lc, picklefile)"
   ]
  },
  {
   "cell_type": "markdown",
   "metadata": {},
   "source": [
    "# Feature Engineering"
   ]
  },
  {
   "cell_type": "markdown",
   "metadata": {},
   "source": [
    "Feature | Why\n",
    "-- | --\n",
    "Ratio of income to installment payment | might suggest overpayment amount\n",
    "Ratio of income to all debt including installment | The previous but better."
   ]
  },
  {
   "cell_type": "code",
   "execution_count": 310,
   "metadata": {
    "collapsed": false
   },
   "outputs": [
    {
     "data": {
      "text/plain": [
       "installment      435.056483\n",
       "revol_bal      16545.933747\n",
       "dtype: float64"
      ]
     },
     "execution_count": 310,
     "metadata": {},
     "output_type": "execute_result"
    }
   ],
   "source": [
    "lc[['installment', 'revol_bal']].mean()"
   ]
  },
  {
   "cell_type": "code",
   "execution_count": 315,
   "metadata": {
    "collapsed": false
   },
   "outputs": [
    {
     "data": {
      "text/plain": [
       "Index(['total_pymnt', 'zip_code', 'member_id', 'id', 'loan_amnt', 'int_rate',\n",
       "       'installment', 'emp_length', 'home_ownership', 'grade', 'sub_grade',\n",
       "       'emp_title', 'issue_d', 'loan_status', 'annual_inc',\n",
       "       'verification_status', 'purpose', 'addr_state', 'inq_last_6mths', 'dti',\n",
       "       'revol_util', 'mths_since_last_record', 'mths_since_last_delinq',\n",
       "       'pub_rec', 'revol_bal', 'open_acc', 'collections_12_mths_ex_med',\n",
       "       'delinq_2yrs', 'earliest_cr_line', 'last_credit_pull_d',\n",
       "       'ratio_inc_debt'],\n",
       "      dtype='object')"
      ]
     },
     "execution_count": 315,
     "metadata": {},
     "output_type": "execute_result"
    }
   ],
   "source": [
    "lc.columns"
   ]
  },
  {
   "cell_type": "code",
   "execution_count": 316,
   "metadata": {
    "collapsed": true
   },
   "outputs": [],
   "source": [
    "lc['ratio_inc_debt'] = (lc.loan_amnt + lc.revol_bal) / lc.annual_inc"
   ]
  },
  {
   "cell_type": "code",
   "execution_count": 317,
   "metadata": {
    "collapsed": false
   },
   "outputs": [
    {
     "data": {
      "text/plain": [
       "count    646383.000000\n",
       "mean          0.458122\n",
       "std           0.257535\n",
       "min           0.001072\n",
       "25%           0.277250\n",
       "50%           0.418118\n",
       "75%           0.592603\n",
       "max          10.706455\n",
       "Name: ratio_inc_debt, dtype: float64"
      ]
     },
     "execution_count": 317,
     "metadata": {},
     "output_type": "execute_result"
    }
   ],
   "source": [
    "lc.ratio_inc_debt.describe()"
   ]
  },
  {
   "cell_type": "code",
   "execution_count": 322,
   "metadata": {
    "collapsed": true
   },
   "outputs": [],
   "source": [
    "lc['ratio_inc_installment'] = lc.installment / (lc.annual_inc / 12)"
   ]
  },
  {
   "cell_type": "code",
   "execution_count": 323,
   "metadata": {
    "collapsed": false
   },
   "outputs": [
    {
     "data": {
      "text/plain": [
       "count    646383.000000\n",
       "mean          0.080259\n",
       "std           0.040342\n",
       "min           0.000241\n",
       "25%           0.049286\n",
       "50%           0.075108\n",
       "75%           0.107037\n",
       "max           0.541710\n",
       "Name: ratio_inc_installment, dtype: float64"
      ]
     },
     "execution_count": 323,
     "metadata": {},
     "output_type": "execute_result"
    }
   ],
   "source": [
    "lc.ratio_inc_installment.describe()"
   ]
  },
  {
   "cell_type": "code",
   "execution_count": 332,
   "metadata": {
    "collapsed": true
   },
   "outputs": [],
   "source": [
    "lc['ratio_mth_inc_all_payments'] = (lc.installment + lc.revol_bal * .02) / (lc.annual_inc / 12)"
   ]
  },
  {
   "cell_type": "code",
   "execution_count": 334,
   "metadata": {
    "collapsed": false,
    "scrolled": true
   },
   "outputs": [
    {
     "data": {
      "text/plain": [
       "count    646383.000000\n",
       "mean          0.137122\n",
       "std           0.071193\n",
       "min           0.000393\n",
       "25%           0.085831\n",
       "50%           0.126881\n",
       "75%           0.177213\n",
       "max           2.644211\n",
       "Name: ratio_mth_inc_all_payments, dtype: float64"
      ]
     },
     "execution_count": 334,
     "metadata": {},
     "output_type": "execute_result"
    }
   ],
   "source": [
    "lc.ratio_mth_inc_all_payments.describe()"
   ]
  },
  {
   "cell_type": "markdown",
   "metadata": {},
   "source": [
    "# Fixing some of the datatypes"
   ]
  },
  {
   "cell_type": "markdown",
   "metadata": {},
   "source": [
    "Using "
   ]
  },
  {
   "cell_type": "code",
   "execution_count": 335,
   "metadata": {
    "collapsed": false,
    "scrolled": true
   },
   "outputs": [
    {
     "data": {
      "text/plain": [
       "Current                                                     428292\n",
       "Fully Paid                                                  163412\n",
       "Charged Off                                                  35389\n",
       "Late (31-120 days)                                            9215\n",
       "In Grace Period                                               5155\n",
       "Does not meet the credit policy.  Status:Fully Paid           1959\n",
       "Late (16-30 days)                                             1952\n",
       "Does not meet the credit policy.  Status:Charged Off           761\n",
       "Default                                                        223\n",
       "Does not meet the credit policy.  Status:Current                28\n",
       "Does not meet the credit policy.  Status:In Grace Period         1\n",
       "dtype: int64"
      ]
     },
     "execution_count": 335,
     "metadata": {},
     "output_type": "execute_result"
    }
   ],
   "source": [
    "lc.loan_status.value_counts()"
   ]
  },
  {
   "cell_type": "code",
   "execution_count": 341,
   "metadata": {
    "collapsed": false
   },
   "outputs": [],
   "source": [
    "lc.loan_status = lc.loan_status.astype(str)"
   ]
  },
  {
   "cell_type": "code",
   "execution_count": 349,
   "metadata": {
    "collapsed": false,
    "scrolled": true
   },
   "outputs": [
    {
     "data": {
      "text/plain": [
       "Timestamp('2010-12-23 00:00:00')"
      ]
     },
     "execution_count": 349,
     "metadata": {},
     "output_type": "execute_result"
    }
   ],
   "source": [
    "lc[lc.loan_status.str.contains(\"Does not meet the credit policy\")].issue_d.max()"
   ]
  },
  {
   "cell_type": "code",
   "execution_count": 376,
   "metadata": {
    "collapsed": false
   },
   "outputs": [
    {
     "data": {
      "text/plain": [
       "646387"
      ]
     },
     "execution_count": 376,
     "metadata": {},
     "output_type": "execute_result"
    }
   ],
   "source": [
    "len(lc)"
   ]
  },
  {
   "cell_type": "code",
   "execution_count": 375,
   "metadata": {
    "collapsed": false,
    "scrolled": true
   },
   "outputs": [
    {
     "data": {
      "text/html": [
       "<div>\n",
       "<table border=\"1\" class=\"dataframe\">\n",
       "  <thead>\n",
       "    <tr style=\"text-align: right;\">\n",
       "      <th></th>\n",
       "      <th>total_pymnt</th>\n",
       "      <th>zip_code</th>\n",
       "      <th>member_id</th>\n",
       "      <th>id</th>\n",
       "      <th>loan_amnt</th>\n",
       "      <th>int_rate</th>\n",
       "      <th>installment</th>\n",
       "      <th>emp_length</th>\n",
       "      <th>home_ownership</th>\n",
       "      <th>grade</th>\n",
       "      <th>...</th>\n",
       "      <th>pub_rec</th>\n",
       "      <th>revol_bal</th>\n",
       "      <th>open_acc</th>\n",
       "      <th>collections_12_mths_ex_med</th>\n",
       "      <th>delinq_2yrs</th>\n",
       "      <th>earliest_cr_line</th>\n",
       "      <th>last_credit_pull_d</th>\n",
       "      <th>ratio_inc_debt</th>\n",
       "      <th>ratio_inc_installment</th>\n",
       "      <th>ratio_mth_inc_all_payments</th>\n",
       "    </tr>\n",
       "  </thead>\n",
       "  <tbody>\n",
       "    <tr>\n",
       "      <th>0</th>\n",
       "      <td>5861.071414</td>\n",
       "      <td>860</td>\n",
       "      <td>1296599</td>\n",
       "      <td>1077501</td>\n",
       "      <td>5000</td>\n",
       "      <td>0.1065</td>\n",
       "      <td>162.87</td>\n",
       "      <td>20</td>\n",
       "      <td>RENT</td>\n",
       "      <td>B</td>\n",
       "      <td>...</td>\n",
       "      <td>0</td>\n",
       "      <td>13648</td>\n",
       "      <td>3</td>\n",
       "      <td>0</td>\n",
       "      <td>0</td>\n",
       "      <td>1985-01-23</td>\n",
       "      <td>2015-01-23</td>\n",
       "      <td>0.777000</td>\n",
       "      <td>0.081435</td>\n",
       "      <td>0.217915</td>\n",
       "    </tr>\n",
       "    <tr>\n",
       "      <th>1</th>\n",
       "      <td>1008.710000</td>\n",
       "      <td>309</td>\n",
       "      <td>1314167</td>\n",
       "      <td>1077430</td>\n",
       "      <td>2500</td>\n",
       "      <td>0.1527</td>\n",
       "      <td>59.83</td>\n",
       "      <td>0</td>\n",
       "      <td>RENT</td>\n",
       "      <td>C</td>\n",
       "      <td>...</td>\n",
       "      <td>0</td>\n",
       "      <td>1687</td>\n",
       "      <td>3</td>\n",
       "      <td>0</td>\n",
       "      <td>0</td>\n",
       "      <td>1999-04-23</td>\n",
       "      <td>2013-09-23</td>\n",
       "      <td>0.139567</td>\n",
       "      <td>0.023932</td>\n",
       "      <td>0.037428</td>\n",
       "    </tr>\n",
       "    <tr>\n",
       "      <th>2</th>\n",
       "      <td>3003.653644</td>\n",
       "      <td>606</td>\n",
       "      <td>1313524</td>\n",
       "      <td>1077175</td>\n",
       "      <td>2400</td>\n",
       "      <td>0.1596</td>\n",
       "      <td>84.33</td>\n",
       "      <td>20</td>\n",
       "      <td>RENT</td>\n",
       "      <td>C</td>\n",
       "      <td>...</td>\n",
       "      <td>0</td>\n",
       "      <td>2956</td>\n",
       "      <td>2</td>\n",
       "      <td>0</td>\n",
       "      <td>0</td>\n",
       "      <td>2001-11-23</td>\n",
       "      <td>2015-09-23</td>\n",
       "      <td>0.437153</td>\n",
       "      <td>0.082595</td>\n",
       "      <td>0.140500</td>\n",
       "    </tr>\n",
       "    <tr>\n",
       "      <th>3</th>\n",
       "      <td>12226.302212</td>\n",
       "      <td>917</td>\n",
       "      <td>1277178</td>\n",
       "      <td>1076863</td>\n",
       "      <td>10000</td>\n",
       "      <td>0.1349</td>\n",
       "      <td>339.31</td>\n",
       "      <td>20</td>\n",
       "      <td>RENT</td>\n",
       "      <td>C</td>\n",
       "      <td>...</td>\n",
       "      <td>0</td>\n",
       "      <td>5598</td>\n",
       "      <td>10</td>\n",
       "      <td>0</td>\n",
       "      <td>0</td>\n",
       "      <td>1996-02-23</td>\n",
       "      <td>2015-01-23</td>\n",
       "      <td>0.317033</td>\n",
       "      <td>0.082759</td>\n",
       "      <td>0.110066</td>\n",
       "    </tr>\n",
       "    <tr>\n",
       "      <th>4</th>\n",
       "      <td>2971.010000</td>\n",
       "      <td>972</td>\n",
       "      <td>1311748</td>\n",
       "      <td>1075358</td>\n",
       "      <td>3000</td>\n",
       "      <td>0.1269</td>\n",
       "      <td>67.79</td>\n",
       "      <td>1</td>\n",
       "      <td>RENT</td>\n",
       "      <td>B</td>\n",
       "      <td>...</td>\n",
       "      <td>0</td>\n",
       "      <td>27783</td>\n",
       "      <td>15</td>\n",
       "      <td>0</td>\n",
       "      <td>0</td>\n",
       "      <td>1996-01-23</td>\n",
       "      <td>2015-09-23</td>\n",
       "      <td>0.384788</td>\n",
       "      <td>0.010169</td>\n",
       "      <td>0.093517</td>\n",
       "    </tr>\n",
       "    <tr>\n",
       "      <th>5</th>\n",
       "      <td>5631.377753</td>\n",
       "      <td>852</td>\n",
       "      <td>1311441</td>\n",
       "      <td>1075269</td>\n",
       "      <td>5000</td>\n",
       "      <td>0.0790</td>\n",
       "      <td>156.46</td>\n",
       "      <td>3</td>\n",
       "      <td>RENT</td>\n",
       "      <td>A</td>\n",
       "      <td>...</td>\n",
       "      <td>0</td>\n",
       "      <td>7963</td>\n",
       "      <td>9</td>\n",
       "      <td>0</td>\n",
       "      <td>0</td>\n",
       "      <td>2004-11-23</td>\n",
       "      <td>2015-09-23</td>\n",
       "      <td>0.360083</td>\n",
       "      <td>0.052153</td>\n",
       "      <td>0.105240</td>\n",
       "    </tr>\n",
       "    <tr>\n",
       "      <th>6</th>\n",
       "      <td>7456.520000</td>\n",
       "      <td>280</td>\n",
       "      <td>1304742</td>\n",
       "      <td>1069639</td>\n",
       "      <td>7000</td>\n",
       "      <td>0.1596</td>\n",
       "      <td>170.08</td>\n",
       "      <td>8</td>\n",
       "      <td>RENT</td>\n",
       "      <td>C</td>\n",
       "      <td>...</td>\n",
       "      <td>0</td>\n",
       "      <td>17726</td>\n",
       "      <td>7</td>\n",
       "      <td>0</td>\n",
       "      <td>0</td>\n",
       "      <td>2005-07-23</td>\n",
       "      <td>2015-09-23</td>\n",
       "      <td>0.526040</td>\n",
       "      <td>0.043421</td>\n",
       "      <td>0.133929</td>\n",
       "    </tr>\n",
       "    <tr>\n",
       "      <th>7</th>\n",
       "      <td>3938.144334</td>\n",
       "      <td>900</td>\n",
       "      <td>1288686</td>\n",
       "      <td>1072053</td>\n",
       "      <td>3000</td>\n",
       "      <td>0.1864</td>\n",
       "      <td>109.43</td>\n",
       "      <td>9</td>\n",
       "      <td>RENT</td>\n",
       "      <td>E</td>\n",
       "      <td>...</td>\n",
       "      <td>0</td>\n",
       "      <td>8221</td>\n",
       "      <td>4</td>\n",
       "      <td>0</td>\n",
       "      <td>0</td>\n",
       "      <td>2007-01-23</td>\n",
       "      <td>2014-12-23</td>\n",
       "      <td>0.233771</td>\n",
       "      <td>0.027358</td>\n",
       "      <td>0.068463</td>\n",
       "    </tr>\n",
       "    <tr>\n",
       "      <th>8</th>\n",
       "      <td>646.020000</td>\n",
       "      <td>958</td>\n",
       "      <td>1306957</td>\n",
       "      <td>1071795</td>\n",
       "      <td>5600</td>\n",
       "      <td>0.2128</td>\n",
       "      <td>152.39</td>\n",
       "      <td>4</td>\n",
       "      <td>OWN</td>\n",
       "      <td>F</td>\n",
       "      <td>...</td>\n",
       "      <td>0</td>\n",
       "      <td>5210</td>\n",
       "      <td>11</td>\n",
       "      <td>0</td>\n",
       "      <td>0</td>\n",
       "      <td>2004-04-23</td>\n",
       "      <td>2012-08-23</td>\n",
       "      <td>0.270250</td>\n",
       "      <td>0.045717</td>\n",
       "      <td>0.076977</td>\n",
       "    </tr>\n",
       "    <tr>\n",
       "      <th>9</th>\n",
       "      <td>1476.190000</td>\n",
       "      <td>774</td>\n",
       "      <td>1306721</td>\n",
       "      <td>1071570</td>\n",
       "      <td>5375</td>\n",
       "      <td>0.1269</td>\n",
       "      <td>121.45</td>\n",
       "      <td>0</td>\n",
       "      <td>RENT</td>\n",
       "      <td>B</td>\n",
       "      <td>...</td>\n",
       "      <td>0</td>\n",
       "      <td>9279</td>\n",
       "      <td>2</td>\n",
       "      <td>0</td>\n",
       "      <td>0</td>\n",
       "      <td>2004-09-23</td>\n",
       "      <td>2013-03-23</td>\n",
       "      <td>0.976933</td>\n",
       "      <td>0.097160</td>\n",
       "      <td>0.245624</td>\n",
       "    </tr>\n",
       "    <tr>\n",
       "      <th>10</th>\n",
       "      <td>7677.520000</td>\n",
       "      <td>853</td>\n",
       "      <td>1305201</td>\n",
       "      <td>1070078</td>\n",
       "      <td>6500</td>\n",
       "      <td>0.1465</td>\n",
       "      <td>153.45</td>\n",
       "      <td>5</td>\n",
       "      <td>OWN</td>\n",
       "      <td>C</td>\n",
       "      <td>...</td>\n",
       "      <td>0</td>\n",
       "      <td>4032</td>\n",
       "      <td>14</td>\n",
       "      <td>0</td>\n",
       "      <td>0</td>\n",
       "      <td>1998-01-23</td>\n",
       "      <td>2013-07-23</td>\n",
       "      <td>0.146278</td>\n",
       "      <td>0.025575</td>\n",
       "      <td>0.039015</td>\n",
       "    </tr>\n",
       "    <tr>\n",
       "      <th>11</th>\n",
       "      <td>13943.080000</td>\n",
       "      <td>913</td>\n",
       "      <td>1305008</td>\n",
       "      <td>1069908</td>\n",
       "      <td>12000</td>\n",
       "      <td>0.1269</td>\n",
       "      <td>402.54</td>\n",
       "      <td>20</td>\n",
       "      <td>OWN</td>\n",
       "      <td>B</td>\n",
       "      <td>...</td>\n",
       "      <td>0</td>\n",
       "      <td>23336</td>\n",
       "      <td>12</td>\n",
       "      <td>0</td>\n",
       "      <td>0</td>\n",
       "      <td>1989-10-23</td>\n",
       "      <td>2013-08-23</td>\n",
       "      <td>0.471147</td>\n",
       "      <td>0.064406</td>\n",
       "      <td>0.139082</td>\n",
       "    </tr>\n",
       "    <tr>\n",
       "      <th>12</th>\n",
       "      <td>2270.700000</td>\n",
       "      <td>245</td>\n",
       "      <td>1298717</td>\n",
       "      <td>1064687</td>\n",
       "      <td>9000</td>\n",
       "      <td>0.1349</td>\n",
       "      <td>305.38</td>\n",
       "      <td>0</td>\n",
       "      <td>RENT</td>\n",
       "      <td>C</td>\n",
       "      <td>...</td>\n",
       "      <td>0</td>\n",
       "      <td>10452</td>\n",
       "      <td>4</td>\n",
       "      <td>0</td>\n",
       "      <td>0</td>\n",
       "      <td>2004-04-23</td>\n",
       "      <td>2012-11-23</td>\n",
       "      <td>0.648400</td>\n",
       "      <td>0.122152</td>\n",
       "      <td>0.205768</td>\n",
       "    </tr>\n",
       "    <tr>\n",
       "      <th>13</th>\n",
       "      <td>3478.981915</td>\n",
       "      <td>606</td>\n",
       "      <td>1304956</td>\n",
       "      <td>1069866</td>\n",
       "      <td>3000</td>\n",
       "      <td>0.0991</td>\n",
       "      <td>96.68</td>\n",
       "      <td>3</td>\n",
       "      <td>RENT</td>\n",
       "      <td>B</td>\n",
       "      <td>...</td>\n",
       "      <td>0</td>\n",
       "      <td>7323</td>\n",
       "      <td>11</td>\n",
       "      <td>0</td>\n",
       "      <td>0</td>\n",
       "      <td>2003-07-23</td>\n",
       "      <td>2015-09-23</td>\n",
       "      <td>0.688200</td>\n",
       "      <td>0.077344</td>\n",
       "      <td>0.194512</td>\n",
       "    </tr>\n",
       "    <tr>\n",
       "      <th>14</th>\n",
       "      <td>7471.990000</td>\n",
       "      <td>951</td>\n",
       "      <td>1303503</td>\n",
       "      <td>1069057</td>\n",
       "      <td>10000</td>\n",
       "      <td>0.1065</td>\n",
       "      <td>325.74</td>\n",
       "      <td>3</td>\n",
       "      <td>RENT</td>\n",
       "      <td>B</td>\n",
       "      <td>...</td>\n",
       "      <td>0</td>\n",
       "      <td>11997</td>\n",
       "      <td>14</td>\n",
       "      <td>0</td>\n",
       "      <td>0</td>\n",
       "      <td>1991-05-23</td>\n",
       "      <td>2014-03-23</td>\n",
       "      <td>0.219970</td>\n",
       "      <td>0.039089</td>\n",
       "      <td>0.067882</td>\n",
       "    </tr>\n",
       "    <tr>\n",
       "      <th>15</th>\n",
       "      <td>1270.171106</td>\n",
       "      <td>641</td>\n",
       "      <td>1304871</td>\n",
       "      <td>1069759</td>\n",
       "      <td>1000</td>\n",
       "      <td>0.1629</td>\n",
       "      <td>35.31</td>\n",
       "      <td>0</td>\n",
       "      <td>RENT</td>\n",
       "      <td>D</td>\n",
       "      <td>...</td>\n",
       "      <td>0</td>\n",
       "      <td>6524</td>\n",
       "      <td>11</td>\n",
       "      <td>0</td>\n",
       "      <td>0</td>\n",
       "      <td>2007-09-23</td>\n",
       "      <td>2014-12-23</td>\n",
       "      <td>0.268714</td>\n",
       "      <td>0.015133</td>\n",
       "      <td>0.071053</td>\n",
       "    </tr>\n",
       "    <tr>\n",
       "      <th>16</th>\n",
       "      <td>12519.260450</td>\n",
       "      <td>921</td>\n",
       "      <td>1299699</td>\n",
       "      <td>1065775</td>\n",
       "      <td>10000</td>\n",
       "      <td>0.1527</td>\n",
       "      <td>347.98</td>\n",
       "      <td>4</td>\n",
       "      <td>RENT</td>\n",
       "      <td>C</td>\n",
       "      <td>...</td>\n",
       "      <td>0</td>\n",
       "      <td>24043</td>\n",
       "      <td>14</td>\n",
       "      <td>0</td>\n",
       "      <td>0</td>\n",
       "      <td>1998-10-23</td>\n",
       "      <td>2015-04-23</td>\n",
       "      <td>0.810548</td>\n",
       "      <td>0.099423</td>\n",
       "      <td>0.236811</td>\n",
       "    </tr>\n",
       "    <tr>\n",
       "      <th>17</th>\n",
       "      <td>3785.020000</td>\n",
       "      <td>67</td>\n",
       "      <td>1304884</td>\n",
       "      <td>1069971</td>\n",
       "      <td>3600</td>\n",
       "      <td>0.0603</td>\n",
       "      <td>109.57</td>\n",
       "      <td>20</td>\n",
       "      <td>MORTGAGE</td>\n",
       "      <td>A</td>\n",
       "      <td>...</td>\n",
       "      <td>0</td>\n",
       "      <td>22836</td>\n",
       "      <td>20</td>\n",
       "      <td>0</td>\n",
       "      <td>0</td>\n",
       "      <td>1993-08-23</td>\n",
       "      <td>2014-05-23</td>\n",
       "      <td>0.240327</td>\n",
       "      <td>0.011953</td>\n",
       "      <td>0.061777</td>\n",
       "    </tr>\n",
       "    <tr>\n",
       "      <th>18</th>\n",
       "      <td>7164.499852</td>\n",
       "      <td>890</td>\n",
       "      <td>1294539</td>\n",
       "      <td>1062474</td>\n",
       "      <td>6000</td>\n",
       "      <td>0.1171</td>\n",
       "      <td>198.46</td>\n",
       "      <td>1</td>\n",
       "      <td>MORTGAGE</td>\n",
       "      <td>B</td>\n",
       "      <td>...</td>\n",
       "      <td>0</td>\n",
       "      <td>0</td>\n",
       "      <td>4</td>\n",
       "      <td>0</td>\n",
       "      <td>2</td>\n",
       "      <td>2003-10-23</td>\n",
       "      <td>2015-07-23</td>\n",
       "      <td>0.071429</td>\n",
       "      <td>0.028351</td>\n",
       "      <td>0.028351</td>\n",
       "    </tr>\n",
       "    <tr>\n",
       "      <th>19</th>\n",
       "      <td>9459.960000</td>\n",
       "      <td>921</td>\n",
       "      <td>1304855</td>\n",
       "      <td>1069742</td>\n",
       "      <td>9200</td>\n",
       "      <td>0.0603</td>\n",
       "      <td>280.01</td>\n",
       "      <td>6</td>\n",
       "      <td>RENT</td>\n",
       "      <td>A</td>\n",
       "      <td>...</td>\n",
       "      <td>0</td>\n",
       "      <td>7314</td>\n",
       "      <td>8</td>\n",
       "      <td>0</td>\n",
       "      <td>0</td>\n",
       "      <td>2001-01-23</td>\n",
       "      <td>2012-07-23</td>\n",
       "      <td>0.213400</td>\n",
       "      <td>0.043421</td>\n",
       "      <td>0.066104</td>\n",
       "    </tr>\n",
       "    <tr>\n",
       "      <th>20</th>\n",
       "      <td>27663.042671</td>\n",
       "      <td>770</td>\n",
       "      <td>1284848</td>\n",
       "      <td>1069740</td>\n",
       "      <td>20250</td>\n",
       "      <td>0.1527</td>\n",
       "      <td>484.63</td>\n",
       "      <td>3</td>\n",
       "      <td>RENT</td>\n",
       "      <td>C</td>\n",
       "      <td>...</td>\n",
       "      <td>0</td>\n",
       "      <td>17813</td>\n",
       "      <td>8</td>\n",
       "      <td>0</td>\n",
       "      <td>0</td>\n",
       "      <td>1997-11-23</td>\n",
       "      <td>2015-09-23</td>\n",
       "      <td>0.877634</td>\n",
       "      <td>0.134092</td>\n",
       "      <td>0.232665</td>\n",
       "    </tr>\n",
       "    <tr>\n",
       "      <th>21</th>\n",
       "      <td>14025.400000</td>\n",
       "      <td>335</td>\n",
       "      <td>1269083</td>\n",
       "      <td>1039153</td>\n",
       "      <td>21000</td>\n",
       "      <td>0.1242</td>\n",
       "      <td>701.73</td>\n",
       "      <td>20</td>\n",
       "      <td>RENT</td>\n",
       "      <td>B</td>\n",
       "      <td>...</td>\n",
       "      <td>0</td>\n",
       "      <td>32135</td>\n",
       "      <td>7</td>\n",
       "      <td>0</td>\n",
       "      <td>0</td>\n",
       "      <td>1983-02-23</td>\n",
       "      <td>2013-12-23</td>\n",
       "      <td>0.506048</td>\n",
       "      <td>0.080198</td>\n",
       "      <td>0.153649</td>\n",
       "    </tr>\n",
       "    <tr>\n",
       "      <th>22</th>\n",
       "      <td>11902.561575</td>\n",
       "      <td>799</td>\n",
       "      <td>1304821</td>\n",
       "      <td>1069710</td>\n",
       "      <td>10000</td>\n",
       "      <td>0.1171</td>\n",
       "      <td>330.76</td>\n",
       "      <td>20</td>\n",
       "      <td>OWN</td>\n",
       "      <td>B</td>\n",
       "      <td>...</td>\n",
       "      <td>0</td>\n",
       "      <td>10056</td>\n",
       "      <td>8</td>\n",
       "      <td>0</td>\n",
       "      <td>0</td>\n",
       "      <td>1985-07-23</td>\n",
       "      <td>2015-09-23</td>\n",
       "      <td>0.401120</td>\n",
       "      <td>0.079382</td>\n",
       "      <td>0.127651</td>\n",
       "    </tr>\n",
       "    <tr>\n",
       "      <th>23</th>\n",
       "      <td>11536.310000</td>\n",
       "      <td>917</td>\n",
       "      <td>1304810</td>\n",
       "      <td>1069700</td>\n",
       "      <td>10000</td>\n",
       "      <td>0.1171</td>\n",
       "      <td>330.76</td>\n",
       "      <td>5</td>\n",
       "      <td>RENT</td>\n",
       "      <td>B</td>\n",
       "      <td>...</td>\n",
       "      <td>0</td>\n",
       "      <td>17800</td>\n",
       "      <td>6</td>\n",
       "      <td>0</td>\n",
       "      <td>0</td>\n",
       "      <td>2003-04-23</td>\n",
       "      <td>2014-03-23</td>\n",
       "      <td>0.556000</td>\n",
       "      <td>0.079382</td>\n",
       "      <td>0.164822</td>\n",
       "    </tr>\n",
       "    <tr>\n",
       "      <th>24</th>\n",
       "      <td>2050.140000</td>\n",
       "      <td>900</td>\n",
       "      <td>1304634</td>\n",
       "      <td>1069559</td>\n",
       "      <td>6000</td>\n",
       "      <td>0.1171</td>\n",
       "      <td>198.46</td>\n",
       "      <td>1</td>\n",
       "      <td>RENT</td>\n",
       "      <td>B</td>\n",
       "      <td>...</td>\n",
       "      <td>0</td>\n",
       "      <td>5963</td>\n",
       "      <td>7</td>\n",
       "      <td>0</td>\n",
       "      <td>0</td>\n",
       "      <td>2001-06-23</td>\n",
       "      <td>2013-03-23</td>\n",
       "      <td>0.157408</td>\n",
       "      <td>0.031336</td>\n",
       "      <td>0.050166</td>\n",
       "    </tr>\n",
       "    <tr>\n",
       "      <th>25</th>\n",
       "      <td>15823.480000</td>\n",
       "      <td>605</td>\n",
       "      <td>1273773</td>\n",
       "      <td>1069697</td>\n",
       "      <td>15000</td>\n",
       "      <td>0.0991</td>\n",
       "      <td>483.38</td>\n",
       "      <td>2</td>\n",
       "      <td>MORTGAGE</td>\n",
       "      <td>B</td>\n",
       "      <td>...</td>\n",
       "      <td>0</td>\n",
       "      <td>13707</td>\n",
       "      <td>8</td>\n",
       "      <td>0</td>\n",
       "      <td>0</td>\n",
       "      <td>2002-02-23</td>\n",
       "      <td>2012-09-23</td>\n",
       "      <td>0.312033</td>\n",
       "      <td>0.063050</td>\n",
       "      <td>0.098807</td>\n",
       "    </tr>\n",
       "    <tr>\n",
       "      <th>26</th>\n",
       "      <td>0.000000</td>\n",
       "      <td>103</td>\n",
       "      <td>1304679</td>\n",
       "      <td>1069800</td>\n",
       "      <td>15000</td>\n",
       "      <td>0.1427</td>\n",
       "      <td>514.64</td>\n",
       "      <td>9</td>\n",
       "      <td>RENT</td>\n",
       "      <td>C</td>\n",
       "      <td>...</td>\n",
       "      <td>0</td>\n",
       "      <td>5872</td>\n",
       "      <td>7</td>\n",
       "      <td>0</td>\n",
       "      <td>0</td>\n",
       "      <td>2003-10-23</td>\n",
       "      <td>2012-05-23</td>\n",
       "      <td>0.347867</td>\n",
       "      <td>0.102928</td>\n",
       "      <td>0.126416</td>\n",
       "    </tr>\n",
       "    <tr>\n",
       "      <th>27</th>\n",
       "      <td>1609.120000</td>\n",
       "      <td>150</td>\n",
       "      <td>1304764</td>\n",
       "      <td>1069657</td>\n",
       "      <td>5000</td>\n",
       "      <td>0.1677</td>\n",
       "      <td>123.65</td>\n",
       "      <td>2</td>\n",
       "      <td>RENT</td>\n",
       "      <td>D</td>\n",
       "      <td>...</td>\n",
       "      <td>0</td>\n",
       "      <td>4345</td>\n",
       "      <td>14</td>\n",
       "      <td>0</td>\n",
       "      <td>3</td>\n",
       "      <td>2003-10-23</td>\n",
       "      <td>2013-05-23</td>\n",
       "      <td>0.186885</td>\n",
       "      <td>0.029674</td>\n",
       "      <td>0.050528</td>\n",
       "    </tr>\n",
       "    <tr>\n",
       "      <th>28</th>\n",
       "      <td>4484.790000</td>\n",
       "      <td>326</td>\n",
       "      <td>1304678</td>\n",
       "      <td>1069799</td>\n",
       "      <td>4000</td>\n",
       "      <td>0.1171</td>\n",
       "      <td>132.31</td>\n",
       "      <td>20</td>\n",
       "      <td>MORTGAGE</td>\n",
       "      <td>B</td>\n",
       "      <td>...</td>\n",
       "      <td>0</td>\n",
       "      <td>6110</td>\n",
       "      <td>12</td>\n",
       "      <td>0</td>\n",
       "      <td>1</td>\n",
       "      <td>1984-08-23</td>\n",
       "      <td>2015-09-23</td>\n",
       "      <td>0.095377</td>\n",
       "      <td>0.014978</td>\n",
       "      <td>0.028812</td>\n",
       "    </tr>\n",
       "    <tr>\n",
       "      <th>29</th>\n",
       "      <td>10122.208614</td>\n",
       "      <td>564</td>\n",
       "      <td>1278806</td>\n",
       "      <td>1047704</td>\n",
       "      <td>8500</td>\n",
       "      <td>0.1171</td>\n",
       "      <td>281.15</td>\n",
       "      <td>0</td>\n",
       "      <td>RENT</td>\n",
       "      <td>B</td>\n",
       "      <td>...</td>\n",
       "      <td>0</td>\n",
       "      <td>6441</td>\n",
       "      <td>8</td>\n",
       "      <td>0</td>\n",
       "      <td>0</td>\n",
       "      <td>2006-11-23</td>\n",
       "      <td>2015-01-23</td>\n",
       "      <td>0.597640</td>\n",
       "      <td>0.134952</td>\n",
       "      <td>0.196786</td>\n",
       "    </tr>\n",
       "    <tr>\n",
       "      <th>...</th>\n",
       "      <td>...</td>\n",
       "      <td>...</td>\n",
       "      <td>...</td>\n",
       "      <td>...</td>\n",
       "      <td>...</td>\n",
       "      <td>...</td>\n",
       "      <td>...</td>\n",
       "      <td>...</td>\n",
       "      <td>...</td>\n",
       "      <td>...</td>\n",
       "      <td>...</td>\n",
       "      <td>...</td>\n",
       "      <td>...</td>\n",
       "      <td>...</td>\n",
       "      <td>...</td>\n",
       "      <td>...</td>\n",
       "      <td>...</td>\n",
       "      <td>...</td>\n",
       "      <td>...</td>\n",
       "      <td>...</td>\n",
       "      <td>...</td>\n",
       "    </tr>\n",
       "    <tr>\n",
       "      <th>180070</th>\n",
       "      <td>17196.520000</td>\n",
       "      <td>170</td>\n",
       "      <td>39803931</td>\n",
       "      <td>37041208</td>\n",
       "      <td>17000</td>\n",
       "      <td>0.1599</td>\n",
       "      <td>413.32</td>\n",
       "      <td>20</td>\n",
       "      <td>MORTGAGE</td>\n",
       "      <td>D</td>\n",
       "      <td>...</td>\n",
       "      <td>0</td>\n",
       "      <td>11063</td>\n",
       "      <td>8</td>\n",
       "      <td>0</td>\n",
       "      <td>0</td>\n",
       "      <td>1999-09-23</td>\n",
       "      <td>2015-02-23</td>\n",
       "      <td>0.444894</td>\n",
       "      <td>0.078630</td>\n",
       "      <td>0.120723</td>\n",
       "    </tr>\n",
       "    <tr>\n",
       "      <th>180071</th>\n",
       "      <td>1026.020000</td>\n",
       "      <td>810</td>\n",
       "      <td>39486112</td>\n",
       "      <td>36743377</td>\n",
       "      <td>4200</td>\n",
       "      <td>0.1599</td>\n",
       "      <td>147.64</td>\n",
       "      <td>20</td>\n",
       "      <td>MORTGAGE</td>\n",
       "      <td>D</td>\n",
       "      <td>...</td>\n",
       "      <td>0</td>\n",
       "      <td>12943</td>\n",
       "      <td>13</td>\n",
       "      <td>0</td>\n",
       "      <td>0</td>\n",
       "      <td>1990-08-23</td>\n",
       "      <td>2015-09-23</td>\n",
       "      <td>0.357146</td>\n",
       "      <td>0.036910</td>\n",
       "      <td>0.101625</td>\n",
       "    </tr>\n",
       "    <tr>\n",
       "      <th>180072</th>\n",
       "      <td>1887.250000</td>\n",
       "      <td>925</td>\n",
       "      <td>39232937</td>\n",
       "      <td>36500819</td>\n",
       "      <td>10300</td>\n",
       "      <td>0.1366</td>\n",
       "      <td>237.86</td>\n",
       "      <td>20</td>\n",
       "      <td>RENT</td>\n",
       "      <td>C</td>\n",
       "      <td>...</td>\n",
       "      <td>0</td>\n",
       "      <td>10260</td>\n",
       "      <td>13</td>\n",
       "      <td>0</td>\n",
       "      <td>1</td>\n",
       "      <td>2002-08-23</td>\n",
       "      <td>2015-09-23</td>\n",
       "      <td>0.219658</td>\n",
       "      <td>0.030495</td>\n",
       "      <td>0.056803</td>\n",
       "    </tr>\n",
       "    <tr>\n",
       "      <th>180073</th>\n",
       "      <td>4924.150000</td>\n",
       "      <td>325</td>\n",
       "      <td>39434133</td>\n",
       "      <td>36691397</td>\n",
       "      <td>20000</td>\n",
       "      <td>0.0699</td>\n",
       "      <td>617.46</td>\n",
       "      <td>2</td>\n",
       "      <td>MORTGAGE</td>\n",
       "      <td>A</td>\n",
       "      <td>...</td>\n",
       "      <td>0</td>\n",
       "      <td>21100</td>\n",
       "      <td>15</td>\n",
       "      <td>0</td>\n",
       "      <td>0</td>\n",
       "      <td>1998-03-23</td>\n",
       "      <td>2015-09-23</td>\n",
       "      <td>0.570833</td>\n",
       "      <td>0.102910</td>\n",
       "      <td>0.173243</td>\n",
       "    </tr>\n",
       "    <tr>\n",
       "      <th>180074</th>\n",
       "      <td>3965.220000</td>\n",
       "      <td>209</td>\n",
       "      <td>38942474</td>\n",
       "      <td>36231083</td>\n",
       "      <td>15000</td>\n",
       "      <td>0.1199</td>\n",
       "      <td>498.15</td>\n",
       "      <td>0</td>\n",
       "      <td>RENT</td>\n",
       "      <td>B</td>\n",
       "      <td>...</td>\n",
       "      <td>0</td>\n",
       "      <td>9508</td>\n",
       "      <td>8</td>\n",
       "      <td>0</td>\n",
       "      <td>0</td>\n",
       "      <td>2006-12-23</td>\n",
       "      <td>2015-09-23</td>\n",
       "      <td>0.350114</td>\n",
       "      <td>0.085397</td>\n",
       "      <td>0.117996</td>\n",
       "    </tr>\n",
       "    <tr>\n",
       "      <th>180075</th>\n",
       "      <td>3256.330000</td>\n",
       "      <td>176</td>\n",
       "      <td>39374138</td>\n",
       "      <td>36631385</td>\n",
       "      <td>13000</td>\n",
       "      <td>0.0819</td>\n",
       "      <td>408.52</td>\n",
       "      <td>20</td>\n",
       "      <td>MORTGAGE</td>\n",
       "      <td>A</td>\n",
       "      <td>...</td>\n",
       "      <td>0</td>\n",
       "      <td>6646</td>\n",
       "      <td>8</td>\n",
       "      <td>0</td>\n",
       "      <td>1</td>\n",
       "      <td>1996-06-23</td>\n",
       "      <td>2015-09-23</td>\n",
       "      <td>0.231129</td>\n",
       "      <td>0.057673</td>\n",
       "      <td>0.076439</td>\n",
       "    </tr>\n",
       "    <tr>\n",
       "      <th>180076</th>\n",
       "      <td>2616.450000</td>\n",
       "      <td>339</td>\n",
       "      <td>39103231</td>\n",
       "      <td>36371802</td>\n",
       "      <td>15000</td>\n",
       "      <td>0.1144</td>\n",
       "      <td>329.44</td>\n",
       "      <td>4</td>\n",
       "      <td>RENT</td>\n",
       "      <td>B</td>\n",
       "      <td>...</td>\n",
       "      <td>0</td>\n",
       "      <td>14848</td>\n",
       "      <td>8</td>\n",
       "      <td>0</td>\n",
       "      <td>0</td>\n",
       "      <td>1989-01-23</td>\n",
       "      <td>2015-09-23</td>\n",
       "      <td>0.523649</td>\n",
       "      <td>0.069356</td>\n",
       "      <td>0.131874</td>\n",
       "    </tr>\n",
       "    <tr>\n",
       "      <th>180077</th>\n",
       "      <td>4394.720000</td>\n",
       "      <td>597</td>\n",
       "      <td>39182359</td>\n",
       "      <td>36460697</td>\n",
       "      <td>23000</td>\n",
       "      <td>0.1559</td>\n",
       "      <td>554.32</td>\n",
       "      <td>20</td>\n",
       "      <td>MORTGAGE</td>\n",
       "      <td>D</td>\n",
       "      <td>...</td>\n",
       "      <td>0</td>\n",
       "      <td>41546</td>\n",
       "      <td>13</td>\n",
       "      <td>0</td>\n",
       "      <td>0</td>\n",
       "      <td>1994-12-23</td>\n",
       "      <td>2015-09-23</td>\n",
       "      <td>1.290920</td>\n",
       "      <td>0.133037</td>\n",
       "      <td>0.332458</td>\n",
       "    </tr>\n",
       "    <tr>\n",
       "      <th>180078</th>\n",
       "      <td>3750.410000</td>\n",
       "      <td>412</td>\n",
       "      <td>38468842</td>\n",
       "      <td>35773415</td>\n",
       "      <td>18700</td>\n",
       "      <td>0.1786</td>\n",
       "      <td>473.44</td>\n",
       "      <td>20</td>\n",
       "      <td>RENT</td>\n",
       "      <td>D</td>\n",
       "      <td>...</td>\n",
       "      <td>0</td>\n",
       "      <td>7710</td>\n",
       "      <td>8</td>\n",
       "      <td>0</td>\n",
       "      <td>0</td>\n",
       "      <td>2002-07-23</td>\n",
       "      <td>2015-09-23</td>\n",
       "      <td>0.507885</td>\n",
       "      <td>0.109255</td>\n",
       "      <td>0.144840</td>\n",
       "    </tr>\n",
       "    <tr>\n",
       "      <th>180079</th>\n",
       "      <td>1720.090000</td>\n",
       "      <td>308</td>\n",
       "      <td>38962184</td>\n",
       "      <td>36250801</td>\n",
       "      <td>6000</td>\n",
       "      <td>0.1786</td>\n",
       "      <td>216.50</td>\n",
       "      <td>20</td>\n",
       "      <td>MORTGAGE</td>\n",
       "      <td>D</td>\n",
       "      <td>...</td>\n",
       "      <td>0</td>\n",
       "      <td>6707</td>\n",
       "      <td>9</td>\n",
       "      <td>0</td>\n",
       "      <td>0</td>\n",
       "      <td>2001-06-23</td>\n",
       "      <td>2015-09-23</td>\n",
       "      <td>0.141189</td>\n",
       "      <td>0.028867</td>\n",
       "      <td>0.046752</td>\n",
       "    </tr>\n",
       "    <tr>\n",
       "      <th>180080</th>\n",
       "      <td>6750.520000</td>\n",
       "      <td>840</td>\n",
       "      <td>39042967</td>\n",
       "      <td>36331554</td>\n",
       "      <td>26950</td>\n",
       "      <td>0.0819</td>\n",
       "      <td>846.88</td>\n",
       "      <td>NaN</td>\n",
       "      <td>RENT</td>\n",
       "      <td>A</td>\n",
       "      <td>...</td>\n",
       "      <td>0</td>\n",
       "      <td>32167</td>\n",
       "      <td>14</td>\n",
       "      <td>0</td>\n",
       "      <td>0</td>\n",
       "      <td>1993-06-23</td>\n",
       "      <td>2015-09-23</td>\n",
       "      <td>1.094759</td>\n",
       "      <td>0.188196</td>\n",
       "      <td>0.331160</td>\n",
       "    </tr>\n",
       "    <tr>\n",
       "      <th>180081</th>\n",
       "      <td>4341.430000</td>\n",
       "      <td>138</td>\n",
       "      <td>39093260</td>\n",
       "      <td>36361815</td>\n",
       "      <td>26500</td>\n",
       "      <td>0.0867</td>\n",
       "      <td>545.87</td>\n",
       "      <td>20</td>\n",
       "      <td>MORTGAGE</td>\n",
       "      <td>B</td>\n",
       "      <td>...</td>\n",
       "      <td>0</td>\n",
       "      <td>75645</td>\n",
       "      <td>10</td>\n",
       "      <td>0</td>\n",
       "      <td>1</td>\n",
       "      <td>1983-08-23</td>\n",
       "      <td>2015-09-23</td>\n",
       "      <td>1.110272</td>\n",
       "      <td>0.071200</td>\n",
       "      <td>0.268535</td>\n",
       "    </tr>\n",
       "    <tr>\n",
       "      <th>180082</th>\n",
       "      <td>4818.140000</td>\n",
       "      <td>282</td>\n",
       "      <td>39152101</td>\n",
       "      <td>36440728</td>\n",
       "      <td>25000</td>\n",
       "      <td>0.1599</td>\n",
       "      <td>607.82</td>\n",
       "      <td>3</td>\n",
       "      <td>RENT</td>\n",
       "      <td>D</td>\n",
       "      <td>...</td>\n",
       "      <td>0</td>\n",
       "      <td>17275</td>\n",
       "      <td>5</td>\n",
       "      <td>0</td>\n",
       "      <td>0</td>\n",
       "      <td>2003-05-23</td>\n",
       "      <td>2015-09-23</td>\n",
       "      <td>0.410437</td>\n",
       "      <td>0.070814</td>\n",
       "      <td>0.111066</td>\n",
       "    </tr>\n",
       "    <tr>\n",
       "      <th>180083</th>\n",
       "      <td>4776.850000</td>\n",
       "      <td>550</td>\n",
       "      <td>38288343</td>\n",
       "      <td>35591131</td>\n",
       "      <td>25000</td>\n",
       "      <td>0.1559</td>\n",
       "      <td>602.52</td>\n",
       "      <td>NaN</td>\n",
       "      <td>OWN</td>\n",
       "      <td>D</td>\n",
       "      <td>...</td>\n",
       "      <td>0</td>\n",
       "      <td>13860</td>\n",
       "      <td>9</td>\n",
       "      <td>0</td>\n",
       "      <td>0</td>\n",
       "      <td>2003-05-23</td>\n",
       "      <td>2015-09-23</td>\n",
       "      <td>0.706545</td>\n",
       "      <td>0.131459</td>\n",
       "      <td>0.191939</td>\n",
       "    </tr>\n",
       "    <tr>\n",
       "      <th>180084</th>\n",
       "      <td>2003.920000</td>\n",
       "      <td>871</td>\n",
       "      <td>39013193</td>\n",
       "      <td>36381756</td>\n",
       "      <td>8000</td>\n",
       "      <td>0.0819</td>\n",
       "      <td>251.40</td>\n",
       "      <td>9</td>\n",
       "      <td>MORTGAGE</td>\n",
       "      <td>A</td>\n",
       "      <td>...</td>\n",
       "      <td>0</td>\n",
       "      <td>4611</td>\n",
       "      <td>11</td>\n",
       "      <td>0</td>\n",
       "      <td>0</td>\n",
       "      <td>2003-09-23</td>\n",
       "      <td>2015-09-23</td>\n",
       "      <td>0.252220</td>\n",
       "      <td>0.060336</td>\n",
       "      <td>0.082469</td>\n",
       "    </tr>\n",
       "    <tr>\n",
       "      <th>180085</th>\n",
       "      <td>5099.130000</td>\n",
       "      <td>21</td>\n",
       "      <td>38913321</td>\n",
       "      <td>36201871</td>\n",
       "      <td>21000</td>\n",
       "      <td>0.0603</td>\n",
       "      <td>639.15</td>\n",
       "      <td>20</td>\n",
       "      <td>MORTGAGE</td>\n",
       "      <td>A</td>\n",
       "      <td>...</td>\n",
       "      <td>0</td>\n",
       "      <td>23356</td>\n",
       "      <td>11</td>\n",
       "      <td>0</td>\n",
       "      <td>0</td>\n",
       "      <td>1994-10-23</td>\n",
       "      <td>2015-09-23</td>\n",
       "      <td>0.682400</td>\n",
       "      <td>0.117997</td>\n",
       "      <td>0.204234</td>\n",
       "    </tr>\n",
       "    <tr>\n",
       "      <th>180086</th>\n",
       "      <td>1751.550000</td>\n",
       "      <td>330</td>\n",
       "      <td>38952731</td>\n",
       "      <td>36241316</td>\n",
       "      <td>6225</td>\n",
       "      <td>0.1649</td>\n",
       "      <td>220.37</td>\n",
       "      <td>2</td>\n",
       "      <td>RENT</td>\n",
       "      <td>D</td>\n",
       "      <td>...</td>\n",
       "      <td>0</td>\n",
       "      <td>1756</td>\n",
       "      <td>3</td>\n",
       "      <td>0</td>\n",
       "      <td>0</td>\n",
       "      <td>2011-02-23</td>\n",
       "      <td>2015-09-23</td>\n",
       "      <td>0.295593</td>\n",
       "      <td>0.097942</td>\n",
       "      <td>0.113551</td>\n",
       "    </tr>\n",
       "    <tr>\n",
       "      <th>180087</th>\n",
       "      <td>2444.390000</td>\n",
       "      <td>333</td>\n",
       "      <td>39023153</td>\n",
       "      <td>36301729</td>\n",
       "      <td>10000</td>\n",
       "      <td>0.0649</td>\n",
       "      <td>306.45</td>\n",
       "      <td>1</td>\n",
       "      <td>RENT</td>\n",
       "      <td>A</td>\n",
       "      <td>...</td>\n",
       "      <td>0</td>\n",
       "      <td>10529</td>\n",
       "      <td>9</td>\n",
       "      <td>0</td>\n",
       "      <td>0</td>\n",
       "      <td>2000-03-23</td>\n",
       "      <td>2015-09-23</td>\n",
       "      <td>0.273720</td>\n",
       "      <td>0.049032</td>\n",
       "      <td>0.082725</td>\n",
       "    </tr>\n",
       "    <tr>\n",
       "      <th>180088</th>\n",
       "      <td>3062.070000</td>\n",
       "      <td>891</td>\n",
       "      <td>38943173</td>\n",
       "      <td>36231724</td>\n",
       "      <td>12000</td>\n",
       "      <td>0.0949</td>\n",
       "      <td>384.34</td>\n",
       "      <td>4</td>\n",
       "      <td>RENT</td>\n",
       "      <td>B</td>\n",
       "      <td>...</td>\n",
       "      <td>0</td>\n",
       "      <td>8731</td>\n",
       "      <td>8</td>\n",
       "      <td>0</td>\n",
       "      <td>1</td>\n",
       "      <td>2006-10-23</td>\n",
       "      <td>2015-09-23</td>\n",
       "      <td>0.518275</td>\n",
       "      <td>0.115302</td>\n",
       "      <td>0.167688</td>\n",
       "    </tr>\n",
       "    <tr>\n",
       "      <th>180089</th>\n",
       "      <td>11071.870000</td>\n",
       "      <td>325</td>\n",
       "      <td>38943165</td>\n",
       "      <td>36231718</td>\n",
       "      <td>10775</td>\n",
       "      <td>0.0603</td>\n",
       "      <td>327.95</td>\n",
       "      <td>0</td>\n",
       "      <td>RENT</td>\n",
       "      <td>A</td>\n",
       "      <td>...</td>\n",
       "      <td>0</td>\n",
       "      <td>10776</td>\n",
       "      <td>9</td>\n",
       "      <td>0</td>\n",
       "      <td>1</td>\n",
       "      <td>1975-11-23</td>\n",
       "      <td>2015-06-23</td>\n",
       "      <td>0.399093</td>\n",
       "      <td>0.072878</td>\n",
       "      <td>0.120771</td>\n",
       "    </tr>\n",
       "    <tr>\n",
       "      <th>180090</th>\n",
       "      <td>2480.260000</td>\n",
       "      <td>286</td>\n",
       "      <td>38961532</td>\n",
       "      <td>36250208</td>\n",
       "      <td>13150</td>\n",
       "      <td>0.1499</td>\n",
       "      <td>312.77</td>\n",
       "      <td>8</td>\n",
       "      <td>MORTGAGE</td>\n",
       "      <td>C</td>\n",
       "      <td>...</td>\n",
       "      <td>0</td>\n",
       "      <td>672</td>\n",
       "      <td>3</td>\n",
       "      <td>0</td>\n",
       "      <td>0</td>\n",
       "      <td>1994-05-23</td>\n",
       "      <td>2015-03-23</td>\n",
       "      <td>0.460733</td>\n",
       "      <td>0.125108</td>\n",
       "      <td>0.130484</td>\n",
       "    </tr>\n",
       "    <tr>\n",
       "      <th>180091</th>\n",
       "      <td>1911.270000</td>\n",
       "      <td>471</td>\n",
       "      <td>39013139</td>\n",
       "      <td>36381704</td>\n",
       "      <td>7000</td>\n",
       "      <td>0.1431</td>\n",
       "      <td>240.30</td>\n",
       "      <td>20</td>\n",
       "      <td>RENT</td>\n",
       "      <td>C</td>\n",
       "      <td>...</td>\n",
       "      <td>2</td>\n",
       "      <td>2684</td>\n",
       "      <td>13</td>\n",
       "      <td>0</td>\n",
       "      <td>2</td>\n",
       "      <td>2006-11-23</td>\n",
       "      <td>2015-09-23</td>\n",
       "      <td>0.169895</td>\n",
       "      <td>0.050589</td>\n",
       "      <td>0.061891</td>\n",
       "    </tr>\n",
       "    <tr>\n",
       "      <th>180092</th>\n",
       "      <td>4158.020000</td>\n",
       "      <td>956</td>\n",
       "      <td>39142898</td>\n",
       "      <td>36421485</td>\n",
       "      <td>4000</td>\n",
       "      <td>0.0867</td>\n",
       "      <td>126.59</td>\n",
       "      <td>20</td>\n",
       "      <td>MORTGAGE</td>\n",
       "      <td>B</td>\n",
       "      <td>...</td>\n",
       "      <td>1</td>\n",
       "      <td>1700</td>\n",
       "      <td>11</td>\n",
       "      <td>0</td>\n",
       "      <td>0</td>\n",
       "      <td>2002-09-23</td>\n",
       "      <td>2015-06-23</td>\n",
       "      <td>0.114000</td>\n",
       "      <td>0.030382</td>\n",
       "      <td>0.038542</td>\n",
       "    </tr>\n",
       "    <tr>\n",
       "      <th>180093</th>\n",
       "      <td>1913.850000</td>\n",
       "      <td>531</td>\n",
       "      <td>37777829</td>\n",
       "      <td>35094480</td>\n",
       "      <td>7500</td>\n",
       "      <td>0.0949</td>\n",
       "      <td>240.22</td>\n",
       "      <td>8</td>\n",
       "      <td>RENT</td>\n",
       "      <td>B</td>\n",
       "      <td>...</td>\n",
       "      <td>1</td>\n",
       "      <td>6361</td>\n",
       "      <td>10</td>\n",
       "      <td>0</td>\n",
       "      <td>0</td>\n",
       "      <td>1994-08-23</td>\n",
       "      <td>2015-09-23</td>\n",
       "      <td>0.346525</td>\n",
       "      <td>0.072066</td>\n",
       "      <td>0.110232</td>\n",
       "    </tr>\n",
       "    <tr>\n",
       "      <th>180094</th>\n",
       "      <td>2396.050000</td>\n",
       "      <td>430</td>\n",
       "      <td>38972123</td>\n",
       "      <td>36260758</td>\n",
       "      <td>10850</td>\n",
       "      <td>0.1924</td>\n",
       "      <td>399.04</td>\n",
       "      <td>NaN</td>\n",
       "      <td>OWN</td>\n",
       "      <td>E</td>\n",
       "      <td>...</td>\n",
       "      <td>0</td>\n",
       "      <td>6987</td>\n",
       "      <td>9</td>\n",
       "      <td>0</td>\n",
       "      <td>0</td>\n",
       "      <td>2002-06-23</td>\n",
       "      <td>2015-09-23</td>\n",
       "      <td>0.557406</td>\n",
       "      <td>0.149640</td>\n",
       "      <td>0.202043</td>\n",
       "    </tr>\n",
       "    <tr>\n",
       "      <th>180095</th>\n",
       "      <td>3172.170000</td>\n",
       "      <td>432</td>\n",
       "      <td>39042282</td>\n",
       "      <td>36330911</td>\n",
       "      <td>12000</td>\n",
       "      <td>0.1199</td>\n",
       "      <td>398.52</td>\n",
       "      <td>0</td>\n",
       "      <td>MORTGAGE</td>\n",
       "      <td>B</td>\n",
       "      <td>...</td>\n",
       "      <td>0</td>\n",
       "      <td>21110</td>\n",
       "      <td>13</td>\n",
       "      <td>0</td>\n",
       "      <td>1</td>\n",
       "      <td>1995-06-23</td>\n",
       "      <td>2015-09-23</td>\n",
       "      <td>0.525556</td>\n",
       "      <td>0.075909</td>\n",
       "      <td>0.156328</td>\n",
       "    </tr>\n",
       "    <tr>\n",
       "      <th>180096</th>\n",
       "      <td>3244.890000</td>\n",
       "      <td>791</td>\n",
       "      <td>38932858</td>\n",
       "      <td>36221446</td>\n",
       "      <td>11575</td>\n",
       "      <td>0.1559</td>\n",
       "      <td>404.61</td>\n",
       "      <td>20</td>\n",
       "      <td>RENT</td>\n",
       "      <td>D</td>\n",
       "      <td>...</td>\n",
       "      <td>0</td>\n",
       "      <td>18266</td>\n",
       "      <td>9</td>\n",
       "      <td>0</td>\n",
       "      <td>0</td>\n",
       "      <td>1999-07-23</td>\n",
       "      <td>2015-09-23</td>\n",
       "      <td>1.174843</td>\n",
       "      <td>0.191154</td>\n",
       "      <td>0.363746</td>\n",
       "    </tr>\n",
       "    <tr>\n",
       "      <th>180097</th>\n",
       "      <td>2643.480000</td>\n",
       "      <td>905</td>\n",
       "      <td>39102635</td>\n",
       "      <td>36371250</td>\n",
       "      <td>10000</td>\n",
       "      <td>0.1199</td>\n",
       "      <td>332.10</td>\n",
       "      <td>8</td>\n",
       "      <td>RENT</td>\n",
       "      <td>B</td>\n",
       "      <td>...</td>\n",
       "      <td>1</td>\n",
       "      <td>14037</td>\n",
       "      <td>9</td>\n",
       "      <td>0</td>\n",
       "      <td>0</td>\n",
       "      <td>2004-09-23</td>\n",
       "      <td>2015-09-23</td>\n",
       "      <td>0.775387</td>\n",
       "      <td>0.128555</td>\n",
       "      <td>0.237228</td>\n",
       "    </tr>\n",
       "    <tr>\n",
       "      <th>180098</th>\n",
       "      <td>6344.270000</td>\n",
       "      <td>72</td>\n",
       "      <td>39152692</td>\n",
       "      <td>36441262</td>\n",
       "      <td>24000</td>\n",
       "      <td>0.1199</td>\n",
       "      <td>797.03</td>\n",
       "      <td>20</td>\n",
       "      <td>MORTGAGE</td>\n",
       "      <td>B</td>\n",
       "      <td>...</td>\n",
       "      <td>0</td>\n",
       "      <td>8621</td>\n",
       "      <td>5</td>\n",
       "      <td>0</td>\n",
       "      <td>0</td>\n",
       "      <td>1974-03-23</td>\n",
       "      <td>2015-09-23</td>\n",
       "      <td>0.412924</td>\n",
       "      <td>0.121068</td>\n",
       "      <td>0.147258</td>\n",
       "    </tr>\n",
       "    <tr>\n",
       "      <th>180099</th>\n",
       "      <td>2516.230000</td>\n",
       "      <td>10</td>\n",
       "      <td>39222577</td>\n",
       "      <td>36490806</td>\n",
       "      <td>12000</td>\n",
       "      <td>0.1999</td>\n",
       "      <td>317.86</td>\n",
       "      <td>1</td>\n",
       "      <td>RENT</td>\n",
       "      <td>E</td>\n",
       "      <td>...</td>\n",
       "      <td>0</td>\n",
       "      <td>8254</td>\n",
       "      <td>17</td>\n",
       "      <td>1</td>\n",
       "      <td>1</td>\n",
       "      <td>2003-10-23</td>\n",
       "      <td>2015-09-23</td>\n",
       "      <td>0.314503</td>\n",
       "      <td>0.059229</td>\n",
       "      <td>0.089989</td>\n",
       "    </tr>\n",
       "  </tbody>\n",
       "</table>\n",
       "<p>643638 rows × 33 columns</p>\n",
       "</div>"
      ],
      "text/plain": [
       "         total_pymnt  zip_code  member_id        id  loan_amnt  int_rate  \\\n",
       "0        5861.071414       860    1296599   1077501       5000    0.1065   \n",
       "1        1008.710000       309    1314167   1077430       2500    0.1527   \n",
       "2        3003.653644       606    1313524   1077175       2400    0.1596   \n",
       "3       12226.302212       917    1277178   1076863      10000    0.1349   \n",
       "4        2971.010000       972    1311748   1075358       3000    0.1269   \n",
       "5        5631.377753       852    1311441   1075269       5000    0.0790   \n",
       "6        7456.520000       280    1304742   1069639       7000    0.1596   \n",
       "7        3938.144334       900    1288686   1072053       3000    0.1864   \n",
       "8         646.020000       958    1306957   1071795       5600    0.2128   \n",
       "9        1476.190000       774    1306721   1071570       5375    0.1269   \n",
       "10       7677.520000       853    1305201   1070078       6500    0.1465   \n",
       "11      13943.080000       913    1305008   1069908      12000    0.1269   \n",
       "12       2270.700000       245    1298717   1064687       9000    0.1349   \n",
       "13       3478.981915       606    1304956   1069866       3000    0.0991   \n",
       "14       7471.990000       951    1303503   1069057      10000    0.1065   \n",
       "15       1270.171106       641    1304871   1069759       1000    0.1629   \n",
       "16      12519.260450       921    1299699   1065775      10000    0.1527   \n",
       "17       3785.020000        67    1304884   1069971       3600    0.0603   \n",
       "18       7164.499852       890    1294539   1062474       6000    0.1171   \n",
       "19       9459.960000       921    1304855   1069742       9200    0.0603   \n",
       "20      27663.042671       770    1284848   1069740      20250    0.1527   \n",
       "21      14025.400000       335    1269083   1039153      21000    0.1242   \n",
       "22      11902.561575       799    1304821   1069710      10000    0.1171   \n",
       "23      11536.310000       917    1304810   1069700      10000    0.1171   \n",
       "24       2050.140000       900    1304634   1069559       6000    0.1171   \n",
       "25      15823.480000       605    1273773   1069697      15000    0.0991   \n",
       "26          0.000000       103    1304679   1069800      15000    0.1427   \n",
       "27       1609.120000       150    1304764   1069657       5000    0.1677   \n",
       "28       4484.790000       326    1304678   1069799       4000    0.1171   \n",
       "29      10122.208614       564    1278806   1047704       8500    0.1171   \n",
       "...              ...       ...        ...       ...        ...       ...   \n",
       "180070  17196.520000       170   39803931  37041208      17000    0.1599   \n",
       "180071   1026.020000       810   39486112  36743377       4200    0.1599   \n",
       "180072   1887.250000       925   39232937  36500819      10300    0.1366   \n",
       "180073   4924.150000       325   39434133  36691397      20000    0.0699   \n",
       "180074   3965.220000       209   38942474  36231083      15000    0.1199   \n",
       "180075   3256.330000       176   39374138  36631385      13000    0.0819   \n",
       "180076   2616.450000       339   39103231  36371802      15000    0.1144   \n",
       "180077   4394.720000       597   39182359  36460697      23000    0.1559   \n",
       "180078   3750.410000       412   38468842  35773415      18700    0.1786   \n",
       "180079   1720.090000       308   38962184  36250801       6000    0.1786   \n",
       "180080   6750.520000       840   39042967  36331554      26950    0.0819   \n",
       "180081   4341.430000       138   39093260  36361815      26500    0.0867   \n",
       "180082   4818.140000       282   39152101  36440728      25000    0.1599   \n",
       "180083   4776.850000       550   38288343  35591131      25000    0.1559   \n",
       "180084   2003.920000       871   39013193  36381756       8000    0.0819   \n",
       "180085   5099.130000        21   38913321  36201871      21000    0.0603   \n",
       "180086   1751.550000       330   38952731  36241316       6225    0.1649   \n",
       "180087   2444.390000       333   39023153  36301729      10000    0.0649   \n",
       "180088   3062.070000       891   38943173  36231724      12000    0.0949   \n",
       "180089  11071.870000       325   38943165  36231718      10775    0.0603   \n",
       "180090   2480.260000       286   38961532  36250208      13150    0.1499   \n",
       "180091   1911.270000       471   39013139  36381704       7000    0.1431   \n",
       "180092   4158.020000       956   39142898  36421485       4000    0.0867   \n",
       "180093   1913.850000       531   37777829  35094480       7500    0.0949   \n",
       "180094   2396.050000       430   38972123  36260758      10850    0.1924   \n",
       "180095   3172.170000       432   39042282  36330911      12000    0.1199   \n",
       "180096   3244.890000       791   38932858  36221446      11575    0.1559   \n",
       "180097   2643.480000       905   39102635  36371250      10000    0.1199   \n",
       "180098   6344.270000        72   39152692  36441262      24000    0.1199   \n",
       "180099   2516.230000        10   39222577  36490806      12000    0.1999   \n",
       "\n",
       "        installment  emp_length home_ownership grade  \\\n",
       "0            162.87          20           RENT     B   \n",
       "1             59.83           0           RENT     C   \n",
       "2             84.33          20           RENT     C   \n",
       "3            339.31          20           RENT     C   \n",
       "4             67.79           1           RENT     B   \n",
       "5            156.46           3           RENT     A   \n",
       "6            170.08           8           RENT     C   \n",
       "7            109.43           9           RENT     E   \n",
       "8            152.39           4            OWN     F   \n",
       "9            121.45           0           RENT     B   \n",
       "10           153.45           5            OWN     C   \n",
       "11           402.54          20            OWN     B   \n",
       "12           305.38           0           RENT     C   \n",
       "13            96.68           3           RENT     B   \n",
       "14           325.74           3           RENT     B   \n",
       "15            35.31           0           RENT     D   \n",
       "16           347.98           4           RENT     C   \n",
       "17           109.57          20       MORTGAGE     A   \n",
       "18           198.46           1       MORTGAGE     B   \n",
       "19           280.01           6           RENT     A   \n",
       "20           484.63           3           RENT     C   \n",
       "21           701.73          20           RENT     B   \n",
       "22           330.76          20            OWN     B   \n",
       "23           330.76           5           RENT     B   \n",
       "24           198.46           1           RENT     B   \n",
       "25           483.38           2       MORTGAGE     B   \n",
       "26           514.64           9           RENT     C   \n",
       "27           123.65           2           RENT     D   \n",
       "28           132.31          20       MORTGAGE     B   \n",
       "29           281.15           0           RENT     B   \n",
       "...             ...         ...            ...   ...   \n",
       "180070       413.32          20       MORTGAGE     D   \n",
       "180071       147.64          20       MORTGAGE     D   \n",
       "180072       237.86          20           RENT     C   \n",
       "180073       617.46           2       MORTGAGE     A   \n",
       "180074       498.15           0           RENT     B   \n",
       "180075       408.52          20       MORTGAGE     A   \n",
       "180076       329.44           4           RENT     B   \n",
       "180077       554.32          20       MORTGAGE     D   \n",
       "180078       473.44          20           RENT     D   \n",
       "180079       216.50          20       MORTGAGE     D   \n",
       "180080       846.88         NaN           RENT     A   \n",
       "180081       545.87          20       MORTGAGE     B   \n",
       "180082       607.82           3           RENT     D   \n",
       "180083       602.52         NaN            OWN     D   \n",
       "180084       251.40           9       MORTGAGE     A   \n",
       "180085       639.15          20       MORTGAGE     A   \n",
       "180086       220.37           2           RENT     D   \n",
       "180087       306.45           1           RENT     A   \n",
       "180088       384.34           4           RENT     B   \n",
       "180089       327.95           0           RENT     A   \n",
       "180090       312.77           8       MORTGAGE     C   \n",
       "180091       240.30          20           RENT     C   \n",
       "180092       126.59          20       MORTGAGE     B   \n",
       "180093       240.22           8           RENT     B   \n",
       "180094       399.04         NaN            OWN     E   \n",
       "180095       398.52           0       MORTGAGE     B   \n",
       "180096       404.61          20           RENT     D   \n",
       "180097       332.10           8           RENT     B   \n",
       "180098       797.03          20       MORTGAGE     B   \n",
       "180099       317.86           1           RENT     E   \n",
       "\n",
       "                   ...              pub_rec revol_bal open_acc  \\\n",
       "0                  ...                    0     13648        3   \n",
       "1                  ...                    0      1687        3   \n",
       "2                  ...                    0      2956        2   \n",
       "3                  ...                    0      5598       10   \n",
       "4                  ...                    0     27783       15   \n",
       "5                  ...                    0      7963        9   \n",
       "6                  ...                    0     17726        7   \n",
       "7                  ...                    0      8221        4   \n",
       "8                  ...                    0      5210       11   \n",
       "9                  ...                    0      9279        2   \n",
       "10                 ...                    0      4032       14   \n",
       "11                 ...                    0     23336       12   \n",
       "12                 ...                    0     10452        4   \n",
       "13                 ...                    0      7323       11   \n",
       "14                 ...                    0     11997       14   \n",
       "15                 ...                    0      6524       11   \n",
       "16                 ...                    0     24043       14   \n",
       "17                 ...                    0     22836       20   \n",
       "18                 ...                    0         0        4   \n",
       "19                 ...                    0      7314        8   \n",
       "20                 ...                    0     17813        8   \n",
       "21                 ...                    0     32135        7   \n",
       "22                 ...                    0     10056        8   \n",
       "23                 ...                    0     17800        6   \n",
       "24                 ...                    0      5963        7   \n",
       "25                 ...                    0     13707        8   \n",
       "26                 ...                    0      5872        7   \n",
       "27                 ...                    0      4345       14   \n",
       "28                 ...                    0      6110       12   \n",
       "29                 ...                    0      6441        8   \n",
       "...                ...                  ...       ...      ...   \n",
       "180070             ...                    0     11063        8   \n",
       "180071             ...                    0     12943       13   \n",
       "180072             ...                    0     10260       13   \n",
       "180073             ...                    0     21100       15   \n",
       "180074             ...                    0      9508        8   \n",
       "180075             ...                    0      6646        8   \n",
       "180076             ...                    0     14848        8   \n",
       "180077             ...                    0     41546       13   \n",
       "180078             ...                    0      7710        8   \n",
       "180079             ...                    0      6707        9   \n",
       "180080             ...                    0     32167       14   \n",
       "180081             ...                    0     75645       10   \n",
       "180082             ...                    0     17275        5   \n",
       "180083             ...                    0     13860        9   \n",
       "180084             ...                    0      4611       11   \n",
       "180085             ...                    0     23356       11   \n",
       "180086             ...                    0      1756        3   \n",
       "180087             ...                    0     10529        9   \n",
       "180088             ...                    0      8731        8   \n",
       "180089             ...                    0     10776        9   \n",
       "180090             ...                    0       672        3   \n",
       "180091             ...                    2      2684       13   \n",
       "180092             ...                    1      1700       11   \n",
       "180093             ...                    1      6361       10   \n",
       "180094             ...                    0      6987        9   \n",
       "180095             ...                    0     21110       13   \n",
       "180096             ...                    0     18266        9   \n",
       "180097             ...                    1     14037        9   \n",
       "180098             ...                    0      8621        5   \n",
       "180099             ...                    0      8254       17   \n",
       "\n",
       "       collections_12_mths_ex_med  delinq_2yrs  earliest_cr_line  \\\n",
       "0                               0            0        1985-01-23   \n",
       "1                               0            0        1999-04-23   \n",
       "2                               0            0        2001-11-23   \n",
       "3                               0            0        1996-02-23   \n",
       "4                               0            0        1996-01-23   \n",
       "5                               0            0        2004-11-23   \n",
       "6                               0            0        2005-07-23   \n",
       "7                               0            0        2007-01-23   \n",
       "8                               0            0        2004-04-23   \n",
       "9                               0            0        2004-09-23   \n",
       "10                              0            0        1998-01-23   \n",
       "11                              0            0        1989-10-23   \n",
       "12                              0            0        2004-04-23   \n",
       "13                              0            0        2003-07-23   \n",
       "14                              0            0        1991-05-23   \n",
       "15                              0            0        2007-09-23   \n",
       "16                              0            0        1998-10-23   \n",
       "17                              0            0        1993-08-23   \n",
       "18                              0            2        2003-10-23   \n",
       "19                              0            0        2001-01-23   \n",
       "20                              0            0        1997-11-23   \n",
       "21                              0            0        1983-02-23   \n",
       "22                              0            0        1985-07-23   \n",
       "23                              0            0        2003-04-23   \n",
       "24                              0            0        2001-06-23   \n",
       "25                              0            0        2002-02-23   \n",
       "26                              0            0        2003-10-23   \n",
       "27                              0            3        2003-10-23   \n",
       "28                              0            1        1984-08-23   \n",
       "29                              0            0        2006-11-23   \n",
       "...                           ...          ...               ...   \n",
       "180070                          0            0        1999-09-23   \n",
       "180071                          0            0        1990-08-23   \n",
       "180072                          0            1        2002-08-23   \n",
       "180073                          0            0        1998-03-23   \n",
       "180074                          0            0        2006-12-23   \n",
       "180075                          0            1        1996-06-23   \n",
       "180076                          0            0        1989-01-23   \n",
       "180077                          0            0        1994-12-23   \n",
       "180078                          0            0        2002-07-23   \n",
       "180079                          0            0        2001-06-23   \n",
       "180080                          0            0        1993-06-23   \n",
       "180081                          0            1        1983-08-23   \n",
       "180082                          0            0        2003-05-23   \n",
       "180083                          0            0        2003-05-23   \n",
       "180084                          0            0        2003-09-23   \n",
       "180085                          0            0        1994-10-23   \n",
       "180086                          0            0        2011-02-23   \n",
       "180087                          0            0        2000-03-23   \n",
       "180088                          0            1        2006-10-23   \n",
       "180089                          0            1        1975-11-23   \n",
       "180090                          0            0        1994-05-23   \n",
       "180091                          0            2        2006-11-23   \n",
       "180092                          0            0        2002-09-23   \n",
       "180093                          0            0        1994-08-23   \n",
       "180094                          0            0        2002-06-23   \n",
       "180095                          0            1        1995-06-23   \n",
       "180096                          0            0        1999-07-23   \n",
       "180097                          0            0        2004-09-23   \n",
       "180098                          0            0        1974-03-23   \n",
       "180099                          1            1        2003-10-23   \n",
       "\n",
       "       last_credit_pull_d ratio_inc_debt  ratio_inc_installment  \\\n",
       "0              2015-01-23       0.777000               0.081435   \n",
       "1              2013-09-23       0.139567               0.023932   \n",
       "2              2015-09-23       0.437153               0.082595   \n",
       "3              2015-01-23       0.317033               0.082759   \n",
       "4              2015-09-23       0.384788               0.010169   \n",
       "5              2015-09-23       0.360083               0.052153   \n",
       "6              2015-09-23       0.526040               0.043421   \n",
       "7              2014-12-23       0.233771               0.027358   \n",
       "8              2012-08-23       0.270250               0.045717   \n",
       "9              2013-03-23       0.976933               0.097160   \n",
       "10             2013-07-23       0.146278               0.025575   \n",
       "11             2013-08-23       0.471147               0.064406   \n",
       "12             2012-11-23       0.648400               0.122152   \n",
       "13             2015-09-23       0.688200               0.077344   \n",
       "14             2014-03-23       0.219970               0.039089   \n",
       "15             2014-12-23       0.268714               0.015133   \n",
       "16             2015-04-23       0.810548               0.099423   \n",
       "17             2014-05-23       0.240327               0.011953   \n",
       "18             2015-07-23       0.071429               0.028351   \n",
       "19             2012-07-23       0.213400               0.043421   \n",
       "20             2015-09-23       0.877634               0.134092   \n",
       "21             2013-12-23       0.506048               0.080198   \n",
       "22             2015-09-23       0.401120               0.079382   \n",
       "23             2014-03-23       0.556000               0.079382   \n",
       "24             2013-03-23       0.157408               0.031336   \n",
       "25             2012-09-23       0.312033               0.063050   \n",
       "26             2012-05-23       0.347867               0.102928   \n",
       "27             2013-05-23       0.186885               0.029674   \n",
       "28             2015-09-23       0.095377               0.014978   \n",
       "29             2015-01-23       0.597640               0.134952   \n",
       "...                   ...            ...                    ...   \n",
       "180070         2015-02-23       0.444894               0.078630   \n",
       "180071         2015-09-23       0.357146               0.036910   \n",
       "180072         2015-09-23       0.219658               0.030495   \n",
       "180073         2015-09-23       0.570833               0.102910   \n",
       "180074         2015-09-23       0.350114               0.085397   \n",
       "180075         2015-09-23       0.231129               0.057673   \n",
       "180076         2015-09-23       0.523649               0.069356   \n",
       "180077         2015-09-23       1.290920               0.133037   \n",
       "180078         2015-09-23       0.507885               0.109255   \n",
       "180079         2015-09-23       0.141189               0.028867   \n",
       "180080         2015-09-23       1.094759               0.188196   \n",
       "180081         2015-09-23       1.110272               0.071200   \n",
       "180082         2015-09-23       0.410437               0.070814   \n",
       "180083         2015-09-23       0.706545               0.131459   \n",
       "180084         2015-09-23       0.252220               0.060336   \n",
       "180085         2015-09-23       0.682400               0.117997   \n",
       "180086         2015-09-23       0.295593               0.097942   \n",
       "180087         2015-09-23       0.273720               0.049032   \n",
       "180088         2015-09-23       0.518275               0.115302   \n",
       "180089         2015-06-23       0.399093               0.072878   \n",
       "180090         2015-03-23       0.460733               0.125108   \n",
       "180091         2015-09-23       0.169895               0.050589   \n",
       "180092         2015-06-23       0.114000               0.030382   \n",
       "180093         2015-09-23       0.346525               0.072066   \n",
       "180094         2015-09-23       0.557406               0.149640   \n",
       "180095         2015-09-23       0.525556               0.075909   \n",
       "180096         2015-09-23       1.174843               0.191154   \n",
       "180097         2015-09-23       0.775387               0.128555   \n",
       "180098         2015-09-23       0.412924               0.121068   \n",
       "180099         2015-09-23       0.314503               0.059229   \n",
       "\n",
       "        ratio_mth_inc_all_payments  \n",
       "0                         0.217915  \n",
       "1                         0.037428  \n",
       "2                         0.140500  \n",
       "3                         0.110066  \n",
       "4                         0.093517  \n",
       "5                         0.105240  \n",
       "6                         0.133929  \n",
       "7                         0.068463  \n",
       "8                         0.076977  \n",
       "9                         0.245624  \n",
       "10                        0.039015  \n",
       "11                        0.139082  \n",
       "12                        0.205768  \n",
       "13                        0.194512  \n",
       "14                        0.067882  \n",
       "15                        0.071053  \n",
       "16                        0.236811  \n",
       "17                        0.061777  \n",
       "18                        0.028351  \n",
       "19                        0.066104  \n",
       "20                        0.232665  \n",
       "21                        0.153649  \n",
       "22                        0.127651  \n",
       "23                        0.164822  \n",
       "24                        0.050166  \n",
       "25                        0.098807  \n",
       "26                        0.126416  \n",
       "27                        0.050528  \n",
       "28                        0.028812  \n",
       "29                        0.196786  \n",
       "...                            ...  \n",
       "180070                    0.120723  \n",
       "180071                    0.101625  \n",
       "180072                    0.056803  \n",
       "180073                    0.173243  \n",
       "180074                    0.117996  \n",
       "180075                    0.076439  \n",
       "180076                    0.131874  \n",
       "180077                    0.332458  \n",
       "180078                    0.144840  \n",
       "180079                    0.046752  \n",
       "180080                    0.331160  \n",
       "180081                    0.268535  \n",
       "180082                    0.111066  \n",
       "180083                    0.191939  \n",
       "180084                    0.082469  \n",
       "180085                    0.204234  \n",
       "180086                    0.113551  \n",
       "180087                    0.082725  \n",
       "180088                    0.167688  \n",
       "180089                    0.120771  \n",
       "180090                    0.130484  \n",
       "180091                    0.061891  \n",
       "180092                    0.038542  \n",
       "180093                    0.110232  \n",
       "180094                    0.202043  \n",
       "180095                    0.156328  \n",
       "180096                    0.363746  \n",
       "180097                    0.237228  \n",
       "180098                    0.147258  \n",
       "180099                    0.089989  \n",
       "\n",
       "[643638 rows x 33 columns]"
      ]
     },
     "execution_count": 375,
     "metadata": {},
     "output_type": "execute_result"
    }
   ],
   "source": [
    "df = df[~df.loan_status.str.contains(\"Does not meet the credit policy\")]"
   ]
  },
  {
   "cell_type": "code",
   "execution_count": 384,
   "metadata": {
    "collapsed": true
   },
   "outputs": [],
   "source": [
    "import pandas as pd2"
   ]
  },
  {
   "cell_type": "code",
   "execution_count": 392,
   "metadata": {
    "collapsed": false
   },
   "outputs": [],
   "source": [
    "del lc['mths_since_last_record']"
   ]
  },
  {
   "cell_type": "code",
   "execution_count": 357,
   "metadata": {
    "collapsed": false,
    "scrolled": true
   },
   "outputs": [
    {
     "data": {
      "text/plain": [
       "2014    235629\n",
       "2015    180100\n",
       "2013    134756\n",
       "2012     53367\n",
       "2011     21721\n",
       "2010     12537\n",
       "2009      5281\n",
       "2008      2393\n",
       "2007       603\n",
       "dtype: int64"
      ]
     },
     "execution_count": 357,
     "metadata": {},
     "output_type": "execute_result"
    }
   ],
   "source": [
    "lc.issue_d.dt.year.value_counts()"
   ]
  },
  {
   "cell_type": "code",
   "execution_count": 336,
   "metadata": {
    "collapsed": false,
    "scrolled": true
   },
   "outputs": [
    {
     "data": {
      "text/plain": [
       "0.7202205882352941"
      ]
     },
     "execution_count": 336,
     "metadata": {},
     "output_type": "execute_result"
    }
   ],
   "source": [
    "1959 / (1959 + 761) "
   ]
  },
  {
   "cell_type": "code",
   "execution_count": 337,
   "metadata": {
    "collapsed": false
   },
   "outputs": [
    {
     "data": {
      "text/plain": [
       "0.8219878169626913"
      ]
     },
     "execution_count": 337,
     "metadata": {},
     "output_type": "execute_result"
    }
   ],
   "source": [
    "163412 / (163412 + 35389)"
   ]
  },
  {
   "cell_type": "code",
   "execution_count": null,
   "metadata": {
    "collapsed": true
   },
   "outputs": [],
   "source": [
    "lc.loan_status.str.replace('')"
   ]
  },
  {
   "cell_type": "code",
   "execution_count": null,
   "metadata": {
    "collapsed": true
   },
   "outputs": [],
   "source": [
    "lc.loan_status = lc.loan_status.rename({'Does not meet the credit policy.  Status:Fully Paid': 'Fully Paid',\n",
    "                                       })"
   ]
  },
  {
   "cell_type": "code",
   "execution_count": 359,
   "metadata": {
    "collapsed": false
   },
   "outputs": [
    {
     "data": {
      "text/plain": [
       "646387"
      ]
     },
     "execution_count": 359,
     "metadata": {},
     "output_type": "execute_result"
    }
   ],
   "source": [
    "lc.loan_amnt.count()"
   ]
  },
  {
   "cell_type": "code",
   "execution_count": 387,
   "metadata": {
    "collapsed": false,
    "scrolled": true
   },
   "outputs": [],
   "source": [
    "length = len(lc.loan_amnt)"
   ]
  },
  {
   "cell_type": "code",
   "execution_count": null,
   "metadata": {
    "collapsed": true
   },
   "outputs": [],
   "source": []
  },
  {
   "cell_type": "code",
   "execution_count": 366,
   "metadata": {
    "collapsed": false,
    "scrolled": true
   },
   "outputs": [
    {
     "data": {
      "text/plain": [
       "0          3\n",
       "1          3\n",
       "2          2\n",
       "3         10\n",
       "4         15\n",
       "5          9\n",
       "6          7\n",
       "7          4\n",
       "8         11\n",
       "9          2\n",
       "10        14\n",
       "11        12\n",
       "12         4\n",
       "13        11\n",
       "14        14\n",
       "15        11\n",
       "16        14\n",
       "17        20\n",
       "18         4\n",
       "19         8\n",
       "20         8\n",
       "21         7\n",
       "22         8\n",
       "23         6\n",
       "24         7\n",
       "25         8\n",
       "26         7\n",
       "27        14\n",
       "28        12\n",
       "29         8\n",
       "          ..\n",
       "180070     8\n",
       "180071    13\n",
       "180072    13\n",
       "180073    15\n",
       "180074     8\n",
       "180075     8\n",
       "180076     8\n",
       "180077    13\n",
       "180078     8\n",
       "180079     9\n",
       "180080    14\n",
       "180081    10\n",
       "180082     5\n",
       "180083     9\n",
       "180084    11\n",
       "180085    11\n",
       "180086     3\n",
       "180087     9\n",
       "180088     8\n",
       "180089     9\n",
       "180090     3\n",
       "180091    13\n",
       "180092    11\n",
       "180093    10\n",
       "180094     9\n",
       "180095    13\n",
       "180096     9\n",
       "180097     9\n",
       "180098     5\n",
       "180099    17\n",
       "Name: open_acc, dtype: float64"
      ]
     },
     "execution_count": 366,
     "metadata": {},
     "output_type": "execute_result"
    }
   ],
   "source": [
    "lc.open_acc"
   ]
  },
  {
   "cell_type": "code",
   "execution_count": 394,
   "metadata": {
    "collapsed": false
   },
   "outputs": [
    {
     "data": {
      "text/plain": [
       "array(['Fully Paid', 'Charged Off', 'Current', 'Late (31-120 days)',\n",
       "       'In Grace Period', 'Late (16-30 days)', 'Default',\n",
       "       'Does not meet the credit policy.  Status:Current',\n",
       "       'Does not meet the credit policy.  Status:Charged Off',\n",
       "       'Does not meet the credit policy.  Status:Fully Paid',\n",
       "       'Does not meet the credit policy.  Status:In Grace Period'], dtype=object)"
      ]
     },
     "execution_count": 394,
     "metadata": {},
     "output_type": "execute_result"
    }
   ],
   "source": [
    "lc.loan_status.unique()"
   ]
  },
  {
   "cell_type": "code",
   "execution_count": 404,
   "metadata": {
    "collapsed": false
   },
   "outputs": [
    {
     "data": {
      "text/plain": [
       "Timestamp('2015-06-23 00:00:00')"
      ]
     },
     "execution_count": 404,
     "metadata": {},
     "output_type": "execute_result"
    }
   ],
   "source": [
    "lc.issue_d.max()"
   ]
  },
  {
   "cell_type": "code",
   "execution_count": 401,
   "metadata": {
    "collapsed": false,
    "scrolled": true
   },
   "outputs": [
    {
     "name": "stderr",
     "output_type": "stream",
     "text": [
      "/Users/Will/anaconda/envs/py34/lib/python3.4/site-packages/ipykernel/__main__.py:1: SettingWithCopyWarning: \n",
      "A value is trying to be set on a copy of a slice from a DataFrame\n",
      "\n",
      "See the the caveats in the documentation: http://pandas.pydata.org/pandas-docs/stable/indexing.html#indexing-view-versus-copy\n",
      "  if __name__ == '__main__':\n"
     ]
    }
   ],
   "source": [
    "lc['delinq']= 0\n",
    "lc['delinq'][lc.loan_status.isin(['Charged Off', 'Late (31-120 days)', 'Default'])] = 1"
   ]
  },
  {
   "cell_type": "code",
   "execution_count": 403,
   "metadata": {
    "collapsed": false
   },
   "outputs": [],
   "source": [
    "lc['delinq'] = 0 if 9 else 1"
   ]
  },
  {
   "cell_type": "code",
   "execution_count": null,
   "metadata": {
    "collapsed": true
   },
   "outputs": [],
   "source": []
  },
  {
   "cell_type": "markdown",
   "metadata": {},
   "source": [
    "# Exclude New Loans"
   ]
  },
  {
   "cell_type": "markdown",
   "metadata": {},
   "source": [
    "We exclude newer loans because newer loans have not yet had much of a chance to become deliquent. "
   ]
  },
  {
   "cell_type": "code",
   "execution_count": 412,
   "metadata": {
    "collapsed": false
   },
   "outputs": [
    {
     "data": {
      "text/plain": [
       "585989"
      ]
     },
     "execution_count": 412,
     "metadata": {},
     "output_type": "execute_result"
    }
   ],
   "source": [
    "sum(lc.issue_d < '2015-0-01')"
   ]
  },
  {
   "cell_type": "code",
   "execution_count": 411,
   "metadata": {
    "collapsed": false
   },
   "outputs": [
    {
     "data": {
      "text/plain": [
       "381537"
      ]
     },
     "execution_count": 411,
     "metadata": {},
     "output_type": "execute_result"
    }
   ],
   "source": [
    "sum(lc.issue_d < '2014-09-01')"
   ]
  },
  {
   "cell_type": "code",
   "execution_count": 414,
   "metadata": {
    "collapsed": false
   },
   "outputs": [
    {
     "data": {
      "text/plain": [
       "Timestamp('2014-08-23 00:00:00')"
      ]
     },
     "execution_count": 414,
     "metadata": {},
     "output_type": "execute_result"
    }
   ],
   "source": [
    "df = df[df.issue_d < '2014-09-01']"
   ]
  },
  {
   "cell_type": "markdown",
   "metadata": {
    "collapsed": true
   },
   "source": [
    "# List of features"
   ]
  },
  {
   "cell_type": "markdown",
   "metadata": {},
   "source": [
    "Feature | Description\n",
    "-- | --\n",
    "dti |A ratio calculated using the borrower’s total monthly debt payments on the total debt obligations, excluding mortgage and the requested LC loan, divided by the borrower’s self-reported monthly income.\n",
    "open_acc | Number of open accounts\n"
   ]
  },
  {
   "cell_type": "code",
   "execution_count": 370,
   "metadata": {
    "collapsed": false
   },
   "outputs": [
    {
     "data": {
      "text/plain": [
       "-0.28082227667411802"
      ]
     },
     "execution_count": 370,
     "metadata": {},
     "output_type": "execute_result"
    }
   ],
   "source": [
    "(lc.dti - lc.ratio_inc_debt).mean()"
   ]
  },
  {
   "cell_type": "code",
   "execution_count": 369,
   "metadata": {
    "collapsed": false
   },
   "outputs": [],
   "source": [
    "lc.dti = lc.dti / 100"
   ]
  },
  {
   "cell_type": "code",
   "execution_count": null,
   "metadata": {
    "collapsed": true
   },
   "outputs": [],
   "source": []
  }
 ],
 "metadata": {
  "kernelspec": {
   "display_name": "Python 3",
   "language": "python",
   "name": "python3"
  },
  "language_info": {
   "codemirror_mode": {
    "name": "ipython",
    "version": 3
   },
   "file_extension": ".py",
   "mimetype": "text/x-python",
   "name": "python",
   "nbconvert_exporter": "python",
   "pygments_lexer": "ipython3",
   "version": "3.4.3"
  }
 },
 "nbformat": 4,
 "nbformat_minor": 0
}
