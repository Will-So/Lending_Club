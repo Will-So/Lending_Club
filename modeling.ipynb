{
 "cells": [
  {
   "cell_type": "code",
   "execution_count": 1,
   "metadata": {
    "collapsed": false
   },
   "outputs": [
    {
     "name": "stdout",
     "output_type": "stream",
     "text": [
      "Populating the interactive namespace from numpy and matplotlib\n"
     ]
    }
   ],
   "source": [
    "%pylab inline\n",
    "import pandas as pd\n"
   ]
  },
  {
   "cell_type": "code",
   "execution_count": 2,
   "metadata": {
    "collapsed": false
   },
   "outputs": [],
   "source": [
    "df = pd.read_pickle('cleaned_df.pkl') "
   ]
  },
  {
   "cell_type": "markdown",
   "metadata": {},
   "source": [
    "## Preparation"
   ]
  },
  {
   "cell_type": "markdown",
   "metadata": {},
   "source": [
    "## Categorical variables"
   ]
  },
  {
   "cell_type": "code",
   "execution_count": 4,
   "metadata": {
    "collapsed": false
   },
   "outputs": [],
   "source": [
    "from patsy import dmatrices\n",
    "# y, X = dmatrices('delinq ~ C(zip_code) + loan_amnt*int_rate + installment + emp_length +'\n",
    "#                  'C(home_ownership) + C(grade) + sub_grade + C(month_issued) + C(year_issued)'\n",
    "#                  '+ C(purpose) + C(addr_state) + inq_last_6mths + pub_rec + revol_bal +open_acc+'\n",
    "#                  'collections_12_mths_ex_med + delinq_2yrs + earliest_cr_line + fico_range_low'\n",
    "#                  '+ ratio_mth_inc_all_payments',\n",
    "#                  df, return_type='dataframe')"
   ]
  },
  {
   "cell_type": "code",
   "execution_count": 5,
   "metadata": {
    "collapsed": true
   },
   "outputs": [],
   "source": [
    "# ## Still too complicated\n",
    "# y, X = dmatrices('delinq ~  + loan_amnt*int_rate + installment + emp_length +'\n",
    "#                  'C(home_ownership) + C(grade) + sub_grade + C(month_issued) + C(year_issued)'\n",
    "#                  '+ C(purpose) + C(addr_state) + inq_last_6mths + pub_rec + revol_bal +open_acc+'\n",
    "#                  'collections_12_mths_ex_med + delinq_2yrs + earliest_cr_line + fico_range_low'\n",
    "#                  '+ ratio_mth_inc_all_payments',\n",
    "#                  df, return_type='dataframe')"
   ]
  },
  {
   "cell_type": "code",
   "execution_count": 43,
   "metadata": {
    "collapsed": false
   },
   "outputs": [],
   "source": [
    "y, X = dmatrices('delinq ~  + loan_amnt + int_rate + installment + emp_length +'\n",
    "                 'C(home_ownership) + C(grade) + C(month_issued) + C(year_issued)'\n",
    "                 '+ C(purpose) + C(addr_state) + inq_last_6mths + pub_rec + revol_bal +open_acc+'\n",
    "                 'collections_12_mths_ex_med + delinq_2yrs + earliest_cr_line  + fico_range_low'\n",
    "                 '+ ratio_mth_inc_all_payments',\n",
    "                 df, return_type='dataframe')"
   ]
  },
  {
   "cell_type": "markdown",
   "metadata": {},
   "source": [
    "Earliest cr line to the year. Proabbly going to be quite good."
   ]
  },
  {
   "cell_type": "code",
   "execution_count": 44,
   "metadata": {
    "collapsed": false,
    "scrolled": false
   },
   "outputs": [
    {
     "data": {
      "text/plain": [
       "103"
      ]
     },
     "execution_count": 44,
     "metadata": {},
     "output_type": "execute_result"
    }
   ],
   "source": [
    "len(X.columns)"
   ]
  },
  {
   "cell_type": "code",
   "execution_count": 35,
   "metadata": {
    "collapsed": false,
    "scrolled": true
   },
   "outputs": [
    {
     "name": "stdout",
     "output_type": "stream",
     "text": [
      "Intercept\n",
      "C(home_ownership)[T.OTHER]\n",
      "C(home_ownership)[T.OWN]\n",
      "C(home_ownership)[T.RENT]\n",
      "C(grade)[T.B]\n",
      "C(grade)[T.C]\n",
      "C(grade)[T.D]\n",
      "C(grade)[T.E]\n",
      "C(grade)[T.F]\n",
      "C(grade)[T.G]\n",
      "C(month_issued)[T.2]\n",
      "C(month_issued)[T.3]\n",
      "C(month_issued)[T.4]\n",
      "C(month_issued)[T.5]\n",
      "C(month_issued)[T.6]\n",
      "C(month_issued)[T.7]\n",
      "C(month_issued)[T.8]\n",
      "C(month_issued)[T.9]\n",
      "C(month_issued)[T.10]\n",
      "C(month_issued)[T.11]\n",
      "C(month_issued)[T.12]\n",
      "C(year_issued)[T.2008]\n",
      "C(year_issued)[T.2009]\n",
      "C(year_issued)[T.2010]\n",
      "C(year_issued)[T.2011]\n",
      "C(year_issued)[T.2012]\n",
      "C(year_issued)[T.2013]\n",
      "C(year_issued)[T.2014]\n",
      "C(purpose)[T.credit_card]\n",
      "C(purpose)[T.debt_consolidation]\n",
      "C(purpose)[T.educational]\n",
      "C(purpose)[T.home_improvement]\n",
      "C(purpose)[T.house]\n",
      "C(purpose)[T.major_purchase]\n",
      "C(purpose)[T.medical]\n",
      "C(purpose)[T.moving]\n",
      "C(purpose)[T.other]\n",
      "C(purpose)[T.renewable_energy]\n",
      "C(purpose)[T.small_business]\n",
      "C(purpose)[T.vacation]\n",
      "C(purpose)[T.wedding]\n",
      "C(addr_state)[T.AL]\n",
      "C(addr_state)[T.AR]\n",
      "C(addr_state)[T.AZ]\n",
      "C(addr_state)[T.CA]\n",
      "C(addr_state)[T.CO]\n",
      "C(addr_state)[T.CT]\n",
      "C(addr_state)[T.DC]\n",
      "C(addr_state)[T.DE]\n",
      "C(addr_state)[T.FL]\n",
      "C(addr_state)[T.GA]\n",
      "C(addr_state)[T.HI]\n",
      "C(addr_state)[T.IA]\n",
      "C(addr_state)[T.ID]\n",
      "C(addr_state)[T.IL]\n",
      "C(addr_state)[T.IN]\n",
      "C(addr_state)[T.KS]\n",
      "C(addr_state)[T.KY]\n",
      "C(addr_state)[T.LA]\n",
      "C(addr_state)[T.MA]\n",
      "C(addr_state)[T.MD]\n",
      "C(addr_state)[T.ME]\n",
      "C(addr_state)[T.MI]\n",
      "C(addr_state)[T.MN]\n",
      "C(addr_state)[T.MO]\n",
      "C(addr_state)[T.MS]\n",
      "C(addr_state)[T.MT]\n",
      "C(addr_state)[T.NC]\n",
      "C(addr_state)[T.NE]\n",
      "C(addr_state)[T.NH]\n",
      "C(addr_state)[T.NJ]\n",
      "C(addr_state)[T.NM]\n",
      "C(addr_state)[T.NV]\n",
      "C(addr_state)[T.NY]\n",
      "C(addr_state)[T.OH]\n",
      "C(addr_state)[T.OK]\n",
      "C(addr_state)[T.OR]\n",
      "C(addr_state)[T.PA]\n",
      "C(addr_state)[T.RI]\n",
      "C(addr_state)[T.SC]\n",
      "C(addr_state)[T.SD]\n",
      "C(addr_state)[T.TN]\n",
      "C(addr_state)[T.TX]\n",
      "C(addr_state)[T.UT]\n",
      "C(addr_state)[T.VA]\n",
      "C(addr_state)[T.VT]\n",
      "C(addr_state)[T.WA]\n",
      "C(addr_state)[T.WI]\n",
      "C(addr_state)[T.WV]\n",
      "C(addr_state)[T.WY]\n",
      "loan_amnt\n",
      "int_rate\n",
      "installment\n",
      "emp_length\n",
      "inq_last_6mths\n",
      "pub_rec\n",
      "revol_bal\n",
      "open_acc\n",
      "collections_12_mths_ex_med\n",
      "delinq_2yrs\n",
      "earliest_cr_line\n",
      "fico_range_low\n",
      "ratio_mth_inc_all_payments\n"
     ]
    }
   ],
   "source": [
    "for i in X.columns:\n",
    "    print(i,)"
   ]
  },
  {
   "cell_type": "code",
   "execution_count": 6,
   "metadata": {
    "collapsed": true
   },
   "outputs": [],
   "source": [
    "y = np.ravel(y)"
   ]
  },
  {
   "cell_type": "markdown",
   "metadata": {},
   "source": [
    "Create a small testset for testing purposes"
   ]
  },
  {
   "cell_type": "code",
   "execution_count": null,
   "metadata": {
    "collapsed": true
   },
   "outputs": [],
   "source": [
    "y_s, X_s = y[-10000:], X[-10000:]"
   ]
  },
  {
   "cell_type": "markdown",
   "metadata": {},
   "source": [
    "## A first model: Logistic Regression"
   ]
  },
  {
   "cell_type": "code",
   "execution_count": null,
   "metadata": {
    "collapsed": true
   },
   "outputs": [],
   "source": [
    "from sklearn.linear_model import LogisticRegressionCV"
   ]
  },
  {
   "cell_type": "code",
   "execution_count": null,
   "metadata": {
    "collapsed": false
   },
   "outputs": [],
   "source": [
    "model_log = LogisticRegressionCV(cv=5, penalty='l2', verbose=1, max_iter=1000)"
   ]
  },
  {
   "cell_type": "code",
   "execution_count": null,
   "metadata": {
    "collapsed": false,
    "scrolled": true
   },
   "outputs": [],
   "source": [
    "fit = model_log.fit(X_s, y_s)"
   ]
  },
  {
   "cell_type": "code",
   "execution_count": null,
   "metadata": {
    "collapsed": false
   },
   "outputs": [],
   "source": [
    "predictions = model_log.predict(X_s)"
   ]
  },
  {
   "cell_type": "code",
   "execution_count": null,
   "metadata": {
    "collapsed": false
   },
   "outputs": [],
   "source": [
    "predictions.mean()"
   ]
  },
  {
   "cell_type": "code",
   "execution_count": null,
   "metadata": {
    "collapsed": false
   },
   "outputs": [],
   "source": [
    "model_log.score(X_s, y_s)"
   ]
  },
  {
   "cell_type": "code",
   "execution_count": null,
   "metadata": {
    "collapsed": false
   },
   "outputs": [],
   "source": [
    "y_s.mean()"
   ]
  },
  {
   "cell_type": "markdown",
   "metadata": {},
   "source": [
    "## Train_test_split"
   ]
  },
  {
   "cell_type": "code",
   "execution_count": 7,
   "metadata": {
    "collapsed": true
   },
   "outputs": [],
   "source": [
    "from sklearn.cross_validation import train_test_split"
   ]
  },
  {
   "cell_type": "code",
   "execution_count": 8,
   "metadata": {
    "collapsed": true
   },
   "outputs": [],
   "source": [
    "X_train, X_test, y_train, y_test = train_test_split(X, y, test_size=0.15,\n",
    "                                                   random_state=42)"
   ]
  },
  {
   "cell_type": "markdown",
   "metadata": {},
   "source": [
    "## A Second Model: "
   ]
  },
  {
   "cell_type": "code",
   "execution_count": 9,
   "metadata": {
    "collapsed": true
   },
   "outputs": [],
   "source": [
    "from sklearn.ensemble import RandomForestClassifier"
   ]
  },
  {
   "cell_type": "code",
   "execution_count": 45,
   "metadata": {
    "collapsed": true
   },
   "outputs": [],
   "source": [
    "model_rf = RandomForestClassifier(n_estimators=50, oob_score=True, verbose=1, random_state=2143,\n",
    "                                 min_samples_split=50)"
   ]
  },
  {
   "cell_type": "code",
   "execution_count": 46,
   "metadata": {
    "collapsed": false
   },
   "outputs": [
    {
     "name": "stderr",
     "output_type": "stream",
     "text": [
      "[Parallel(n_jobs=1)]: Done   1 jobs       | elapsed:    6.8s\n",
      "[Parallel(n_jobs=1)]: Done  50 jobs       | elapsed:  5.7min\n",
      "[Parallel(n_jobs=1)]: Done  50 out of  50 | elapsed:  5.7min finished\n"
     ]
    }
   ],
   "source": [
    "rf_fit = model_rf.fit(X_train, y_train)"
   ]
  },
  {
   "cell_type": "code",
   "execution_count": 51,
   "metadata": {
    "collapsed": false
   },
   "outputs": [
    {
     "data": {
      "text/plain": [
       "True"
      ]
     },
     "execution_count": 51,
     "metadata": {},
     "output_type": "execute_result"
    }
   ],
   "source": []
  },
  {
   "cell_type": "code",
   "execution_count": 52,
   "metadata": {
    "collapsed": false,
    "scrolled": true
   },
   "outputs": [
    {
     "name": "stderr",
     "output_type": "stream",
     "text": [
      "[Parallel(n_jobs=1)]: Done   1 jobs       | elapsed:    0.0s\n",
      "[Parallel(n_jobs=1)]: Done  50 jobs       | elapsed:    1.2s\n",
      "[Parallel(n_jobs=1)]: Done  50 out of  50 | elapsed:    1.2s finished\n"
     ]
    }
   ],
   "source": [
    "prediction = rf_fit.predict(X_test)"
   ]
  },
  {
   "cell_type": "code",
   "execution_count": 53,
   "metadata": {
    "collapsed": false
   },
   "outputs": [
    {
     "data": {
      "text/plain": [
       "0.0"
      ]
     },
     "execution_count": 53,
     "metadata": {},
     "output_type": "execute_result"
    }
   ],
   "source": [
    "prediction.mean()"
   ]
  },
  {
   "cell_type": "code",
   "execution_count": 54,
   "metadata": {
    "collapsed": false,
    "scrolled": true
   },
   "outputs": [
    {
     "name": "stderr",
     "output_type": "stream",
     "text": [
      "[Parallel(n_jobs=1)]: Done   1 jobs       | elapsed:    0.0s\n",
      "[Parallel(n_jobs=1)]: Done  50 jobs       | elapsed:    1.2s\n",
      "[Parallel(n_jobs=1)]: Done  50 out of  50 | elapsed:    1.2s finished\n"
     ]
    },
    {
     "data": {
      "text/plain": [
       "0.89873045078196867"
      ]
     },
     "execution_count": 54,
     "metadata": {},
     "output_type": "execute_result"
    }
   ],
   "source": [
    "rf_fit.score(X_test, y_test)"
   ]
  },
  {
   "cell_type": "code",
   "execution_count": null,
   "metadata": {
    "collapsed": true
   },
   "outputs": [],
   "source": [
    "rf_full = model_rf.fit(X, y)"
   ]
  },
  {
   "cell_type": "code",
   "execution_count": null,
   "metadata": {
    "collapsed": true
   },
   "outputs": [],
   "source": [
    "prediction = rf_full.predict(X)"
   ]
  },
  {
   "cell_type": "code",
   "execution_count": null,
   "metadata": {
    "collapsed": false
   },
   "outputs": [],
   "source": [
    "rf_full.score(X, y)"
   ]
  },
  {
   "cell_type": "markdown",
   "metadata": {},
   "source": [
    "## Support Vector Machines"
   ]
  },
  {
   "cell_type": "code",
   "execution_count": null,
   "metadata": {
    "collapsed": true
   },
   "outputs": [],
   "source": [
    "12"
   ]
  },
  {
   "cell_type": "code",
   "execution_count": 55,
   "metadata": {
    "collapsed": true
   },
   "outputs": [],
   "source": [
    "from sklearn import svm"
   ]
  },
  {
   "cell_type": "code",
   "execution_count": 56,
   "metadata": {
    "collapsed": true
   },
   "outputs": [],
   "source": [
    "model = svm.SVC(random_state=4134)"
   ]
  },
  {
   "cell_type": "code",
   "execution_count": null,
   "metadata": {
    "collapsed": true
   },
   "outputs": [],
   "source": [
    "svm_fit = model.fit(X_test, y_test)"
   ]
  },
  {
   "cell_type": "markdown",
   "metadata": {},
   "source": [
    "# Simple Random Forests"
   ]
  },
  {
   "cell_type": "code",
   "execution_count": null,
   "metadata": {
    "collapsed": true
   },
   "outputs": [],
   "source": [
    "y, X = dmatrices('delinq ~ fico_range_low + pub_rec + revol_util +'\n",
    "                'C(home_ownership)')"
   ]
  }
 ],
 "metadata": {
  "kernelspec": {
   "display_name": "Python 3",
   "language": "python",
   "name": "python3"
  },
  "language_info": {
   "codemirror_mode": {
    "name": "ipython",
    "version": 3
   },
   "file_extension": ".py",
   "mimetype": "text/x-python",
   "name": "python",
   "nbconvert_exporter": "python",
   "pygments_lexer": "ipython3",
   "version": "3.4.3"
  }
 },
 "nbformat": 4,
 "nbformat_minor": 0
}
