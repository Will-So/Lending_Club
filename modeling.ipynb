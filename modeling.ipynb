{
 "cells": [
  {
   "cell_type": "code",
   "execution_count": 1,
   "metadata": {
    "collapsed": false
   },
   "outputs": [
    {
     "name": "stdout",
     "output_type": "stream",
     "text": [
      "Populating the interactive namespace from numpy and matplotlib\n"
     ]
    }
   ],
   "source": [
    "%pylab inline\n",
    "import pandas as pd\n"
   ]
  },
  {
   "cell_type": "code",
   "execution_count": 2,
   "metadata": {
    "collapsed": false
   },
   "outputs": [],
   "source": [
    "df = pd.read_pickle('cleaned_df.pkl') "
   ]
  },
  {
   "cell_type": "markdown",
   "metadata": {},
   "source": [
    "## Preparation"
   ]
  },
  {
   "cell_type": "markdown",
   "metadata": {},
   "source": [
    "## Categorical variables"
   ]
  },
  {
   "cell_type": "code",
   "execution_count": 3,
   "metadata": {
    "collapsed": false
   },
   "outputs": [],
   "source": [
    "from patsy import dmatrices\n"
   ]
  },
  {
   "cell_type": "code",
   "execution_count": 4,
   "metadata": {
    "collapsed": false
   },
   "outputs": [],
   "source": [
    "y, X = dmatrices('delinq ~  + loan_amnt + int_rate + installment + emp_length +'\n",
    "                 'C(home_ownership) + C(grade) + C(month_issued) + C(year_issued)'\n",
    "                 '+ C(purpose) + C(addr_state) + inq_last_6mths + pub_rec + revol_bal +open_acc+'\n",
    "                 'collections_12_mths_ex_med + delinq_2yrs + earliest_cr_line  + fico_range_low'\n",
    "                 '+ ratio_mth_inc_all_payments',\n",
    "                 df, return_type='dataframe')"
   ]
  },
  {
   "cell_type": "markdown",
   "metadata": {},
   "source": [
    "Earliest cr line to the year. Proabbly going to be quite good."
   ]
  },
  {
   "cell_type": "code",
   "execution_count": 6,
   "metadata": {
    "collapsed": false,
    "scrolled": true
   },
   "outputs": [
    {
     "name": "stdout",
     "output_type": "stream",
     "text": [
      "Intercept\n",
      "C(home_ownership)[T.OTHER]\n",
      "C(home_ownership)[T.OWN]\n",
      "C(home_ownership)[T.RENT]\n",
      "C(grade)[T.B]\n",
      "C(grade)[T.C]\n",
      "C(grade)[T.D]\n",
      "C(grade)[T.E]\n",
      "C(grade)[T.F]\n",
      "C(grade)[T.G]\n",
      "C(month_issued)[T.2]\n",
      "C(month_issued)[T.3]\n",
      "C(month_issued)[T.4]\n",
      "C(month_issued)[T.5]\n",
      "C(month_issued)[T.6]\n",
      "C(month_issued)[T.7]\n",
      "C(month_issued)[T.8]\n",
      "C(month_issued)[T.9]\n",
      "C(month_issued)[T.10]\n",
      "C(month_issued)[T.11]\n",
      "C(month_issued)[T.12]\n",
      "C(year_issued)[T.2008]\n",
      "C(year_issued)[T.2009]\n",
      "C(year_issued)[T.2010]\n",
      "C(year_issued)[T.2011]\n",
      "C(year_issued)[T.2012]\n",
      "C(year_issued)[T.2013]\n",
      "C(year_issued)[T.2014]\n",
      "C(purpose)[T.credit_card]\n",
      "C(purpose)[T.debt_consolidation]\n",
      "C(purpose)[T.educational]\n",
      "C(purpose)[T.home_improvement]\n",
      "C(purpose)[T.house]\n",
      "C(purpose)[T.major_purchase]\n",
      "C(purpose)[T.medical]\n",
      "C(purpose)[T.moving]\n",
      "C(purpose)[T.other]\n",
      "C(purpose)[T.renewable_energy]\n",
      "C(purpose)[T.small_business]\n",
      "C(purpose)[T.vacation]\n",
      "C(purpose)[T.wedding]\n",
      "C(addr_state)[T.AL]\n",
      "C(addr_state)[T.AR]\n",
      "C(addr_state)[T.AZ]\n",
      "C(addr_state)[T.CA]\n",
      "C(addr_state)[T.CO]\n",
      "C(addr_state)[T.CT]\n",
      "C(addr_state)[T.DC]\n",
      "C(addr_state)[T.DE]\n",
      "C(addr_state)[T.FL]\n",
      "C(addr_state)[T.GA]\n",
      "C(addr_state)[T.HI]\n",
      "C(addr_state)[T.IA]\n",
      "C(addr_state)[T.ID]\n",
      "C(addr_state)[T.IL]\n",
      "C(addr_state)[T.IN]\n",
      "C(addr_state)[T.KS]\n",
      "C(addr_state)[T.KY]\n",
      "C(addr_state)[T.LA]\n",
      "C(addr_state)[T.MA]\n",
      "C(addr_state)[T.MD]\n",
      "C(addr_state)[T.ME]\n",
      "C(addr_state)[T.MI]\n",
      "C(addr_state)[T.MN]\n",
      "C(addr_state)[T.MO]\n",
      "C(addr_state)[T.MS]\n",
      "C(addr_state)[T.MT]\n",
      "C(addr_state)[T.NC]\n",
      "C(addr_state)[T.NE]\n",
      "C(addr_state)[T.NH]\n",
      "C(addr_state)[T.NJ]\n",
      "C(addr_state)[T.NM]\n",
      "C(addr_state)[T.NV]\n",
      "C(addr_state)[T.NY]\n",
      "C(addr_state)[T.OH]\n",
      "C(addr_state)[T.OK]\n",
      "C(addr_state)[T.OR]\n",
      "C(addr_state)[T.PA]\n",
      "C(addr_state)[T.RI]\n",
      "C(addr_state)[T.SC]\n",
      "C(addr_state)[T.SD]\n",
      "C(addr_state)[T.TN]\n",
      "C(addr_state)[T.TX]\n",
      "C(addr_state)[T.UT]\n",
      "C(addr_state)[T.VA]\n",
      "C(addr_state)[T.VT]\n",
      "C(addr_state)[T.WA]\n",
      "C(addr_state)[T.WI]\n",
      "C(addr_state)[T.WV]\n",
      "C(addr_state)[T.WY]\n",
      "loan_amnt\n",
      "int_rate\n",
      "installment\n",
      "emp_length\n",
      "inq_last_6mths\n",
      "pub_rec\n",
      "revol_bal\n",
      "open_acc\n",
      "collections_12_mths_ex_med\n",
      "delinq_2yrs\n",
      "earliest_cr_line\n",
      "fico_range_low\n",
      "ratio_mth_inc_all_payments\n"
     ]
    }
   ],
   "source": [
    "for i in X.columns:\n",
    "    print(i,)"
   ]
  },
  {
   "cell_type": "code",
   "execution_count": 7,
   "metadata": {
    "collapsed": true
   },
   "outputs": [],
   "source": [
    "y = np.ravel(y)"
   ]
  },
  {
   "cell_type": "markdown",
   "metadata": {},
   "source": [
    "Create a small testset for testing purposes"
   ]
  },
  {
   "cell_type": "code",
   "execution_count": null,
   "metadata": {
    "collapsed": true
   },
   "outputs": [],
   "source": [
    "y_s, X_s = y[-10000:], X[-10000:]"
   ]
  },
  {
   "cell_type": "markdown",
   "metadata": {},
   "source": [
    "## A first model: Logistic Regression"
   ]
  },
  {
   "cell_type": "code",
   "execution_count": null,
   "metadata": {
    "collapsed": true
   },
   "outputs": [],
   "source": [
    "from sklearn.linear_model import LogisticRegressionCV"
   ]
  },
  {
   "cell_type": "code",
   "execution_count": null,
   "metadata": {
    "collapsed": false
   },
   "outputs": [],
   "source": [
    "model_log = LogisticRegressionCV(cv=5, penalty='l2', verbose=1, max_iter=1000)"
   ]
  },
  {
   "cell_type": "code",
   "execution_count": null,
   "metadata": {
    "collapsed": false,
    "scrolled": true
   },
   "outputs": [],
   "source": [
    "fit = model_log.fit(X_s, y_s)"
   ]
  },
  {
   "cell_type": "code",
   "execution_count": null,
   "metadata": {
    "collapsed": false
   },
   "outputs": [],
   "source": [
    "predictions = model_log.predict(X_s)"
   ]
  },
  {
   "cell_type": "code",
   "execution_count": null,
   "metadata": {
    "collapsed": false
   },
   "outputs": [],
   "source": [
    "predictions.mean()"
   ]
  },
  {
   "cell_type": "code",
   "execution_count": null,
   "metadata": {
    "collapsed": false
   },
   "outputs": [],
   "source": [
    "model_log.score(X_s, y_s)"
   ]
  },
  {
   "cell_type": "code",
   "execution_count": null,
   "metadata": {
    "collapsed": false
   },
   "outputs": [],
   "source": [
    "y_s.mean()"
   ]
  },
  {
   "cell_type": "markdown",
   "metadata": {},
   "source": [
    "## Train_test_split"
   ]
  },
  {
   "cell_type": "code",
   "execution_count": 8,
   "metadata": {
    "collapsed": true
   },
   "outputs": [],
   "source": [
    "from sklearn.cross_validation import train_test_split"
   ]
  },
  {
   "cell_type": "code",
   "execution_count": 9,
   "metadata": {
    "collapsed": true
   },
   "outputs": [],
   "source": [
    "X_train, X_test, y_train, y_test = train_test_split(X, y, test_size=0.15,\n",
    "                                                   random_state=42)"
   ]
  },
  {
   "cell_type": "markdown",
   "metadata": {},
   "source": [
    "## A Second Model: "
   ]
  },
  {
   "cell_type": "code",
   "execution_count": 10,
   "metadata": {
    "collapsed": true
   },
   "outputs": [],
   "source": [
    "from sklearn.ensemble import RandomForestClassifier"
   ]
  },
  {
   "cell_type": "code",
   "execution_count": 11,
   "metadata": {
    "collapsed": true
   },
   "outputs": [],
   "source": [
    "model_rf = RandomForestClassifier(n_estimators=50, oob_score=True, verbose=1, random_state=2143,\n",
    "                                 min_samples_split=50)"
   ]
  },
  {
   "cell_type": "code",
   "execution_count": 12,
   "metadata": {
    "collapsed": false
   },
   "outputs": [
    {
     "name": "stderr",
     "output_type": "stream",
     "text": [
      "[Parallel(n_jobs=1)]: Done   1 jobs       | elapsed:    1.5s\n",
      "[Parallel(n_jobs=1)]: Done  50 jobs       | elapsed:  1.3min\n",
      "[Parallel(n_jobs=1)]: Done  50 out of  50 | elapsed:  1.3min finished\n"
     ]
    }
   ],
   "source": [
    "rf_fit = model_rf.fit(X_train, y_train)"
   ]
  },
  {
   "cell_type": "code",
   "execution_count": 51,
   "metadata": {
    "collapsed": false
   },
   "outputs": [
    {
     "data": {
      "text/plain": [
       "True"
      ]
     },
     "execution_count": 51,
     "metadata": {},
     "output_type": "execute_result"
    }
   ],
   "source": []
  },
  {
   "cell_type": "code",
   "execution_count": 14,
   "metadata": {
    "collapsed": false,
    "scrolled": false
   },
   "outputs": [
    {
     "name": "stderr",
     "output_type": "stream",
     "text": [
      "[Parallel(n_jobs=1)]: Done   1 jobs       | elapsed:    0.0s\n",
      "[Parallel(n_jobs=1)]: Done  50 jobs       | elapsed:    0.7s\n",
      "[Parallel(n_jobs=1)]: Done  50 out of  50 | elapsed:    0.7s finished\n"
     ]
    }
   ],
   "source": [
    "prediction = rf_fit.predict(X_test)"
   ]
  },
  {
   "cell_type": "code",
   "execution_count": 15,
   "metadata": {
    "collapsed": false
   },
   "outputs": [
    {
     "data": {
      "text/plain": [
       "0.0"
      ]
     },
     "execution_count": 15,
     "metadata": {},
     "output_type": "execute_result"
    }
   ],
   "source": [
    "prediction.mean()"
   ]
  },
  {
   "cell_type": "code",
   "execution_count": 16,
   "metadata": {
    "collapsed": false
   },
   "outputs": [
    {
     "name": "stderr",
     "output_type": "stream",
     "text": [
      "[Parallel(n_jobs=1)]: Done   1 jobs       | elapsed:    0.0s\n",
      "[Parallel(n_jobs=1)]: Done  50 jobs       | elapsed:    0.7s\n",
      "[Parallel(n_jobs=1)]: Done  50 out of  50 | elapsed:    0.7s finished\n"
     ]
    }
   ],
   "source": [
    "prob_pred = rf_fit.predict_proba(X_test)"
   ]
  },
  {
   "cell_type": "code",
   "execution_count": 19,
   "metadata": {
    "collapsed": false
   },
   "outputs": [],
   "source": [
    "default_probabilities = [item[1] for item in prob_pred]"
   ]
  },
  {
   "cell_type": "code",
   "execution_count": 26,
   "metadata": {
    "collapsed": false
   },
   "outputs": [
    {
     "data": {
      "text/plain": [
       "0.89775535186069089"
      ]
     },
     "execution_count": 26,
     "metadata": {},
     "output_type": "execute_result"
    }
   ],
   "source": [
    "rf_fit.oob_score_"
   ]
  },
  {
   "cell_type": "code",
   "execution_count": 35,
   "metadata": {
    "collapsed": false
   },
   "outputs": [
    {
     "data": {
      "text/plain": [
       "['__class__',\n",
       " '__contains__',\n",
       " '__delattr__',\n",
       " '__dir__',\n",
       " '__doc__',\n",
       " '__eq__',\n",
       " '__format__',\n",
       " '__ge__',\n",
       " '__getattribute__',\n",
       " '__getitem__',\n",
       " '__gt__',\n",
       " '__hash__',\n",
       " '__init__',\n",
       " '__iter__',\n",
       " '__le__',\n",
       " '__len__',\n",
       " '__lt__',\n",
       " '__ne__',\n",
       " '__new__',\n",
       " '__reduce__',\n",
       " '__reduce_ex__',\n",
       " '__repr__',\n",
       " '__reversed__',\n",
       " '__setattr__',\n",
       " '__sizeof__',\n",
       " '__str__',\n",
       " '__subclasshook__',\n",
       " 'count',\n",
       " 'index',\n",
       " 'start',\n",
       " 'step',\n",
       " 'stop']"
      ]
     },
     "execution_count": 35,
     "metadata": {},
     "output_type": "execute_result"
    }
   ],
   "source": [
    "dir(range)"
   ]
  },
  {
   "cell_type": "code",
   "execution_count": 48,
   "metadata": {
    "collapsed": false,
    "scrolled": true
   },
   "outputs": [
    {
     "data": {
      "text/plain": [
       "1"
      ]
     },
     "execution_count": 48,
     "metadata": {},
     "output_type": "execute_result"
    }
   ],
   "source": [
    "private_count = range(1000000)\n",
    "private_count.step"
   ]
  },
  {
   "cell_type": "code",
   "execution_count": 69,
   "metadata": {
    "collapsed": false
   },
   "outputs": [],
   "source": [
    "def count():\n",
    "    count.v = 0\n",
    "    def add():\n",
    "        count.v += 1\n",
    "        return count.v\n",
    "    return add\n",
    "x = count()\n"
   ]
  },
  {
   "cell_type": "code",
   "execution_count": 73,
   "metadata": {
    "collapsed": false,
    "scrolled": true
   },
   "outputs": [
    {
     "data": {
      "text/plain": [
       "3"
      ]
     },
     "execution_count": 73,
     "metadata": {},
     "output_type": "execute_result"
    }
   ],
   "source": [
    "x()"
   ]
  },
  {
   "cell_type": "code",
   "execution_count": 98,
   "metadata": {
    "collapsed": false,
    "scrolled": true
   },
   "outputs": [],
   "source": [
    "features = sorted(list(zip(X.columns, rf_fit.feature_importances_)), key=lambda x: x[1],\n",
    "      reverse=True)"
   ]
  },
  {
   "cell_type": "code",
   "execution_count": 105,
   "metadata": {
    "collapsed": false
   },
   "outputs": [
    {
     "data": {
      "text/plain": [
       "0.99999999999999978"
      ]
     },
     "execution_count": 105,
     "metadata": {},
     "output_type": "execute_result"
    }
   ],
   "source": [
    "sum(feature[1] for feature in features)"
   ]
  },
  {
   "cell_type": "code",
   "execution_count": 106,
   "metadata": {
    "collapsed": false
   },
   "outputs": [],
   "source": [
    "values = [feature[1] for feature in features]"
   ]
  },
  {
   "cell_type": "code",
   "execution_count": 119,
   "metadata": {
    "collapsed": false
   },
   "outputs": [
    {
     "data": {
      "text/plain": [
       "21.36752136752137"
      ]
     },
     "execution_count": 119,
     "metadata": {},
     "output_type": "execute_result"
    }
   ],
   "source": [
    "100 / 4.68"
   ]
  },
  {
   "cell_type": "code",
   "execution_count": 121,
   "metadata": {
    "collapsed": false
   },
   "outputs": [
    {
     "data": {
      "text/plain": [
       "0.090738780260691654"
      ]
     },
     "execution_count": 121,
     "metadata": {},
     "output_type": "execute_result"
    }
   ],
   "source": [
    "values[0]"
   ]
  },
  {
   "cell_type": "markdown",
   "metadata": {},
   "source": [
    "## Steps"
   ]
  },
  {
   "cell_type": "markdown",
   "metadata": {},
   "source": [
    "1. Standarize the values\n",
    "2. multiply"
   ]
  },
  {
   "cell_type": "code",
   "execution_count": 122,
   "metadata": {
    "collapsed": false,
    "scrolled": false
   },
   "outputs": [],
   "source": [
    "standardized_values =(values - np.mean(values)) / np.std(values)"
   ]
  },
  {
   "cell_type": "code",
   "execution_count": 128,
   "metadata": {
    "collapsed": false,
    "scrolled": true
   },
   "outputs": [],
   "source": [
    "base_hundred = (100/  standardized_values[0]) * standardized_values"
   ]
  },
  {
   "cell_type": "code",
   "execution_count": 133,
   "metadata": {
    "collapsed": false
   },
   "outputs": [
    {
     "data": {
      "text/plain": [
       "('int_rate', 0.090738780260691654)"
      ]
     },
     "execution_count": 133,
     "metadata": {},
     "output_type": "execute_result"
    }
   ],
   "source": [
    "feature[0] for feature in features"
   ]
  },
  {
   "cell_type": "code",
   "execution_count": 134,
   "metadata": {
    "collapsed": false
   },
   "outputs": [],
   "source": [
    "hundred = list(zip([feature[0] for feature in features], base_hundred))"
   ]
  },
  {
   "cell_type": "code",
   "execution_count": 135,
   "metadata": {
    "collapsed": false,
    "scrolled": true
   },
   "outputs": [
    {
     "data": {
      "text/plain": [
       "[('int_rate', 100.0),\n",
       " ('ratio_mth_inc_all_payments', 99.998174004750908),\n",
       " ('revol_bal', 85.498197706312155),\n",
       " ('installment', 74.107724896520793),\n",
       " ('loan_amnt', 55.708428915496896),\n",
       " ('earliest_cr_line', 47.224535199232506),\n",
       " ('open_acc', 41.750444199661217),\n",
       " ('fico_range_low', 39.305943434182446),\n",
       " ('emp_length', 19.059672050782019),\n",
       " ('C(year_issued)[T.2014]', 15.839847040926678),\n",
       " ('inq_last_6mths', 15.805057424874123),\n",
       " ('delinq_2yrs', 6.7808707728463569),\n",
       " ('C(year_issued)[T.2012]', 1.1760744183310043),\n",
       " ('C(grade)[T.E]', 0.33011262313259815),\n",
       " ('pub_rec', -0.17174879969963144),\n",
       " ('C(grade)[T.D]', -2.0029092697161279),\n",
       " ('C(grade)[T.F]', -2.1245411402578025),\n",
       " ('C(purpose)[T.small_business]', -2.4737247603549877),\n",
       " ('C(year_issued)[T.2013]', -2.7452146777921955),\n",
       " ('C(addr_state)[T.FL]', -2.7672333546138637),\n",
       " ('C(home_ownership)[T.RENT]', -3.4472187457493146),\n",
       " ('C(grade)[T.B]', -3.4967750113322258),\n",
       " ('C(addr_state)[T.NY]', -3.6665979712625028),\n",
       " ('C(addr_state)[T.NJ]', -3.9189919884623095),\n",
       " ('C(addr_state)[T.CA]', -3.9275760272260296),\n",
       " ('C(addr_state)[T.NC]', -4.2254789516439528),\n",
       " ('C(addr_state)[T.VA]', -4.3663502640430103),\n",
       " ('C(addr_state)[T.MD]', -4.4635513508825566),\n",
       " ('C(addr_state)[T.NV]', -4.6305800336803005),\n",
       " ('C(addr_state)[T.MI]', -4.7855306746744324),\n",
       " ('C(month_issued)[T.2]', -4.9048769566354711),\n",
       " ('C(addr_state)[T.OH]', -4.9409688467763875),\n",
       " ('C(addr_state)[T.PA]', -4.9736860740675679),\n",
       " ('C(month_issued)[T.5]', -4.9906443847297997),\n",
       " ('C(month_issued)[T.4]', -5.0306679171265385),\n",
       " ('C(addr_state)[T.MN]', -5.072528730114283),\n",
       " ('C(addr_state)[T.AZ]', -5.1409757657791637),\n",
       " ('C(month_issued)[T.3]', -5.1616803487075398),\n",
       " ('C(month_issued)[T.6]', -5.2396221027867913),\n",
       " ('C(grade)[T.C]', -5.2857011746857037),\n",
       " ('C(addr_state)[T.MO]', -5.3890787726802101),\n",
       " ('C(addr_state)[T.MA]', -5.4426967096032097),\n",
       " ('C(addr_state)[T.GA]', -5.4772863249976371),\n",
       " ('C(addr_state)[T.IL]', -5.4993384819213098),\n",
       " ('C(purpose)[T.credit_card]', -5.5150448907127982),\n",
       " ('C(month_issued)[T.7]', -5.5405864223708452),\n",
       " ('C(addr_state)[T.TX]', -5.5784712928475448),\n",
       " ('C(year_issued)[T.2011]', -5.6145631836071415),\n",
       " ('C(purpose)[T.debt_consolidation]', -5.6614909557804012),\n",
       " ('C(addr_state)[T.AL]', -5.789611511252037),\n",
       " ('C(addr_state)[T.WA]', -5.792439855790172),\n",
       " ('C(month_issued)[T.8]', -5.8952851656735863),\n",
       " ('C(purpose)[T.other]', -5.9129980162333524),\n",
       " ('C(addr_state)[T.LA]', -5.9746698260742654),\n",
       " ('C(home_ownership)[T.OWN]', -6.0995247988475745),\n",
       " ('C(addr_state)[T.OR]', -6.1200633552921104),\n",
       " ('C(addr_state)[T.KY]', -6.3203750392095381),\n",
       " ('C(addr_state)[T.CT]', -6.4446697365962438),\n",
       " ('C(addr_state)[T.OK]', -6.5452217350948265),\n",
       " ('C(addr_state)[T.UT]', -6.6777256137173735),\n",
       " ('C(addr_state)[T.CO]', -6.7046494228703084),\n",
       " ('C(addr_state)[T.WI]', -6.7387782335845179),\n",
       " ('C(addr_state)[T.IN]', -6.7882587239083607),\n",
       " ('C(month_issued)[T.9]', -6.7939369492176409),\n",
       " ('C(purpose)[T.home_improvement]', -6.8381121064057178),\n",
       " ('C(month_issued)[T.10]', -6.9088001377459767),\n",
       " ('C(addr_state)[T.TN]', -7.0082786052858248),\n",
       " ('C(addr_state)[T.KS]', -7.0625374216035448),\n",
       " ('C(month_issued)[T.12]', -7.1029361137301406),\n",
       " ('C(addr_state)[T.AR]', -7.1753180682716193),\n",
       " ('C(grade)[T.G]', -7.1829495226656643),\n",
       " ('C(month_issued)[T.11]', -7.187685285517122),\n",
       " ('C(addr_state)[T.SC]', -7.2299462238600496),\n",
       " ('C(addr_state)[T.HI]', -7.2398627924390446),\n",
       " ('C(addr_state)[T.NM]', -7.3734332133215661),\n",
       " ('C(purpose)[T.major_purchase]', -7.5292310470610744),\n",
       " ('C(purpose)[T.medical]', -7.685359985751349),\n",
       " ('C(addr_state)[T.RI]', -8.2953806607357414),\n",
       " ('C(year_issued)[T.2010]', -8.3160224093162025),\n",
       " ('C(purpose)[T.moving]', -8.3667491409118711),\n",
       " ('C(purpose)[T.house]', -8.5531231761995077),\n",
       " ('C(addr_state)[T.NH]', -8.7194027986110729),\n",
       " ('collections_12_mths_ex_med', -9.0819435897107326),\n",
       " ('C(purpose)[T.vacation]', -9.0948144760234797),\n",
       " ('C(addr_state)[T.DE]', -9.1000586061802089),\n",
       " ('C(addr_state)[T.WV]', -9.1335916755853983),\n",
       " ('C(purpose)[T.wedding]', -9.5639459487124867),\n",
       " ('C(addr_state)[T.MT]', -9.5936859372820322),\n",
       " ('C(year_issued)[T.2009]', -9.6883719443586855),\n",
       " ('C(addr_state)[T.SD]', -9.814048838530697),\n",
       " ('C(addr_state)[T.WY]', -10.004002535292628),\n",
       " ('C(addr_state)[T.DC]', -10.02780753019865),\n",
       " ('C(year_issued)[T.2008]', -10.108727838998741),\n",
       " ('C(addr_state)[T.VT]', -10.23030291883655),\n",
       " ('C(purpose)[T.renewable_energy]', -10.72564700800794),\n",
       " ('C(addr_state)[T.MS]', -10.726411523289627),\n",
       " ('C(home_ownership)[T.OTHER]', -10.911955827233541),\n",
       " ('C(purpose)[T.educational]', -11.08041049694407),\n",
       " ('C(addr_state)[T.NE]', -11.847277720791022),\n",
       " ('C(addr_state)[T.IA]', -11.882282864734762),\n",
       " ('C(addr_state)[T.ID]', -11.959292596529659),\n",
       " ('C(addr_state)[T.ME]', -11.981581551543464),\n",
       " ('Intercept', -11.981652208148629)]"
      ]
     },
     "execution_count": 135,
     "metadata": {},
     "output_type": "execute_result"
    }
   ],
   "source": [
    "hundred"
   ]
  },
  {
   "cell_type": "code",
   "execution_count": 139,
   "metadata": {
    "collapsed": false
   },
   "outputs": [],
   "source": [
    "importand_featuers = hundred[:10] + hundred[-10:]"
   ]
  },
  {
   "cell_type": "code",
   "execution_count": 141,
   "metadata": {
    "collapsed": false
   },
   "outputs": [
    {
     "data": {
      "text/plain": [
       "0          3\n",
       "1          3\n",
       "2          2\n",
       "3         10\n",
       "4         15\n",
       "5          9\n",
       "6          7\n",
       "7          4\n",
       "8         11\n",
       "9          2\n",
       "10        14\n",
       "11        12\n",
       "12         4\n",
       "13        11\n",
       "14        14\n",
       "15        11\n",
       "16        14\n",
       "17        20\n",
       "18         4\n",
       "19         8\n",
       "20         8\n",
       "21         7\n",
       "22         8\n",
       "23         6\n",
       "24         7\n",
       "25         8\n",
       "26         7\n",
       "27        14\n",
       "28        12\n",
       "29         8\n",
       "          ..\n",
       "235599    19\n",
       "235600    12\n",
       "235601    14\n",
       "235602     4\n",
       "235603    23\n",
       "235604     9\n",
       "235605    13\n",
       "235606    19\n",
       "235607    13\n",
       "235608     8\n",
       "235609    11\n",
       "235610    11\n",
       "235611    14\n",
       "235612     9\n",
       "235613    10\n",
       "235614     9\n",
       "235615    11\n",
       "235616    16\n",
       "235617    13\n",
       "235618    10\n",
       "235619    12\n",
       "235620     8\n",
       "235621    16\n",
       "235622     9\n",
       "235623     8\n",
       "235624    18\n",
       "235625    18\n",
       "235626    21\n",
       "235627    18\n",
       "235628     6\n",
       "Name: open_acc, dtype: float64"
      ]
     },
     "execution_count": 141,
     "metadata": {},
     "output_type": "execute_result"
    }
   ],
   "source": [
    "df.open_acc"
   ]
  },
  {
   "cell_type": "code",
   "execution_count": 140,
   "metadata": {
    "collapsed": false
   },
   "outputs": [
    {
     "data": {
      "text/plain": [
       "[('int_rate', 100.0),\n",
       " ('ratio_mth_inc_all_payments', 99.998174004750908),\n",
       " ('revol_bal', 85.498197706312155),\n",
       " ('installment', 74.107724896520793),\n",
       " ('loan_amnt', 55.708428915496896),\n",
       " ('earliest_cr_line', 47.224535199232506),\n",
       " ('open_acc', 41.750444199661217),\n",
       " ('fico_range_low', 39.305943434182446),\n",
       " ('emp_length', 19.059672050782019),\n",
       " ('C(year_issued)[T.2014]', 15.839847040926678),\n",
       " ('C(addr_state)[T.VT]', -10.23030291883655),\n",
       " ('C(purpose)[T.renewable_energy]', -10.72564700800794),\n",
       " ('C(addr_state)[T.MS]', -10.726411523289627),\n",
       " ('C(home_ownership)[T.OTHER]', -10.911955827233541),\n",
       " ('C(purpose)[T.educational]', -11.08041049694407),\n",
       " ('C(addr_state)[T.NE]', -11.847277720791022),\n",
       " ('C(addr_state)[T.IA]', -11.882282864734762),\n",
       " ('C(addr_state)[T.ID]', -11.959292596529659),\n",
       " ('C(addr_state)[T.ME]', -11.981581551543464),\n",
       " ('Intercept', -11.981652208148629)]"
      ]
     },
     "execution_count": 140,
     "metadata": {},
     "output_type": "execute_result"
    }
   ],
   "source": [
    "importand_featuers"
   ]
  },
  {
   "cell_type": "code",
   "execution_count": 111,
   "metadata": {
    "collapsed": false,
    "scrolled": true
   },
   "outputs": [
    {
     "ename": "TypeError",
     "evalue": "'function' object is not iterable",
     "output_type": "error",
     "traceback": [
      "\u001b[0;31m---------------------------------------------------------------------------\u001b[0m",
      "\u001b[0;31mTypeError\u001b[0m                                 Traceback (most recent call last)",
      "\u001b[0;32m<ipython-input-111-b8e3feff9cdc>\u001b[0m in \u001b[0;36m<module>\u001b[0;34m()\u001b[0m\n\u001b[0;32m----> 1\u001b[0;31m \u001b[0mmap\u001b[0m\u001b[0;34m(\u001b[0m\u001b[0mvalues\u001b[0m\u001b[0;34m,\u001b[0m \u001b[0;32mlambda\u001b[0m \u001b[0mx\u001b[0m\u001b[0;34m:\u001b[0m \u001b[0mx\u001b[0m \u001b[0;34m*\u001b[0m \u001b[0;36m1102\u001b[0m \u001b[0;34m/\u001b[0m \u001b[0mnp\u001b[0m\u001b[0;34m.\u001b[0m\u001b[0mstd\u001b[0m\u001b[0;34m(\u001b[0m\u001b[0mvalues\u001b[0m\u001b[0;34m)\u001b[0m\u001b[0;34m)\u001b[0m\u001b[0;34m\u001b[0m\u001b[0m\n\u001b[0m",
      "\u001b[0;31mTypeError\u001b[0m: 'function' object is not iterable"
     ]
    }
   ],
   "source": [
    "for value in values:\n",
    "    value = "
   ]
  },
  {
   "cell_type": "code",
   "execution_count": 17,
   "metadata": {
    "collapsed": false,
    "scrolled": true
   },
   "outputs": [
    {
     "data": {
      "text/plain": [
       "0.5"
      ]
     },
     "execution_count": 17,
     "metadata": {},
     "output_type": "execute_result"
    }
   ],
   "source": [
    "prob_pred.mean()"
   ]
  },
  {
   "cell_type": "code",
   "execution_count": 54,
   "metadata": {
    "collapsed": false,
    "scrolled": false
   },
   "outputs": [
    {
     "name": "stderr",
     "output_type": "stream",
     "text": [
      "[Parallel(n_jobs=1)]: Done   1 jobs       | elapsed:    0.0s\n",
      "[Parallel(n_jobs=1)]: Done  50 jobs       | elapsed:    1.2s\n",
      "[Parallel(n_jobs=1)]: Done  50 out of  50 | elapsed:    1.2s finished\n"
     ]
    },
    {
     "data": {
      "text/plain": [
       "0.89873045078196867"
      ]
     },
     "execution_count": 54,
     "metadata": {},
     "output_type": "execute_result"
    }
   ],
   "source": [
    "rf_fit.score(X_test, y_test)"
   ]
  },
  {
   "cell_type": "code",
   "execution_count": null,
   "metadata": {
    "collapsed": true
   },
   "outputs": [],
   "source": [
    "rf_full = model_rf.fit(X, y)"
   ]
  },
  {
   "cell_type": "code",
   "execution_count": null,
   "metadata": {
    "collapsed": true
   },
   "outputs": [],
   "source": [
    "prediction = rf_full.predict(X)"
   ]
  },
  {
   "cell_type": "code",
   "execution_count": 96,
   "metadata": {
    "collapsed": false,
    "scrolled": false
   },
   "outputs": [
    {
     "name": "stderr",
     "output_type": "stream",
     "text": [
      "[Parallel(n_jobs=1)]: Done   1 jobs       | elapsed:    0.1s\n",
      "[Parallel(n_jobs=1)]: Done  50 jobs       | elapsed:    3.9s\n",
      "[Parallel(n_jobs=1)]: Done  50 out of  50 | elapsed:    3.9s finished\n"
     ]
    }
   ],
   "source": [
    "tuples = list(zip(y, rf_fit.predict_proba(X)))"
   ]
  },
  {
   "cell_type": "code",
   "execution_count": 97,
   "metadata": {
    "collapsed": false
   },
   "outputs": [
    {
     "data": {
      "text/plain": [
       "[(0.0, array([ 0.89656486,  0.10343514])),\n",
       " (1.0, array([ 0.66304684,  0.33695316])),\n",
       " (0.0, array([ 0.73805755,  0.26194245])),\n",
       " (0.0, array([ 0.83802716,  0.16197284])),\n",
       " (0.0, array([ 0.9145468,  0.0854532])),\n",
       " (0.0, array([ 0.87662657,  0.12337343])),\n",
       " (0.0, array([ 0.818842,  0.181158])),\n",
       " (0.0, array([ 0.78879857,  0.21120143])),\n",
       " (1.0, array([ 0.62657776,  0.37342224])),\n",
       " (1.0, array([ 0.66830516,  0.33169484])),\n",
       " (0.0, array([ 0.84829552,  0.15170448])),\n",
       " (0.0, array([ 0.90303472,  0.09696528])),\n",
       " (1.0, array([ 0.69287064,  0.30712936])),\n",
       " (0.0, array([ 0.80015427,  0.19984573])),\n",
       " (1.0, array([ 0.84500983,  0.15499017])),\n",
       " (0.0, array([ 0.69640697,  0.30359303])),\n",
       " (0.0, array([ 0.751328,  0.248672])),\n",
       " (0.0, array([ 0.95842638,  0.04157362])),\n",
       " (0.0, array([ 0.92821433,  0.07178567])),\n",
       " (0.0, array([ 0.96056859,  0.03943141])),\n",
       " (0.0, array([ 0.77836524,  0.22163476])),\n",
       " (1.0, array([ 0.83414748,  0.16585252])),\n",
       " (0.0, array([ 0.92152484,  0.07847516])),\n",
       " (0.0, array([ 0.88570002,  0.11429998])),\n",
       " (1.0, array([ 0.91842977,  0.08157023])),\n",
       " (0.0, array([ 0.95140966,  0.04859034])),\n",
       " (1.0, array([ 0.79250596,  0.20749404])),\n",
       " (1.0, array([ 0.62340692,  0.37659308])),\n",
       " (0.0, array([ 0.88407146,  0.11592854])),\n",
       " (0.0, array([ 0.85445847,  0.14554153])),\n",
       " (0.0, array([ 0.88458836,  0.11541164])),\n",
       " (0.0, array([ 0.96162314,  0.03837686])),\n",
       " (0.0, array([ 0.80104954,  0.19895046])),\n",
       " (0.0, array([ 0.92765269,  0.07234731])),\n",
       " (0.0, array([ 0.84595634,  0.15404366])),\n",
       " (0.0, array([ 0.91026956,  0.08973044])),\n",
       " (0.0, array([ 0.84891045,  0.15108955])),\n",
       " (0.0, array([ 0.91066462,  0.08933538])),\n",
       " (0.0, array([ 0.89118623,  0.10881377])),\n",
       " (0.0, array([ 0.81453689,  0.18546311])),\n",
       " (0.0, array([ 0.95251169,  0.04748831])),\n",
       " (0.0, array([ 0.95235215,  0.04764785])),\n",
       " (0.0, array([ 0.77219118,  0.22780882])),\n",
       " (0.0, array([ 0.86636157,  0.13363843])),\n",
       " (0.0, array([ 0.96571311,  0.03428689])),\n",
       " (0.0, array([ 0.89366236,  0.10633764])),\n",
       " (1.0, array([ 0.84840528,  0.15159472])),\n",
       " (0.0, array([ 0.81369777,  0.18630223])),\n",
       " (0.0, array([ 0.94806788,  0.05193212])),\n",
       " (0.0, array([ 0.97015135,  0.02984865])),\n",
       " (1.0, array([ 0.85386174,  0.14613826])),\n",
       " (0.0, array([ 0.9464278,  0.0535722])),\n",
       " (0.0, array([ 0.90968347,  0.09031653])),\n",
       " (1.0, array([ 0.67550485,  0.32449515])),\n",
       " (0.0, array([ 0.9233393,  0.0766607])),\n",
       " (1.0, array([ 0.69172468,  0.30827532])),\n",
       " (0.0, array([ 0.79753843,  0.20246157])),\n",
       " (0.0, array([ 0.84527845,  0.15472155])),\n",
       " (0.0, array([ 0.93708582,  0.06291418])),\n",
       " (0.0, array([ 0.81121971,  0.18878029])),\n",
       " (0.0, array([ 0.86819682,  0.13180318])),\n",
       " (0.0, array([ 0.69382524,  0.30617476])),\n",
       " (0.0, array([ 0.82738463,  0.17261537])),\n",
       " (0.0, array([ 0.83590102,  0.16409898])),\n",
       " (1.0, array([ 0.82969168,  0.17030832])),\n",
       " (0.0, array([ 0.9100825,  0.0899175])),\n",
       " (1.0, array([ 0.69287258,  0.30712742])),\n",
       " (0.0, array([ 0.8627751,  0.1372249])),\n",
       " (1.0, array([ 0.62708033,  0.37291967])),\n",
       " (0.0, array([ 0.8305663,  0.1694337])),\n",
       " (0.0, array([ 0.80264773,  0.19735227])),\n",
       " (1.0, array([ 0.78180461,  0.21819539])),\n",
       " (0.0, array([ 0.89697083,  0.10302917])),\n",
       " (0.0, array([ 0.86368276,  0.13631724])),\n",
       " (0.0, array([ 0.93089624,  0.06910376])),\n",
       " (0.0, array([ 0.80027101,  0.19972899])),\n",
       " (0.0, array([ 0.89025133,  0.10974867])),\n",
       " (0.0, array([ 0.72111995,  0.27888005])),\n",
       " (0.0, array([ 0.87224061,  0.12775939])),\n",
       " (0.0, array([ 0.73459565,  0.26540435])),\n",
       " (0.0, array([ 0.838899,  0.161101])),\n",
       " (0.0, array([ 0.90296217,  0.09703783])),\n",
       " (0.0, array([ 0.88205679,  0.11794321])),\n",
       " (0.0, array([ 0.96809983,  0.03190017])),\n",
       " (0.0, array([ 0.88611056,  0.11388944])),\n",
       " (0.0, array([ 0.86526257,  0.13473743])),\n",
       " (0.0, array([ 0.69172141,  0.30827859])),\n",
       " (0.0, array([ 0.8693441,  0.1306559])),\n",
       " (0.0, array([ 0.81169791,  0.18830209])),\n",
       " (0.0, array([ 0.91829263,  0.08170737])),\n",
       " (0.0, array([ 0.95684295,  0.04315705])),\n",
       " (0.0, array([ 0.93983409,  0.06016591])),\n",
       " (0.0, array([ 0.77793558,  0.22206442])),\n",
       " (0.0, array([ 0.88641681,  0.11358319])),\n",
       " (0.0, array([ 0.86761319,  0.13238681])),\n",
       " (0.0, array([ 0.76081062,  0.23918938])),\n",
       " (0.0, array([ 0.88248504,  0.11751496])),\n",
       " (1.0, array([ 0.65467503,  0.34532497])),\n",
       " (0.0, array([ 0.96353105,  0.03646895])),\n",
       " (0.0, array([ 0.90660522,  0.09339478])),\n",
       " (1.0, array([ 0.80230599,  0.19769401])),\n",
       " (0.0, array([ 0.81474765,  0.18525235])),\n",
       " (0.0, array([ 0.90430102,  0.09569898])),\n",
       " (0.0, array([ 0.94354338,  0.05645662])),\n",
       " (0.0, array([ 0.93903103,  0.06096897])),\n",
       " (1.0, array([ 0.66259186,  0.33740814])),\n",
       " (0.0, array([ 0.84633967,  0.15366033])),\n",
       " (0.0, array([ 0.88852916,  0.11147084])),\n",
       " (0.0, array([ 0.91318503,  0.08681497])),\n",
       " (0.0, array([ 0.82613749,  0.17386251])),\n",
       " (0.0, array([ 0.92984018,  0.07015982])),\n",
       " (0.0, array([ 0.95238724,  0.04761276])),\n",
       " (0.0, array([ 0.79513196,  0.20486804])),\n",
       " (0.0, array([ 0.88988756,  0.11011244])),\n",
       " (1.0, array([ 0.82274582,  0.17725418])),\n",
       " (0.0, array([ 0.85774289,  0.14225711])),\n",
       " (0.0, array([ 0.91042448,  0.08957552])),\n",
       " (0.0, array([ 0.94593054,  0.05406946])),\n",
       " (0.0, array([ 0.94793015,  0.05206985])),\n",
       " (0.0, array([ 0.90686163,  0.09313837])),\n",
       " (1.0, array([ 0.78895566,  0.21104434])),\n",
       " (1.0, array([ 0.73060301,  0.26939699])),\n",
       " (0.0, array([ 0.92015826,  0.07984174])),\n",
       " (0.0, array([ 0.90991682,  0.09008318])),\n",
       " (1.0, array([ 0.72227189,  0.27772811])),\n",
       " (0.0, array([ 0.91854236,  0.08145764])),\n",
       " (0.0, array([ 0.88757834,  0.11242166])),\n",
       " (0.0, array([ 0.78101608,  0.21898392])),\n",
       " (0.0, array([ 0.91662309,  0.08337691])),\n",
       " (0.0, array([ 0.92958003,  0.07041997])),\n",
       " (0.0, array([ 0.84595108,  0.15404892])),\n",
       " (1.0, array([ 0.79958448,  0.20041552])),\n",
       " (0.0, array([ 0.83656743,  0.16343257])),\n",
       " (0.0, array([ 0.84807699,  0.15192301])),\n",
       " (0.0, array([ 0.96385371,  0.03614629])),\n",
       " (0.0, array([ 0.9192812,  0.0807188])),\n",
       " (0.0, array([ 0.88562213,  0.11437787])),\n",
       " (1.0, array([ 0.84240239,  0.15759761])),\n",
       " (0.0, array([ 0.90795182,  0.09204818])),\n",
       " (0.0, array([ 0.9188632,  0.0811368])),\n",
       " (0.0, array([ 0.7480999,  0.2519001])),\n",
       " (0.0, array([ 0.90559351,  0.09440649])),\n",
       " (0.0, array([ 0.8438146,  0.1561854])),\n",
       " (0.0, array([ 0.85881642,  0.14118358])),\n",
       " (0.0, array([ 0.93429558,  0.06570442])),\n",
       " (1.0, array([ 0.79058705,  0.20941295])),\n",
       " (0.0, array([ 0.80033887,  0.19966113])),\n",
       " (0.0, array([ 0.78700097,  0.21299903])),\n",
       " (0.0, array([ 0.92221898,  0.07778102])),\n",
       " (0.0, array([ 0.73748325,  0.26251675])),\n",
       " (0.0, array([ 0.90940539,  0.09059461])),\n",
       " (1.0, array([ 0.81374841,  0.18625159])),\n",
       " (0.0, array([ 0.88086257,  0.11913743])),\n",
       " (1.0, array([ 0.69013519,  0.30986481])),\n",
       " (0.0, array([ 0.88193192,  0.11806808])),\n",
       " (1.0, array([ 0.85656596,  0.14343404])),\n",
       " (0.0, array([ 0.85292305,  0.14707695])),\n",
       " (0.0, array([ 0.94293377,  0.05706623])),\n",
       " (0.0, array([ 0.93413972,  0.06586028])),\n",
       " (0.0, array([ 0.85942024,  0.14057976])),\n",
       " (1.0, array([ 0.63661396,  0.36338604])),\n",
       " (0.0, array([ 0.67515674,  0.32484326])),\n",
       " (0.0, array([ 0.90123419,  0.09876581])),\n",
       " (0.0, array([ 0.96241394,  0.03758606])),\n",
       " (0.0, array([ 0.82139668,  0.17860332])),\n",
       " (0.0, array([ 0.89458821,  0.10541179])),\n",
       " (0.0, array([ 0.86094537,  0.13905463])),\n",
       " (0.0, array([ 0.90428704,  0.09571296])),\n",
       " (0.0, array([ 0.94845067,  0.05154933])),\n",
       " (0.0, array([ 0.89980554,  0.10019446])),\n",
       " (0.0, array([ 0.74494584,  0.25505416])),\n",
       " (0.0, array([ 0.91248319,  0.08751681])),\n",
       " (0.0, array([ 0.86730334,  0.13269666])),\n",
       " (0.0, array([ 0.91638543,  0.08361457])),\n",
       " (1.0, array([ 0.69047693,  0.30952307])),\n",
       " (1.0, array([ 0.7037443,  0.2962557])),\n",
       " (1.0, array([ 0.61897261,  0.38102739])),\n",
       " (0.0, array([ 0.92432335,  0.07567665])),\n",
       " (1.0, array([ 0.83167431,  0.16832569])),\n",
       " (0.0, array([ 0.91733244,  0.08266756])),\n",
       " (0.0, array([ 0.82792985,  0.17207015])),\n",
       " (1.0, array([ 0.6569919,  0.3430081])),\n",
       " (1.0, array([ 0.79940675,  0.20059325])),\n",
       " (0.0, array([ 0.85384994,  0.14615006])),\n",
       " (0.0, array([ 0.84902927,  0.15097073])),\n",
       " (0.0, array([ 0.9489968,  0.0510032])),\n",
       " (0.0, array([ 0.80264157,  0.19735843])),\n",
       " (1.0, array([ 0.78894433,  0.21105567])),\n",
       " (0.0, array([ 0.82847991,  0.17152009])),\n",
       " (0.0, array([ 0.8407684,  0.1592316])),\n",
       " (0.0, array([ 0.93037164,  0.06962836])),\n",
       " (0.0, array([ 0.86618206,  0.13381794])),\n",
       " (0.0, array([ 0.88233056,  0.11766944])),\n",
       " (0.0, array([ 0.97147373,  0.02852627])),\n",
       " (1.0, array([ 0.77998334,  0.22001666])),\n",
       " (0.0, array([ 0.87191416,  0.12808584])),\n",
       " (0.0, array([ 0.91256747,  0.08743253])),\n",
       " (0.0, array([ 0.9104224,  0.0895776])),\n",
       " (0.0, array([ 0.86416698,  0.13583302])),\n",
       " (0.0, array([ 0.87891937,  0.12108063])),\n",
       " (0.0, array([ 0.83445007,  0.16554993])),\n",
       " (0.0, array([ 0.7681838,  0.2318162])),\n",
       " (1.0, array([ 0.85058294,  0.14941706])),\n",
       " (1.0, array([ 0.67555912,  0.32444088])),\n",
       " (0.0, array([ 0.93212758,  0.06787242])),\n",
       " (0.0, array([ 0.90892648,  0.09107352])),\n",
       " (0.0, array([ 0.83299403,  0.16700597])),\n",
       " (0.0, array([ 0.91978841,  0.08021159])),\n",
       " (0.0, array([ 0.7721334,  0.2278666])),\n",
       " (0.0, array([ 0.81118043,  0.18881957])),\n",
       " (0.0, array([ 0.87937042,  0.12062958])),\n",
       " (1.0, array([ 0.82821391,  0.17178609])),\n",
       " (0.0, array([ 0.81349765,  0.18650235])),\n",
       " (0.0, array([ 0.92787795,  0.07212205])),\n",
       " (0.0, array([ 0.95320476,  0.04679524])),\n",
       " (0.0, array([ 0.89384761,  0.10615239])),\n",
       " (0.0, array([ 0.81012043,  0.18987957])),\n",
       " (0.0, array([ 0.76789395,  0.23210605])),\n",
       " (0.0, array([ 0.92748979,  0.07251021])),\n",
       " (1.0, array([ 0.63034819,  0.36965181])),\n",
       " (0.0, array([ 0.83715683,  0.16284317])),\n",
       " (0.0, array([ 0.90779242,  0.09220758])),\n",
       " (0.0, array([ 0.64544401,  0.35455599])),\n",
       " (1.0, array([ 0.87160595,  0.12839405])),\n",
       " (1.0, array([ 0.64120077,  0.35879923])),\n",
       " (1.0, array([ 0.6894595,  0.3105405])),\n",
       " (0.0, array([ 0.95392604,  0.04607396])),\n",
       " (0.0, array([ 0.80763454,  0.19236546])),\n",
       " (0.0, array([ 0.9135617,  0.0864383])),\n",
       " (0.0, array([ 0.88712418,  0.11287582])),\n",
       " (1.0, array([ 0.86704198,  0.13295802])),\n",
       " (0.0, array([ 0.92432067,  0.07567933])),\n",
       " (0.0, array([ 0.91652798,  0.08347202])),\n",
       " (0.0, array([ 0.91200167,  0.08799833])),\n",
       " (0.0, array([ 0.94792583,  0.05207417])),\n",
       " (0.0, array([ 0.92325093,  0.07674907])),\n",
       " (0.0, array([ 0.68260655,  0.31739345])),\n",
       " (0.0, array([ 0.87489805,  0.12510195])),\n",
       " (0.0, array([ 0.75391242,  0.24608758])),\n",
       " (0.0, array([ 0.896548,  0.103452])),\n",
       " (0.0, array([ 0.92274808,  0.07725192])),\n",
       " (0.0, array([ 0.79883401,  0.20116599])),\n",
       " (0.0, array([ 0.9139026,  0.0860974])),\n",
       " (0.0, array([ 0.96333605,  0.03666395])),\n",
       " (0.0, array([ 0.8673204,  0.1326796])),\n",
       " (0.0, array([ 0.84109759,  0.15890241])),\n",
       " (0.0, array([ 0.88323583,  0.11676417])),\n",
       " (0.0, array([ 0.88448029,  0.11551971])),\n",
       " (0.0, array([ 0.66780031,  0.33219969])),\n",
       " (0.0, array([ 0.82454738,  0.17545262])),\n",
       " (1.0, array([ 0.75534518,  0.24465482])),\n",
       " (0.0, array([ 0.97939849,  0.02060151])),\n",
       " (0.0, array([ 0.92653747,  0.07346253])),\n",
       " (0.0, array([ 0.84737881,  0.15262119])),\n",
       " (1.0, array([ 0.76384166,  0.23615834])),\n",
       " (0.0, array([ 0.92999277,  0.07000723])),\n",
       " (0.0, array([ 0.91009328,  0.08990672])),\n",
       " (0.0, array([ 0.88716932,  0.11283068])),\n",
       " (0.0, array([ 0.93521997,  0.06478003])),\n",
       " (0.0, array([ 0.94235489,  0.05764511])),\n",
       " (0.0, array([ 0.80861769,  0.19138231])),\n",
       " (0.0, array([ 0.8313434,  0.1686566])),\n",
       " (0.0, array([ 0.8996738,  0.1003262])),\n",
       " (0.0, array([ 0.94944158,  0.05055842])),\n",
       " (0.0, array([ 0.84448758,  0.15551242])),\n",
       " (1.0, array([ 0.81221244,  0.18778756])),\n",
       " (0.0, array([ 0.91449738,  0.08550262])),\n",
       " (0.0, array([ 0.78580492,  0.21419508])),\n",
       " (0.0, array([ 0.8354038,  0.1645962])),\n",
       " (1.0, array([ 0.56528483,  0.43471517])),\n",
       " (0.0, array([ 0.90380279,  0.09619721])),\n",
       " (0.0, array([ 0.94437768,  0.05562232])),\n",
       " (1.0, array([ 0.77362264,  0.22637736])),\n",
       " (0.0, array([ 0.9852071,  0.0147929])),\n",
       " (0.0, array([ 0.86981643,  0.13018357])),\n",
       " (0.0, array([ 0.93965662,  0.06034338])),\n",
       " (0.0, array([ 0.94853196,  0.05146804])),\n",
       " (1.0, array([ 0.76741726,  0.23258274])),\n",
       " (0.0, array([ 0.94251646,  0.05748354])),\n",
       " (0.0, array([ 0.83584713,  0.16415287])),\n",
       " (0.0, array([ 0.96445343,  0.03554657])),\n",
       " (0.0, array([ 0.90079213,  0.09920787])),\n",
       " (0.0, array([ 0.84014422,  0.15985578])),\n",
       " (0.0, array([ 0.94887729,  0.05112271])),\n",
       " (0.0, array([ 0.83369172,  0.16630828])),\n",
       " (0.0, array([ 0.82989754,  0.17010246])),\n",
       " (0.0, array([ 0.80661671,  0.19338329])),\n",
       " (0.0, array([ 0.88392832,  0.11607168])),\n",
       " (0.0, array([ 0.91923424,  0.08076576])),\n",
       " (0.0, array([ 0.94646938,  0.05353062])),\n",
       " (0.0, array([ 0.77109075,  0.22890925])),\n",
       " (0.0, array([ 0.93728478,  0.06271522])),\n",
       " (0.0, array([ 0.91672894,  0.08327106])),\n",
       " (0.0, array([ 0.88996951,  0.11003049])),\n",
       " (0.0, array([ 0.96252508,  0.03747492])),\n",
       " (0.0, array([ 0.9321564,  0.0678436])),\n",
       " (0.0, array([ 0.87480668,  0.12519332])),\n",
       " (0.0, array([ 0.94009482,  0.05990518])),\n",
       " (1.0, array([ 0.80109923,  0.19890077])),\n",
       " (1.0, array([ 0.69346624,  0.30653376])),\n",
       " (1.0, array([ 0.64958941,  0.35041059])),\n",
       " (0.0, array([ 0.87409831,  0.12590169])),\n",
       " (0.0, array([ 0.88377136,  0.11622864])),\n",
       " (1.0, array([ 0.60811326,  0.39188674])),\n",
       " (0.0, array([ 0.79340022,  0.20659978])),\n",
       " (0.0, array([ 0.78550787,  0.21449213])),\n",
       " (0.0, array([ 0.918069,  0.081931])),\n",
       " (0.0, array([ 0.94345556,  0.05654444])),\n",
       " (0.0, array([ 0.88732134,  0.11267866])),\n",
       " (0.0, array([ 0.89834818,  0.10165182])),\n",
       " (0.0, array([ 0.91072564,  0.08927436])),\n",
       " (0.0, array([ 0.92838252,  0.07161748])),\n",
       " (1.0, array([ 0.649136,  0.350864])),\n",
       " (1.0, array([ 0.76572424,  0.23427576])),\n",
       " (0.0, array([ 0.85926193,  0.14073807])),\n",
       " (0.0, array([ 0.98298986,  0.01701014])),\n",
       " (1.0, array([ 0.83606223,  0.16393777])),\n",
       " (0.0, array([ 0.80529278,  0.19470722])),\n",
       " (0.0, array([ 0.78152886,  0.21847114])),\n",
       " (0.0, array([ 0.85432334,  0.14567666])),\n",
       " (0.0, array([ 0.85842283,  0.14157717])),\n",
       " (0.0, array([ 0.89102103,  0.10897897])),\n",
       " (1.0, array([ 0.73130868,  0.26869132])),\n",
       " (0.0, array([ 0.89038929,  0.10961071])),\n",
       " (0.0, array([ 0.78715897,  0.21284103])),\n",
       " (0.0, array([ 0.86605308,  0.13394692])),\n",
       " (1.0, array([ 0.85384267,  0.14615733])),\n",
       " (0.0, array([ 0.7870465,  0.2129535])),\n",
       " (0.0, array([ 0.9100942,  0.0899058])),\n",
       " (0.0, array([ 0.91592202,  0.08407798])),\n",
       " (0.0, array([ 0.94047135,  0.05952865])),\n",
       " (0.0, array([ 0.93655942,  0.06344058])),\n",
       " (0.0, array([ 0.92195225,  0.07804775])),\n",
       " (0.0, array([ 0.80629511,  0.19370489])),\n",
       " (0.0, array([ 0.86952055,  0.13047945])),\n",
       " (0.0, array([ 0.85555322,  0.14444678])),\n",
       " (0.0, array([ 0.91766887,  0.08233113])),\n",
       " (1.0, array([ 0.7895591,  0.2104409])),\n",
       " (1.0, array([ 0.85687612,  0.14312388])),\n",
       " (0.0, array([ 0.8414265,  0.1585735])),\n",
       " (0.0, array([ 0.87309969,  0.12690031])),\n",
       " (0.0, array([ 0.86024796,  0.13975204])),\n",
       " (1.0, array([ 0.79634637,  0.20365363])),\n",
       " (0.0, array([ 0.84930041,  0.15069959])),\n",
       " (0.0, array([ 0.94103849,  0.05896151])),\n",
       " (0.0, array([ 0.77777926,  0.22222074])),\n",
       " (1.0, array([ 0.71427643,  0.28572357])),\n",
       " (0.0, array([ 0.82493141,  0.17506859])),\n",
       " (0.0, array([ 0.9310882,  0.0689118])),\n",
       " (0.0, array([ 0.89607345,  0.10392655])),\n",
       " (0.0, array([ 0.77901156,  0.22098844])),\n",
       " (0.0, array([ 0.91625551,  0.08374449])),\n",
       " (0.0, array([ 0.95402034,  0.04597966])),\n",
       " (0.0, array([ 0.90581223,  0.09418777])),\n",
       " (1.0, array([ 0.71609521,  0.28390479])),\n",
       " (0.0, array([ 0.85387121,  0.14612879])),\n",
       " (0.0, array([ 0.9695983,  0.0304017])),\n",
       " (0.0, array([ 0.82321947,  0.17678053])),\n",
       " (0.0, array([ 0.87861174,  0.12138826])),\n",
       " (0.0, array([ 0.73737073,  0.26262927])),\n",
       " (1.0, array([ 0.72437761,  0.27562239])),\n",
       " (0.0, array([ 0.77861042,  0.22138958])),\n",
       " (0.0, array([ 0.72397856,  0.27602144])),\n",
       " (1.0, array([ 0.77290236,  0.22709764])),\n",
       " (0.0, array([ 0.88537182,  0.11462818])),\n",
       " (0.0, array([ 0.82151534,  0.17848466])),\n",
       " (0.0, array([ 0.8485236,  0.1514764])),\n",
       " (0.0, array([ 0.93157463,  0.06842537])),\n",
       " (0.0, array([ 0.85285889,  0.14714111])),\n",
       " (0.0, array([ 0.92115749,  0.07884251])),\n",
       " (0.0, array([ 0.90914115,  0.09085885])),\n",
       " (0.0, array([ 0.9449907,  0.0550093])),\n",
       " (0.0, array([ 0.90796308,  0.09203692])),\n",
       " (0.0, array([ 0.76798083,  0.23201917])),\n",
       " (1.0, array([ 0.78138208,  0.21861792])),\n",
       " (0.0, array([ 0.91346189,  0.08653811])),\n",
       " (0.0, array([ 0.91885407,  0.08114593])),\n",
       " (0.0, array([ 0.93945873,  0.06054127])),\n",
       " (1.0, array([ 0.87123582,  0.12876418])),\n",
       " (1.0, array([ 0.69595584,  0.30404416])),\n",
       " (0.0, array([ 0.91670374,  0.08329626])),\n",
       " (0.0, array([ 0.9074166,  0.0925834])),\n",
       " (0.0, array([ 0.92231553,  0.07768447])),\n",
       " (0.0, array([ 0.92293466,  0.07706534])),\n",
       " (0.0, array([ 0.9124963,  0.0875037])),\n",
       " (0.0, array([ 0.90745005,  0.09254995])),\n",
       " (1.0, array([ 0.87126102,  0.12873898])),\n",
       " (0.0, array([ 0.89323858,  0.10676142])),\n",
       " (0.0, array([ 0.83340283,  0.16659717])),\n",
       " (0.0, array([ 0.71823968,  0.28176032])),\n",
       " (0.0, array([ 0.9390373,  0.0609627])),\n",
       " (0.0, array([ 0.78725509,  0.21274491])),\n",
       " (0.0, array([ 0.9104281,  0.0895719])),\n",
       " (0.0, array([ 0.81242288,  0.18757712])),\n",
       " (0.0, array([ 0.8585434,  0.1414566])),\n",
       " (0.0, array([ 0.87435118,  0.12564882])),\n",
       " (0.0, array([ 0.78529735,  0.21470265])),\n",
       " (0.0, array([ 0.8894781,  0.1105219])),\n",
       " (0.0, array([ 0.87253612,  0.12746388])),\n",
       " (0.0, array([ 0.84601043,  0.15398957])),\n",
       " (0.0, array([ 0.77625158,  0.22374842])),\n",
       " (0.0, array([ 0.84559469,  0.15440531])),\n",
       " (0.0, array([ 0.83085352,  0.16914648])),\n",
       " (0.0, array([ 0.90516322,  0.09483678])),\n",
       " (0.0, array([ 0.78501003,  0.21498997])),\n",
       " (0.0, array([ 0.81466086,  0.18533914])),\n",
       " (0.0, array([ 0.91502932,  0.08497068])),\n",
       " (0.0, array([ 0.89947449,  0.10052551])),\n",
       " (0.0, array([ 0.89187407,  0.10812593])),\n",
       " (1.0, array([ 0.64279352,  0.35720648])),\n",
       " (0.0, array([ 0.87247604,  0.12752396])),\n",
       " (1.0, array([ 0.75796398,  0.24203602])),\n",
       " (0.0, array([ 0.89956935,  0.10043065])),\n",
       " (0.0, array([ 0.80800311,  0.19199689])),\n",
       " (0.0, array([ 0.84635147,  0.15364853])),\n",
       " (0.0, array([ 0.94021455,  0.05978545])),\n",
       " (0.0, array([ 0.92224127,  0.07775873])),\n",
       " (0.0, array([ 0.93261659,  0.06738341])),\n",
       " (0.0, array([ 0.96857838,  0.03142162])),\n",
       " (0.0, array([ 0.89839326,  0.10160674])),\n",
       " (1.0, array([ 0.7903487,  0.2096513])),\n",
       " (0.0, array([ 0.8163003,  0.1836997])),\n",
       " (0.0, array([ 0.80137689,  0.19862311])),\n",
       " (0.0, array([ 0.91141253,  0.08858747])),\n",
       " (0.0, array([ 0.93205714,  0.06794286])),\n",
       " (0.0, array([ 0.77011312,  0.22988688])),\n",
       " (1.0, array([ 0.74034304,  0.25965696])),\n",
       " (0.0, array([ 0.83671243,  0.16328757])),\n",
       " (0.0, array([ 0.91496544,  0.08503456])),\n",
       " (1.0, array([ 0.75456441,  0.24543559])),\n",
       " (0.0, array([ 0.97316172,  0.02683828])),\n",
       " (1.0, array([ 0.7227501,  0.2772499])),\n",
       " (0.0, array([ 0.81179389,  0.18820611])),\n",
       " (0.0, array([ 0.96188402,  0.03811598])),\n",
       " (0.0, array([ 0.91565249,  0.08434751])),\n",
       " (0.0, array([ 0.95094802,  0.04905198])),\n",
       " (0.0, array([ 0.94292185,  0.05707815])),\n",
       " (0.0, array([ 0.96759166,  0.03240834])),\n",
       " (0.0, array([ 0.94147238,  0.05852762])),\n",
       " (0.0, array([ 0.86490638,  0.13509362])),\n",
       " (0.0, array([ 0.95948178,  0.04051822])),\n",
       " (0.0, array([ 0.78925072,  0.21074928])),\n",
       " (0.0, array([ 0.89110609,  0.10889391])),\n",
       " (0.0, array([ 0.79465517,  0.20534483])),\n",
       " (0.0, array([ 0.9105818,  0.0894182])),\n",
       " (0.0, array([ 0.83861195,  0.16138805])),\n",
       " (0.0, array([ 0.94544829,  0.05455171])),\n",
       " (0.0, array([ 0.87407011,  0.12592989])),\n",
       " (0.0, array([ 0.83095717,  0.16904283])),\n",
       " (0.0, array([ 0.92427661,  0.07572339])),\n",
       " (0.0, array([ 0.85997256,  0.14002744])),\n",
       " (0.0, array([ 0.91472106,  0.08527894])),\n",
       " (0.0, array([ 0.96814057,  0.03185943])),\n",
       " (1.0, array([ 0.65324886,  0.34675114])),\n",
       " (0.0, array([ 0.8503614,  0.1496386])),\n",
       " (0.0, array([ 0.92119289,  0.07880711])),\n",
       " (0.0, array([ 0.9220155,  0.0779845])),\n",
       " (1.0, array([ 0.70851743,  0.29148257])),\n",
       " (0.0, array([ 0.9514459,  0.0485541])),\n",
       " (1.0, array([ 0.82121807,  0.17878193])),\n",
       " (0.0, array([ 0.90744243,  0.09255757])),\n",
       " (1.0, array([ 0.61359356,  0.38640644])),\n",
       " (0.0, array([ 0.85163939,  0.14836061])),\n",
       " (0.0, array([ 0.91306741,  0.08693259])),\n",
       " (0.0, array([ 0.82405487,  0.17594513])),\n",
       " (0.0, array([ 0.85126313,  0.14873687])),\n",
       " (0.0, array([ 0.9244861,  0.0755139])),\n",
       " (0.0, array([ 0.82613096,  0.17386904])),\n",
       " (0.0, array([ 0.86490856,  0.13509144])),\n",
       " (0.0, array([ 0.91514242,  0.08485758])),\n",
       " (0.0, array([ 0.86433601,  0.13566399])),\n",
       " (1.0, array([ 0.86168595,  0.13831405])),\n",
       " (0.0, array([ 0.77444554,  0.22555446])),\n",
       " (0.0, array([ 0.90575547,  0.09424453])),\n",
       " (0.0, array([ 0.83135344,  0.16864656])),\n",
       " (1.0, array([ 0.82313876,  0.17686124])),\n",
       " (0.0, array([ 0.94807775,  0.05192225])),\n",
       " (0.0, array([ 0.93224496,  0.06775504])),\n",
       " (0.0, array([ 0.92688484,  0.07311516])),\n",
       " (1.0, array([ 0.74410515,  0.25589485])),\n",
       " (0.0, array([ 0.85567866,  0.14432134])),\n",
       " (0.0, array([ 0.90708974,  0.09291026])),\n",
       " (0.0, array([ 0.93311573,  0.06688427])),\n",
       " (0.0, array([ 0.81812071,  0.18187929])),\n",
       " (1.0, array([ 0.82850038,  0.17149962])),\n",
       " (0.0, array([ 0.74511257,  0.25488743])),\n",
       " (0.0, array([ 0.82031171,  0.17968829])),\n",
       " (0.0, array([ 0.8415812,  0.1584188])),\n",
       " (0.0, array([ 0.89759905,  0.10240095])),\n",
       " (0.0, array([ 0.92065648,  0.07934352])),\n",
       " (0.0, array([ 0.89671707,  0.10328293])),\n",
       " (1.0, array([ 0.60033831,  0.39966169])),\n",
       " (0.0, array([ 0.94551423,  0.05448577])),\n",
       " (0.0, array([ 0.77045797,  0.22954203])),\n",
       " (0.0, array([ 0.83507344,  0.16492656])),\n",
       " (0.0, array([ 0.90348782,  0.09651218])),\n",
       " (0.0, array([ 0.94221142,  0.05778858])),\n",
       " (0.0, array([ 0.86483735,  0.13516265])),\n",
       " (0.0, array([ 0.84320711,  0.15679289])),\n",
       " (0.0, array([ 0.85526569,  0.14473431])),\n",
       " (1.0, array([ 0.55744826,  0.44255174])),\n",
       " (0.0, array([ 0.86654528,  0.13345472])),\n",
       " (0.0, array([ 0.86284349,  0.13715651])),\n",
       " (0.0, array([ 0.9171018,  0.0828982])),\n",
       " (0.0, array([ 0.87999602,  0.12000398])),\n",
       " (0.0, array([ 0.90205995,  0.09794005])),\n",
       " (0.0, array([ 0.89538885,  0.10461115])),\n",
       " (0.0, array([ 0.92307571,  0.07692429])),\n",
       " (0.0, array([ 0.81462746,  0.18537254])),\n",
       " (1.0, array([ 0.65284665,  0.34715335])),\n",
       " (0.0, array([ 0.85112603,  0.14887397])),\n",
       " (0.0, array([ 0.82340158,  0.17659842])),\n",
       " (0.0, array([ 0.80892914,  0.19107086])),\n",
       " (0.0, array([ 0.87257489,  0.12742511])),\n",
       " (0.0, array([ 0.89811375,  0.10188625])),\n",
       " (0.0, array([ 0.86155935,  0.13844065])),\n",
       " (0.0, array([ 0.8476235,  0.1523765])),\n",
       " (0.0, array([ 0.66753401,  0.33246599])),\n",
       " (1.0, array([ 0.70766874,  0.29233126])),\n",
       " (0.0, array([ 0.80915811,  0.19084189])),\n",
       " (0.0, array([ 0.90127249,  0.09872751])),\n",
       " (1.0, array([ 0.73532119,  0.26467881])),\n",
       " (0.0, array([ 0.92239111,  0.07760889])),\n",
       " (0.0, array([ 0.98306492,  0.01693508])),\n",
       " (0.0, array([ 0.82459029,  0.17540971])),\n",
       " (0.0, array([ 0.8643651,  0.1356349])),\n",
       " (0.0, array([ 0.821872,  0.178128])),\n",
       " (1.0, array([ 0.67744855,  0.32255145])),\n",
       " (0.0, array([ 0.88811478,  0.11188522])),\n",
       " (0.0, array([ 0.89153897,  0.10846103])),\n",
       " (0.0, array([ 0.93246796,  0.06753204])),\n",
       " (1.0, array([ 0.74657218,  0.25342782])),\n",
       " (0.0, array([ 0.92720265,  0.07279735])),\n",
       " (1.0, array([ 0.66891983,  0.33108017])),\n",
       " (0.0, array([ 0.69931278,  0.30068722])),\n",
       " (1.0, array([ 0.58368938,  0.41631062])),\n",
       " (0.0, array([ 0.74806118,  0.25193882])),\n",
       " (0.0, array([ 0.91773615,  0.08226385])),\n",
       " (0.0, array([ 0.87991163,  0.12008837])),\n",
       " (0.0, array([ 0.77066812,  0.22933188])),\n",
       " (1.0, array([ 0.69449956,  0.30550044])),\n",
       " (1.0, array([ 0.81191305,  0.18808695])),\n",
       " (0.0, array([ 0.92661076,  0.07338924])),\n",
       " (0.0, array([ 0.92864842,  0.07135158])),\n",
       " (0.0, array([ 0.80128742,  0.19871258])),\n",
       " (0.0, array([ 0.89587081,  0.10412919])),\n",
       " (0.0, array([ 0.87416412,  0.12583588])),\n",
       " (0.0, array([ 0.88797124,  0.11202876])),\n",
       " (0.0, array([ 0.93208053,  0.06791947])),\n",
       " (0.0, array([ 0.96804109,  0.03195891])),\n",
       " (0.0, array([ 0.86688439,  0.13311561])),\n",
       " (0.0, array([ 0.88058066,  0.11941934])),\n",
       " (1.0, array([ 0.72097392,  0.27902608])),\n",
       " (1.0, array([ 0.84269369,  0.15730631])),\n",
       " (0.0, array([ 0.80703572,  0.19296428])),\n",
       " (1.0, array([ 0.78004129,  0.21995871])),\n",
       " (0.0, array([ 0.91585136,  0.08414864])),\n",
       " (0.0, array([ 0.89236478,  0.10763522])),\n",
       " (0.0, array([ 0.80666972,  0.19333028])),\n",
       " (0.0, array([ 0.83154144,  0.16845856])),\n",
       " (0.0, array([ 0.85333654,  0.14666346])),\n",
       " (1.0, array([ 0.75623322,  0.24376678])),\n",
       " (0.0, array([ 0.9357464,  0.0642536])),\n",
       " (0.0, array([ 0.81564471,  0.18435529])),\n",
       " (0.0, array([ 0.91977685,  0.08022315])),\n",
       " (1.0, array([ 0.64333572,  0.35666428])),\n",
       " (0.0, array([ 0.92479281,  0.07520719])),\n",
       " (0.0, array([ 0.79156377,  0.20843623])),\n",
       " (0.0, array([ 0.88510604,  0.11489396])),\n",
       " (0.0, array([ 0.93923321,  0.06076679])),\n",
       " (0.0, array([ 0.89173237,  0.10826763])),\n",
       " (1.0, array([ 0.9087448,  0.0912552])),\n",
       " (1.0, array([ 0.64429656,  0.35570344])),\n",
       " (0.0, array([ 0.81068726,  0.18931274])),\n",
       " (1.0, array([ 0.77415326,  0.22584674])),\n",
       " (0.0, array([ 0.91810403,  0.08189597])),\n",
       " (0.0, array([ 0.86049732,  0.13950268])),\n",
       " (0.0, array([ 0.86459412,  0.13540588])),\n",
       " (0.0, array([ 0.88996369,  0.11003631])),\n",
       " (1.0, array([ 0.70536893,  0.29463107])),\n",
       " (1.0, array([ 0.64519199,  0.35480801])),\n",
       " (0.0, array([ 0.84104447,  0.15895553])),\n",
       " (0.0, array([ 0.72584127,  0.27415873])),\n",
       " (0.0, array([ 0.90038846,  0.09961154])),\n",
       " (0.0, array([ 0.84877343,  0.15122657])),\n",
       " (1.0, array([ 0.69115488,  0.30884512])),\n",
       " (0.0, array([ 0.87245682,  0.12754318])),\n",
       " (0.0, array([ 0.8792723,  0.1207277])),\n",
       " (1.0, array([ 0.73707117,  0.26292883])),\n",
       " (0.0, array([ 0.80440253,  0.19559747])),\n",
       " (1.0, array([ 0.84375666,  0.15624334])),\n",
       " (0.0, array([ 0.87311242,  0.12688758])),\n",
       " (1.0, array([ 0.75946009,  0.24053991])),\n",
       " (1.0, array([ 0.50836912,  0.49163088])),\n",
       " (0.0, array([ 0.89560933,  0.10439067])),\n",
       " (0.0, array([ 0.84596845,  0.15403155])),\n",
       " (0.0, array([ 0.87197077,  0.12802923])),\n",
       " (0.0, array([ 0.87516693,  0.12483307])),\n",
       " (1.0, array([ 0.64568179,  0.35431821])),\n",
       " (0.0, array([ 0.86338014,  0.13661986])),\n",
       " (0.0, array([ 0.89879138,  0.10120862])),\n",
       " (0.0, array([ 0.95129533,  0.04870467])),\n",
       " (0.0, array([ 0.96038797,  0.03961203])),\n",
       " (0.0, array([ 0.88425828,  0.11574172])),\n",
       " (0.0, array([ 0.76766565,  0.23233435])),\n",
       " (0.0, array([ 0.8635116,  0.1364884])),\n",
       " (0.0, array([ 0.78277646,  0.21722354])),\n",
       " (1.0, array([ 0.76135789,  0.23864211])),\n",
       " (0.0, array([ 0.82273202,  0.17726798])),\n",
       " (1.0, array([ 0.66199799,  0.33800201])),\n",
       " (0.0, array([ 0.88151689,  0.11848311])),\n",
       " (1.0, array([ 0.6919948,  0.3080052])),\n",
       " (0.0, array([ 0.71162215,  0.28837785])),\n",
       " (0.0, array([ 0.91524288,  0.08475712])),\n",
       " (1.0, array([ 0.78214379,  0.21785621])),\n",
       " (0.0, array([ 0.81601315,  0.18398685])),\n",
       " (1.0, array([ 0.75572841,  0.24427159])),\n",
       " (0.0, array([ 0.88652631,  0.11347369])),\n",
       " (0.0, array([ 0.93291912,  0.06708088])),\n",
       " (0.0, array([ 0.79107032,  0.20892968])),\n",
       " (0.0, array([ 0.96140273,  0.03859727])),\n",
       " (0.0, array([ 0.76158342,  0.23841658])),\n",
       " (0.0, array([ 0.81527849,  0.18472151])),\n",
       " (1.0, array([ 0.76608425,  0.23391575])),\n",
       " (0.0, array([ 0.93725693,  0.06274307])),\n",
       " (0.0, array([ 0.91952536,  0.08047464])),\n",
       " (0.0, array([ 0.84343983,  0.15656017])),\n",
       " (0.0, array([ 0.77594433,  0.22405567])),\n",
       " (1.0, array([ 0.75282258,  0.24717742])),\n",
       " (0.0, array([ 0.84245358,  0.15754642])),\n",
       " (0.0, array([ 0.90208587,  0.09791413])),\n",
       " (0.0, array([ 0.96814228,  0.03185772])),\n",
       " (0.0, array([ 0.89950614,  0.10049386])),\n",
       " (0.0, array([ 0.74767925,  0.25232075])),\n",
       " (1.0, array([ 0.73423722,  0.26576278])),\n",
       " (0.0, array([ 0.86345983,  0.13654017])),\n",
       " (0.0, array([ 0.81236044,  0.18763956])),\n",
       " (0.0, array([ 0.88740211,  0.11259789])),\n",
       " (0.0, array([ 0.94609158,  0.05390842])),\n",
       " (0.0, array([ 0.94440201,  0.05559799])),\n",
       " (0.0, array([ 0.90671034,  0.09328966])),\n",
       " (1.0, array([ 0.63868805,  0.36131195])),\n",
       " (0.0, array([ 0.77589662,  0.22410338])),\n",
       " (0.0, array([ 0.86298513,  0.13701487])),\n",
       " (0.0, array([ 0.85856206,  0.14143794])),\n",
       " (0.0, array([ 0.82601974,  0.17398026])),\n",
       " (0.0, array([ 0.78617133,  0.21382867])),\n",
       " (0.0, array([ 0.71941073,  0.28058927])),\n",
       " (1.0, array([ 0.68613893,  0.31386107])),\n",
       " (0.0, array([ 0.73523489,  0.26476511])),\n",
       " (0.0, array([ 0.91637416,  0.08362584])),\n",
       " (0.0, array([ 0.9261276,  0.0738724])),\n",
       " (0.0, array([ 0.79474252,  0.20525748])),\n",
       " (0.0, array([ 0.9155346,  0.0844654])),\n",
       " (0.0, array([ 0.89913597,  0.10086403])),\n",
       " (0.0, array([ 0.94224033,  0.05775967])),\n",
       " (0.0, array([ 0.85896848,  0.14103152])),\n",
       " (0.0, array([ 0.9298603,  0.0701397])),\n",
       " (0.0, array([ 0.74329691,  0.25670309])),\n",
       " (0.0, array([ 0.89745066,  0.10254934])),\n",
       " (0.0, array([ 0.8521996,  0.1478004])),\n",
       " (0.0, array([ 0.9026187,  0.0973813])),\n",
       " (0.0, array([ 0.76126563,  0.23873437])),\n",
       " (0.0, array([ 0.77057369,  0.22942631])),\n",
       " (0.0, array([ 0.90113247,  0.09886753])),\n",
       " (0.0, array([ 0.8884989,  0.1115011])),\n",
       " (0.0, array([ 0.9228088,  0.0771912])),\n",
       " (0.0, array([ 0.81935016,  0.18064984])),\n",
       " (0.0, array([ 0.91938066,  0.08061934])),\n",
       " (0.0, array([ 0.79298697,  0.20701303])),\n",
       " (0.0, array([ 0.76662539,  0.23337461])),\n",
       " (0.0, array([ 0.9139873,  0.0860127])),\n",
       " (0.0, array([ 0.9095258,  0.0904742])),\n",
       " (0.0, array([ 0.84610219,  0.15389781])),\n",
       " (0.0, array([ 0.92981598,  0.07018402])),\n",
       " (0.0, array([ 0.85228671,  0.14771329])),\n",
       " (0.0, array([ 0.90953736,  0.09046264])),\n",
       " (0.0, array([ 0.89773173,  0.10226827])),\n",
       " (0.0, array([ 0.79788675,  0.20211325])),\n",
       " (0.0, array([ 0.82370159,  0.17629841])),\n",
       " (1.0, array([ 0.5846148,  0.4153852])),\n",
       " (0.0, array([ 0.94064301,  0.05935699])),\n",
       " (0.0, array([ 0.81005642,  0.18994358])),\n",
       " (0.0, array([ 0.87510803,  0.12489197])),\n",
       " (1.0, array([ 0.58055697,  0.41944303])),\n",
       " (1.0, array([ 0.75060815,  0.24939185])),\n",
       " (0.0, array([ 0.91361592,  0.08638408])),\n",
       " (0.0, array([ 0.86956672,  0.13043328])),\n",
       " (0.0, array([ 0.88396988,  0.11603012])),\n",
       " (0.0, array([ 0.8335165,  0.1664835])),\n",
       " (1.0, array([ 0.66658824,  0.33341176])),\n",
       " (0.0, array([ 0.92596937,  0.07403063])),\n",
       " (1.0, array([ 0.67933111,  0.32066889])),\n",
       " (0.0, array([ 0.83416751,  0.16583249])),\n",
       " (0.0, array([ 0.8797751,  0.1202249])),\n",
       " (0.0, array([ 0.88217834,  0.11782166])),\n",
       " (0.0, array([ 0.85959461,  0.14040539])),\n",
       " (0.0, array([ 0.93173021,  0.06826979])),\n",
       " (0.0, array([ 0.73249887,  0.26750113])),\n",
       " (0.0, array([ 0.87842513,  0.12157487])),\n",
       " (0.0, array([ 0.93156279,  0.06843721])),\n",
       " (0.0, array([ 0.96131618,  0.03868382])),\n",
       " (0.0, array([ 0.89123734,  0.10876266])),\n",
       " (0.0, array([ 0.66473134,  0.33526866])),\n",
       " (0.0, array([ 0.78935959,  0.21064041])),\n",
       " (0.0, array([ 0.84543578,  0.15456422])),\n",
       " (0.0, array([ 0.90099593,  0.09900407])),\n",
       " (0.0, array([ 0.80177139,  0.19822861])),\n",
       " (0.0, array([ 0.88951879,  0.11048121])),\n",
       " (0.0, array([ 0.8549079,  0.1450921])),\n",
       " (0.0, array([ 0.92731156,  0.07268844])),\n",
       " (0.0, array([ 0.77001852,  0.22998148])),\n",
       " (0.0, array([ 0.92544373,  0.07455627])),\n",
       " (0.0, array([ 0.86622076,  0.13377924])),\n",
       " (0.0, array([ 0.95492983,  0.04507017])),\n",
       " (0.0, array([ 0.96765576,  0.03234424])),\n",
       " (0.0, array([ 0.90083679,  0.09916321])),\n",
       " (1.0, array([ 0.78428267,  0.21571733])),\n",
       " (0.0, array([ 0.83166478,  0.16833522])),\n",
       " (0.0, array([ 0.85142124,  0.14857876])),\n",
       " (1.0, array([ 0.69280207,  0.30719793])),\n",
       " (0.0, array([ 0.8920146,  0.1079854])),\n",
       " (1.0, array([ 0.78385307,  0.21614693])),\n",
       " (0.0, array([ 0.78662746,  0.21337254])),\n",
       " (0.0, array([ 0.72087551,  0.27912449])),\n",
       " (0.0, array([ 0.89060512,  0.10939488])),\n",
       " (0.0, array([ 0.89192613,  0.10807387])),\n",
       " (0.0, array([ 0.90361289,  0.09638711])),\n",
       " (1.0, array([ 0.8057238,  0.1942762])),\n",
       " (0.0, array([ 0.9788991,  0.0211009])),\n",
       " (0.0, array([ 0.95296333,  0.04703667])),\n",
       " (0.0, array([ 0.8940194,  0.1059806])),\n",
       " (0.0, array([ 0.93320087,  0.06679913])),\n",
       " (0.0, array([ 0.86876384,  0.13123616])),\n",
       " (0.0, array([ 0.93894342,  0.06105658])),\n",
       " (0.0, array([ 0.86508311,  0.13491689])),\n",
       " (0.0, array([ 0.81343015,  0.18656985])),\n",
       " (0.0, array([ 0.84034259,  0.15965741])),\n",
       " (0.0, array([ 0.7890078,  0.2109922])),\n",
       " (0.0, array([ 0.70745796,  0.29254204])),\n",
       " (0.0, array([ 0.85722931,  0.14277069])),\n",
       " (0.0, array([ 0.75055884,  0.24944116])),\n",
       " (0.0, array([ 0.90231404,  0.09768596])),\n",
       " (0.0, array([ 0.87565844,  0.12434156])),\n",
       " (1.0, array([ 0.82793751,  0.17206249])),\n",
       " (0.0, array([ 0.82049927,  0.17950073])),\n",
       " (0.0, array([ 0.80468808,  0.19531192])),\n",
       " (0.0, array([ 0.85888971,  0.14111029])),\n",
       " (0.0, array([ 0.93067433,  0.06932567])),\n",
       " (0.0, array([ 0.90666714,  0.09333286])),\n",
       " (0.0, array([ 0.76413785,  0.23586215])),\n",
       " (0.0, array([ 0.87404772,  0.12595228])),\n",
       " (0.0, array([ 0.9147334,  0.0852666])),\n",
       " (0.0, array([ 0.900885,  0.099115])),\n",
       " (0.0, array([ 0.89413685,  0.10586315])),\n",
       " (1.0, array([ 0.54239064,  0.45760936])),\n",
       " (0.0, array([ 0.75560555,  0.24439445])),\n",
       " (0.0, array([ 0.92432206,  0.07567794])),\n",
       " (0.0, array([ 0.70235501,  0.29764499])),\n",
       " (0.0, array([ 0.94971042,  0.05028958])),\n",
       " (0.0, array([ 0.91018663,  0.08981337])),\n",
       " (1.0, array([ 0.60467028,  0.39532972])),\n",
       " (0.0, array([ 0.8935313,  0.1064687])),\n",
       " (0.0, array([ 0.90229986,  0.09770014])),\n",
       " (0.0, array([ 0.79127148,  0.20872852])),\n",
       " (0.0, array([ 0.86862341,  0.13137659])),\n",
       " (0.0, array([ 0.94074625,  0.05925375])),\n",
       " (0.0, array([ 0.88089319,  0.11910681])),\n",
       " (0.0, array([ 0.88178151,  0.11821849])),\n",
       " (1.0, array([ 0.8909702,  0.1090298])),\n",
       " (0.0, array([ 0.93011695,  0.06988305])),\n",
       " (0.0, array([ 0.79040483,  0.20959517])),\n",
       " (1.0, array([ 0.71048873,  0.28951127])),\n",
       " (1.0, array([ 0.79505901,  0.20494099])),\n",
       " (0.0, array([ 0.73937984,  0.26062016])),\n",
       " (0.0, array([ 0.90445856,  0.09554144])),\n",
       " (0.0, array([ 0.86313507,  0.13686493])),\n",
       " (0.0, array([ 0.84853608,  0.15146392])),\n",
       " (0.0, array([ 0.9006333,  0.0993667])),\n",
       " (0.0, array([ 0.91528447,  0.08471553])),\n",
       " (0.0, array([ 0.95188321,  0.04811679])),\n",
       " (0.0, array([ 0.89422974,  0.10577026])),\n",
       " (0.0, array([ 0.93222803,  0.06777197])),\n",
       " (0.0, array([ 0.83198851,  0.16801149])),\n",
       " (0.0, array([ 0.94124977,  0.05875023])),\n",
       " (0.0, array([ 0.87713279,  0.12286721])),\n",
       " (1.0, array([ 0.86049547,  0.13950453])),\n",
       " (1.0, array([ 0.86851457,  0.13148543])),\n",
       " (0.0, array([ 0.90020337,  0.09979663])),\n",
       " (0.0, array([ 0.69078855,  0.30921145])),\n",
       " (1.0, array([ 0.71556269,  0.28443731])),\n",
       " (0.0, array([ 0.77226447,  0.22773553])),\n",
       " (0.0, array([ 0.81488557,  0.18511443])),\n",
       " (0.0, array([ 0.9669122,  0.0330878])),\n",
       " (0.0, array([ 0.79988751,  0.20011249])),\n",
       " (0.0, array([ 0.93924562,  0.06075438])),\n",
       " (0.0, array([ 0.87108651,  0.12891349])),\n",
       " (1.0, array([ 0.78993834,  0.21006166])),\n",
       " (0.0, array([ 0.72774987,  0.27225013])),\n",
       " (0.0, array([ 0.83760106,  0.16239894])),\n",
       " (0.0, array([ 0.91747594,  0.08252406])),\n",
       " (0.0, array([ 0.92553139,  0.07446861])),\n",
       " (0.0, array([ 0.7028296,  0.2971704])),\n",
       " (0.0, array([ 0.85177908,  0.14822092])),\n",
       " (0.0, array([ 0.93691385,  0.06308615])),\n",
       " (0.0, array([ 0.86839498,  0.13160502])),\n",
       " (0.0, array([ 0.95139607,  0.04860393])),\n",
       " (1.0, array([ 0.62503046,  0.37496954])),\n",
       " (0.0, array([ 0.81351608,  0.18648392])),\n",
       " (1.0, array([ 0.75690251,  0.24309749])),\n",
       " (0.0, array([ 0.93645879,  0.06354121])),\n",
       " (0.0, array([ 0.90160654,  0.09839346])),\n",
       " (0.0, array([ 0.8892016,  0.1107984])),\n",
       " (0.0, array([ 0.78259549,  0.21740451])),\n",
       " (0.0, array([ 0.80081993,  0.19918007])),\n",
       " (0.0, array([ 0.79983807,  0.20016193])),\n",
       " (0.0, array([ 0.82257231,  0.17742769])),\n",
       " (0.0, array([ 0.82676247,  0.17323753])),\n",
       " (1.0, array([ 0.72229032,  0.27770968])),\n",
       " (0.0, array([ 0.8562871,  0.1437129])),\n",
       " (0.0, array([ 0.92479243,  0.07520757])),\n",
       " (0.0, array([ 0.93563101,  0.06436899])),\n",
       " (1.0, array([ 0.64046442,  0.35953558])),\n",
       " (0.0, array([ 0.7842495,  0.2157505])),\n",
       " (0.0, array([ 0.93248283,  0.06751717])),\n",
       " (0.0, array([ 0.83800108,  0.16199892])),\n",
       " (1.0, array([ 0.75141923,  0.24858077])),\n",
       " (0.0, array([ 0.85512428,  0.14487572])),\n",
       " (1.0, array([ 0.71876064,  0.28123936])),\n",
       " (0.0, array([ 0.89778623,  0.10221377])),\n",
       " (0.0, array([ 0.76257481,  0.23742519])),\n",
       " (0.0, array([ 0.84571726,  0.15428274])),\n",
       " (0.0, array([ 0.90717353,  0.09282647])),\n",
       " (1.0, array([ 0.66153682,  0.33846318])),\n",
       " (0.0, array([ 0.83991307,  0.16008693])),\n",
       " (1.0, array([ 0.65605221,  0.34394779])),\n",
       " (0.0, array([ 0.8850837,  0.1149163])),\n",
       " (0.0, array([ 0.96259029,  0.03740971])),\n",
       " (0.0, array([ 0.97380523,  0.02619477])),\n",
       " (0.0, array([ 0.85598619,  0.14401381])),\n",
       " (0.0, array([ 0.91950446,  0.08049554])),\n",
       " (0.0, array([ 0.8730604,  0.1269396])),\n",
       " (0.0, array([ 0.83645938,  0.16354062])),\n",
       " (0.0, array([ 0.9085227,  0.0914773])),\n",
       " (0.0, array([ 0.82209494,  0.17790506])),\n",
       " (0.0, array([ 0.83876566,  0.16123434])),\n",
       " (0.0, array([ 0.76628071,  0.23371929])),\n",
       " (0.0, array([ 0.86282746,  0.13717254])),\n",
       " (0.0, array([ 0.8088007,  0.1911993])),\n",
       " (0.0, array([ 0.95428482,  0.04571518])),\n",
       " (0.0, array([ 0.79498588,  0.20501412])),\n",
       " (0.0, array([ 0.92802907,  0.07197093])),\n",
       " (0.0, array([ 0.83686005,  0.16313995])),\n",
       " (0.0, array([ 0.87304813,  0.12695187])),\n",
       " (0.0, array([ 0.89471754,  0.10528246])),\n",
       " (0.0, array([ 0.75670807,  0.24329193])),\n",
       " (0.0, array([ 0.75227697,  0.24772303])),\n",
       " (0.0, array([ 0.93646527,  0.06353473])),\n",
       " (0.0, array([ 0.93369447,  0.06630553])),\n",
       " (0.0, array([ 0.89031233,  0.10968767])),\n",
       " (0.0, array([ 0.94203471,  0.05796529])),\n",
       " (0.0, array([ 0.93026979,  0.06973021])),\n",
       " (0.0, array([ 0.94255242,  0.05744758])),\n",
       " (1.0, array([ 0.69249644,  0.30750356])),\n",
       " (0.0, array([ 0.86847617,  0.13152383])),\n",
       " (0.0, array([ 0.63626929,  0.36373071])),\n",
       " (0.0, array([ 0.9064458,  0.0935542])),\n",
       " (0.0, array([ 0.91862586,  0.08137414])),\n",
       " (0.0, array([ 0.78309318,  0.21690682])),\n",
       " (0.0, array([ 0.85627256,  0.14372744])),\n",
       " (1.0, array([ 0.80442936,  0.19557064])),\n",
       " (0.0, array([ 0.88621932,  0.11378068])),\n",
       " (0.0, array([ 0.89286355,  0.10713645])),\n",
       " (0.0, array([ 0.91053097,  0.08946903])),\n",
       " (0.0, array([ 0.92784595,  0.07215405])),\n",
       " (0.0, array([ 0.88314226,  0.11685774])),\n",
       " (1.0, array([ 0.59943524,  0.40056476])),\n",
       " (0.0, array([ 0.83882472,  0.16117528])),\n",
       " (0.0, array([ 0.78880056,  0.21119944])),\n",
       " (0.0, array([ 0.87211574,  0.12788426])),\n",
       " (0.0, array([ 0.8410248,  0.1589752])),\n",
       " (1.0, array([ 0.61374842,  0.38625158])),\n",
       " (0.0, array([ 0.83355871,  0.16644129])),\n",
       " (0.0, array([ 0.93769166,  0.06230834])),\n",
       " (0.0, array([ 0.94221606,  0.05778394])),\n",
       " (0.0, array([ 0.80689614,  0.19310386])),\n",
       " (0.0, array([ 0.86716895,  0.13283105])),\n",
       " (0.0, array([ 0.80680064,  0.19319936])),\n",
       " (0.0, array([ 0.97871594,  0.02128406])),\n",
       " (0.0, array([ 0.91884775,  0.08115225])),\n",
       " (0.0, array([ 0.74394321,  0.25605679])),\n",
       " (0.0, array([ 0.92968641,  0.07031359])),\n",
       " (0.0, array([ 0.91392148,  0.08607852])),\n",
       " (0.0, array([ 0.90296653,  0.09703347])),\n",
       " (0.0, array([ 0.81217894,  0.18782106])),\n",
       " (0.0, array([ 0.97383068,  0.02616932])),\n",
       " (0.0, array([ 0.76997694,  0.23002306])),\n",
       " (1.0, array([ 0.7681566,  0.2318434])),\n",
       " (1.0, array([ 0.74507972,  0.25492028])),\n",
       " (1.0, array([ 0.75254877,  0.24745123])),\n",
       " (0.0, array([ 0.94812832,  0.05187168])),\n",
       " (0.0, array([ 0.90788574,  0.09211426])),\n",
       " (1.0, array([ 0.55729408,  0.44270592])),\n",
       " (0.0, array([ 0.85986509,  0.14013491])),\n",
       " (1.0, array([ 0.62327632,  0.37672368])),\n",
       " (0.0, array([ 0.92909192,  0.07090808])),\n",
       " (0.0, array([ 0.91794935,  0.08205065])),\n",
       " (0.0, array([ 0.73224481,  0.26775519])),\n",
       " (0.0, array([ 0.76103022,  0.23896978])),\n",
       " (0.0, array([ 0.82082186,  0.17917814])),\n",
       " (0.0, array([ 0.95798427,  0.04201573])),\n",
       " (0.0, array([ 0.94056783,  0.05943217])),\n",
       " (0.0, array([ 0.94516888,  0.05483112])),\n",
       " (0.0, array([ 0.89577643,  0.10422357])),\n",
       " (1.0, array([ 0.63417931,  0.36582069])),\n",
       " (0.0, array([ 0.92617172,  0.07382828])),\n",
       " (0.0, array([ 0.82008118,  0.17991882])),\n",
       " (0.0, array([ 0.91062948,  0.08937052])),\n",
       " (1.0, array([ 0.74081631,  0.25918369])),\n",
       " (0.0, array([ 0.69316491,  0.30683509])),\n",
       " (0.0, array([ 0.92267124,  0.07732876])),\n",
       " (0.0, array([ 0.93785016,  0.06214984])),\n",
       " (1.0, array([ 0.71279639,  0.28720361])),\n",
       " (0.0, array([ 0.94999851,  0.05000149])),\n",
       " (1.0, array([ 0.6270172,  0.3729828])),\n",
       " (0.0, array([ 0.83962892,  0.16037108])),\n",
       " (0.0, array([ 0.88953879,  0.11046121])),\n",
       " (0.0, array([ 0.75610419,  0.24389581])),\n",
       " (0.0, array([ 0.75865407,  0.24134593])),\n",
       " (0.0, array([ 0.82530071,  0.17469929])),\n",
       " (0.0, array([ 0.86736892,  0.13263108])),\n",
       " (0.0, array([ 0.95328815,  0.04671185])),\n",
       " (0.0, array([ 0.87320864,  0.12679136])),\n",
       " (1.0, array([ 0.73879647,  0.26120353])),\n",
       " (0.0, array([ 0.87667907,  0.12332093])),\n",
       " (0.0, array([ 0.83017775,  0.16982225])),\n",
       " (0.0, array([ 0.93287612,  0.06712388])),\n",
       " (1.0, array([ 0.85893722,  0.14106278])),\n",
       " (0.0, array([ 0.8799227,  0.1200773])),\n",
       " (0.0, array([ 0.81949831,  0.18050169])),\n",
       " (0.0, array([ 0.96372543,  0.03627457])),\n",
       " (1.0, array([ 0.67165721,  0.32834279])),\n",
       " (0.0, array([ 0.8285476,  0.1714524])),\n",
       " (0.0, array([ 0.7677111,  0.2322889])),\n",
       " (0.0, array([ 0.93270648,  0.06729352])),\n",
       " (0.0, array([ 0.91269801,  0.08730199])),\n",
       " (0.0, array([ 0.80124367,  0.19875633])),\n",
       " (0.0, array([ 0.86155595,  0.13844405])),\n",
       " (1.0, array([ 0.67038452,  0.32961548])),\n",
       " (0.0, array([ 0.9531511,  0.0468489])),\n",
       " (0.0, array([ 0.9535597,  0.0464403])),\n",
       " (0.0, array([ 0.6056326,  0.3943674])),\n",
       " (0.0, array([ 0.91066538,  0.08933462])),\n",
       " (0.0, array([ 0.82873199,  0.17126801])),\n",
       " (1.0, array([ 0.75839533,  0.24160467])),\n",
       " (0.0, array([ 0.69967074,  0.30032926])),\n",
       " (0.0, array([ 0.81596665,  0.18403335])),\n",
       " (0.0, array([ 0.95678062,  0.04321938])),\n",
       " (1.0, array([ 0.76226811,  0.23773189])),\n",
       " (0.0, array([ 0.92489887,  0.07510113])),\n",
       " (0.0, array([ 0.80980902,  0.19019098])),\n",
       " (1.0, array([ 0.79691524,  0.20308476])),\n",
       " (0.0, array([ 0.9007541,  0.0992459])),\n",
       " (0.0, array([ 0.91481928,  0.08518072])),\n",
       " (0.0, array([ 0.89703894,  0.10296106])),\n",
       " (1.0, array([ 0.75952792,  0.24047208])),\n",
       " (0.0, array([ 0.92151479,  0.07848521])),\n",
       " (0.0, array([ 0.8832214,  0.1167786])),\n",
       " (0.0, array([ 0.9187128,  0.0812872])),\n",
       " (1.0, array([ 0.63539078,  0.36460922])),\n",
       " (0.0, array([ 0.76992733,  0.23007267])),\n",
       " (0.0, array([ 0.82912266,  0.17087734])),\n",
       " (0.0, array([ 0.84252524,  0.15747476])),\n",
       " (0.0, array([ 0.81400391,  0.18599609])),\n",
       " (0.0, array([ 0.84665693,  0.15334307])),\n",
       " (0.0, array([ 0.896964,  0.103036])),\n",
       " (0.0, array([ 0.88673452,  0.11326548])),\n",
       " (0.0, array([ 0.90180582,  0.09819418])),\n",
       " (0.0, array([ 0.82234543,  0.17765457])),\n",
       " (0.0, array([ 0.94442884,  0.05557116])),\n",
       " (0.0, array([ 0.89507836,  0.10492164])),\n",
       " (0.0, array([ 0.77391813,  0.22608187])),\n",
       " (0.0, array([ 0.86941969,  0.13058031])),\n",
       " (0.0, array([ 0.86172729,  0.13827271])),\n",
       " (0.0, array([ 0.85119821,  0.14880179])),\n",
       " (0.0, array([ 0.92480697,  0.07519303])),\n",
       " (0.0, array([ 0.89140727,  0.10859273])),\n",
       " (0.0, array([ 0.8972524,  0.1027476])),\n",
       " (0.0, array([ 0.95179991,  0.04820009])),\n",
       " (0.0, array([ 0.86295824,  0.13704176])),\n",
       " (0.0, array([ 0.90247626,  0.09752374])),\n",
       " (1.0, array([ 0.78365646,  0.21634354])),\n",
       " (0.0, array([ 0.78674846,  0.21325154])),\n",
       " (0.0, array([ 0.92305965,  0.07694035])),\n",
       " (0.0, array([ 0.86998728,  0.13001272])),\n",
       " (0.0, array([ 0.94407304,  0.05592696])),\n",
       " (0.0, array([ 0.81904252,  0.18095748])),\n",
       " (1.0, array([ 0.85222429,  0.14777571])),\n",
       " (0.0, array([ 0.82379334,  0.17620666])),\n",
       " (0.0, array([ 0.84746967,  0.15253033])),\n",
       " ...]"
      ]
     },
     "execution_count": 97,
     "metadata": {},
     "output_type": "execute_result"
    }
   ],
   "source": [
    "tuples"
   ]
  },
  {
   "cell_type": "code",
   "execution_count": null,
   "metadata": {
    "collapsed": false
   },
   "outputs": [],
   "source": [
    "rf_full.score(X, y)"
   ]
  },
  {
   "cell_type": "markdown",
   "metadata": {},
   "source": [
    "## Support Vector Machines"
   ]
  },
  {
   "cell_type": "code",
   "execution_count": 55,
   "metadata": {
    "collapsed": true
   },
   "outputs": [],
   "source": [
    "from sklearn import svm"
   ]
  },
  {
   "cell_type": "code",
   "execution_count": 56,
   "metadata": {
    "collapsed": true
   },
   "outputs": [],
   "source": [
    "model = svm.SVC(random_state=4134)"
   ]
  },
  {
   "cell_type": "code",
   "execution_count": null,
   "metadata": {
    "collapsed": true
   },
   "outputs": [],
   "source": [
    "svm_fit = model.fit(X_test, y_test)"
   ]
  },
  {
   "cell_type": "markdown",
   "metadata": {},
   "source": [
    "# Simple Random Forests"
   ]
  },
  {
   "cell_type": "code",
   "execution_count": 13,
   "metadata": {
    "collapsed": false,
    "scrolled": true
   },
   "outputs": [
    {
     "ename": "PatsyError",
     "evalue": "Error evaluating factor: NameError: name 'delinq' is not defined\n    delinq ~ fico_range_low + pub_rec + revol_util +C(home_ownership)\n    ^^^^^^",
     "output_type": "error",
     "traceback": [
      "\u001b[0;31m---------------------------------------------------------------------------\u001b[0m",
      "\u001b[0;31mNameError\u001b[0m                                 Traceback (most recent call last)",
      "\u001b[0;32m/Users/Will/anaconda/envs/py34/lib/python3.4/site-packages/patsy/compat.py\u001b[0m in \u001b[0;36mcall_and_wrap_exc\u001b[0;34m(msg, origin, f, *args, **kwargs)\u001b[0m\n\u001b[1;32m    116\u001b[0m     \u001b[0;32mtry\u001b[0m\u001b[0;34m:\u001b[0m\u001b[0;34m\u001b[0m\u001b[0m\n\u001b[0;32m--> 117\u001b[0;31m         \u001b[0;32mreturn\u001b[0m \u001b[0mf\u001b[0m\u001b[0;34m(\u001b[0m\u001b[0;34m*\u001b[0m\u001b[0margs\u001b[0m\u001b[0;34m,\u001b[0m \u001b[0;34m**\u001b[0m\u001b[0mkwargs\u001b[0m\u001b[0;34m)\u001b[0m\u001b[0;34m\u001b[0m\u001b[0m\n\u001b[0m\u001b[1;32m    118\u001b[0m     \u001b[0;32mexcept\u001b[0m \u001b[0mException\u001b[0m \u001b[0;32mas\u001b[0m \u001b[0me\u001b[0m\u001b[0;34m:\u001b[0m\u001b[0;34m\u001b[0m\u001b[0m\n",
      "\u001b[0;32m/Users/Will/anaconda/envs/py34/lib/python3.4/site-packages/patsy/eval.py\u001b[0m in \u001b[0;36meval\u001b[0;34m(self, expr, source_name, inner_namespace)\u001b[0m\n\u001b[1;32m    165\u001b[0m         return eval(code, {}, VarLookupDict([inner_namespace]\n\u001b[0;32m--> 166\u001b[0;31m                                             + self._namespaces))\n\u001b[0m\u001b[1;32m    167\u001b[0m \u001b[0;34m\u001b[0m\u001b[0m\n",
      "\u001b[0;32m<string>\u001b[0m in \u001b[0;36m<module>\u001b[0;34m()\u001b[0m\n",
      "\u001b[0;31mNameError\u001b[0m: name 'delinq' is not defined",
      "\nThe above exception was the direct cause of the following exception:\n",
      "\u001b[0;31mPatsyError\u001b[0m                                Traceback (most recent call last)",
      "\u001b[0;32m<ipython-input-13-4e23bec9766a>\u001b[0m in \u001b[0;36m<module>\u001b[0;34m()\u001b[0m\n\u001b[0;32m----> 1\u001b[0;31m y, X = dmatrices('delinq ~ fico_range_low + pub_rec + revol_util +'\n\u001b[0m\u001b[1;32m      2\u001b[0m                 'C(home_ownership)')\n",
      "\u001b[0;32m/Users/Will/anaconda/envs/py34/lib/python3.4/site-packages/patsy/highlevel.py\u001b[0m in \u001b[0;36mdmatrices\u001b[0;34m(formula_like, data, eval_env, NA_action, return_type)\u001b[0m\n\u001b[1;32m    295\u001b[0m     \u001b[0meval_env\u001b[0m \u001b[0;34m=\u001b[0m \u001b[0mEvalEnvironment\u001b[0m\u001b[0;34m.\u001b[0m\u001b[0mcapture\u001b[0m\u001b[0;34m(\u001b[0m\u001b[0meval_env\u001b[0m\u001b[0;34m,\u001b[0m \u001b[0mreference\u001b[0m\u001b[0;34m=\u001b[0m\u001b[0;36m1\u001b[0m\u001b[0;34m)\u001b[0m\u001b[0;34m\u001b[0m\u001b[0m\n\u001b[1;32m    296\u001b[0m     (lhs, rhs) = _do_highlevel_design(formula_like, data, eval_env,\n\u001b[0;32m--> 297\u001b[0;31m                                       NA_action, return_type)\n\u001b[0m\u001b[1;32m    298\u001b[0m     \u001b[0;32mif\u001b[0m \u001b[0mlhs\u001b[0m\u001b[0;34m.\u001b[0m\u001b[0mshape\u001b[0m\u001b[0;34m[\u001b[0m\u001b[0;36m1\u001b[0m\u001b[0;34m]\u001b[0m \u001b[0;34m==\u001b[0m \u001b[0;36m0\u001b[0m\u001b[0;34m:\u001b[0m\u001b[0;34m\u001b[0m\u001b[0m\n\u001b[1;32m    299\u001b[0m         \u001b[0;32mraise\u001b[0m \u001b[0mPatsyError\u001b[0m\u001b[0;34m(\u001b[0m\u001b[0;34m\"model is missing required outcome variables\"\u001b[0m\u001b[0;34m)\u001b[0m\u001b[0;34m\u001b[0m\u001b[0m\n",
      "\u001b[0;32m/Users/Will/anaconda/envs/py34/lib/python3.4/site-packages/patsy/highlevel.py\u001b[0m in \u001b[0;36m_do_highlevel_design\u001b[0;34m(formula_like, data, eval_env, NA_action, return_type)\u001b[0m\n\u001b[1;32m    150\u001b[0m         \u001b[0;32mreturn\u001b[0m \u001b[0miter\u001b[0m\u001b[0;34m(\u001b[0m\u001b[0;34m[\u001b[0m\u001b[0mdata\u001b[0m\u001b[0;34m]\u001b[0m\u001b[0;34m)\u001b[0m\u001b[0;34m\u001b[0m\u001b[0m\n\u001b[1;32m    151\u001b[0m     design_infos = _try_incr_builders(formula_like, data_iter_maker, eval_env,\n\u001b[0;32m--> 152\u001b[0;31m                                       NA_action)\n\u001b[0m\u001b[1;32m    153\u001b[0m     \u001b[0;32mif\u001b[0m \u001b[0mdesign_infos\u001b[0m \u001b[0;32mis\u001b[0m \u001b[0;32mnot\u001b[0m \u001b[0;32mNone\u001b[0m\u001b[0;34m:\u001b[0m\u001b[0;34m\u001b[0m\u001b[0m\n\u001b[1;32m    154\u001b[0m         return build_design_matrices(design_infos, data,\n",
      "\u001b[0;32m/Users/Will/anaconda/envs/py34/lib/python3.4/site-packages/patsy/highlevel.py\u001b[0m in \u001b[0;36m_try_incr_builders\u001b[0;34m(formula_like, data_iter_maker, eval_env, NA_action)\u001b[0m\n\u001b[1;32m     55\u001b[0m                                       \u001b[0mdata_iter_maker\u001b[0m\u001b[0;34m,\u001b[0m\u001b[0;34m\u001b[0m\u001b[0m\n\u001b[1;32m     56\u001b[0m                                       \u001b[0meval_env\u001b[0m\u001b[0;34m,\u001b[0m\u001b[0;34m\u001b[0m\u001b[0m\n\u001b[0;32m---> 57\u001b[0;31m                                       NA_action)\n\u001b[0m\u001b[1;32m     58\u001b[0m     \u001b[0;32melse\u001b[0m\u001b[0;34m:\u001b[0m\u001b[0;34m\u001b[0m\u001b[0m\n\u001b[1;32m     59\u001b[0m         \u001b[0;32mreturn\u001b[0m \u001b[0;32mNone\u001b[0m\u001b[0;34m\u001b[0m\u001b[0m\n",
      "\u001b[0;32m/Users/Will/anaconda/envs/py34/lib/python3.4/site-packages/patsy/build.py\u001b[0m in \u001b[0;36mdesign_matrix_builders\u001b[0;34m(termlists, data_iter_maker, eval_env, NA_action)\u001b[0m\n\u001b[1;32m    694\u001b[0m                                                    \u001b[0mfactor_states\u001b[0m\u001b[0;34m,\u001b[0m\u001b[0;34m\u001b[0m\u001b[0m\n\u001b[1;32m    695\u001b[0m                                                    \u001b[0mdata_iter_maker\u001b[0m\u001b[0;34m,\u001b[0m\u001b[0;34m\u001b[0m\u001b[0m\n\u001b[0;32m--> 696\u001b[0;31m                                                    NA_action)\n\u001b[0m\u001b[1;32m    697\u001b[0m     \u001b[0;31m# Now we need the factor infos, which encapsulate the knowledge of\u001b[0m\u001b[0;34m\u001b[0m\u001b[0;34m\u001b[0m\u001b[0m\n\u001b[1;32m    698\u001b[0m     \u001b[0;31m# how to turn any given factor into a chunk of data:\u001b[0m\u001b[0;34m\u001b[0m\u001b[0;34m\u001b[0m\u001b[0m\n",
      "\u001b[0;32m/Users/Will/anaconda/envs/py34/lib/python3.4/site-packages/patsy/build.py\u001b[0m in \u001b[0;36m_examine_factor_types\u001b[0;34m(factors, factor_states, data_iter_maker, NA_action)\u001b[0m\n\u001b[1;32m    441\u001b[0m     \u001b[0;32mfor\u001b[0m \u001b[0mdata\u001b[0m \u001b[0;32min\u001b[0m \u001b[0mdata_iter_maker\u001b[0m\u001b[0;34m(\u001b[0m\u001b[0;34m)\u001b[0m\u001b[0;34m:\u001b[0m\u001b[0;34m\u001b[0m\u001b[0m\n\u001b[1;32m    442\u001b[0m         \u001b[0;32mfor\u001b[0m \u001b[0mfactor\u001b[0m \u001b[0;32min\u001b[0m \u001b[0mlist\u001b[0m\u001b[0;34m(\u001b[0m\u001b[0mexamine_needed\u001b[0m\u001b[0;34m)\u001b[0m\u001b[0;34m:\u001b[0m\u001b[0;34m\u001b[0m\u001b[0m\n\u001b[0;32m--> 443\u001b[0;31m             \u001b[0mvalue\u001b[0m \u001b[0;34m=\u001b[0m \u001b[0mfactor\u001b[0m\u001b[0;34m.\u001b[0m\u001b[0meval\u001b[0m\u001b[0;34m(\u001b[0m\u001b[0mfactor_states\u001b[0m\u001b[0;34m[\u001b[0m\u001b[0mfactor\u001b[0m\u001b[0;34m]\u001b[0m\u001b[0;34m,\u001b[0m \u001b[0mdata\u001b[0m\u001b[0;34m)\u001b[0m\u001b[0;34m\u001b[0m\u001b[0m\n\u001b[0m\u001b[1;32m    444\u001b[0m             \u001b[0;32mif\u001b[0m \u001b[0mfactor\u001b[0m \u001b[0;32min\u001b[0m \u001b[0mcat_sniffers\u001b[0m \u001b[0;32mor\u001b[0m \u001b[0mguess_categorical\u001b[0m\u001b[0;34m(\u001b[0m\u001b[0mvalue\u001b[0m\u001b[0;34m)\u001b[0m\u001b[0;34m:\u001b[0m\u001b[0;34m\u001b[0m\u001b[0m\n\u001b[1;32m    445\u001b[0m                 \u001b[0;32mif\u001b[0m \u001b[0mfactor\u001b[0m \u001b[0;32mnot\u001b[0m \u001b[0;32min\u001b[0m \u001b[0mcat_sniffers\u001b[0m\u001b[0;34m:\u001b[0m\u001b[0;34m\u001b[0m\u001b[0m\n",
      "\u001b[0;32m/Users/Will/anaconda/envs/py34/lib/python3.4/site-packages/patsy/eval.py\u001b[0m in \u001b[0;36meval\u001b[0;34m(self, memorize_state, data)\u001b[0m\n\u001b[1;32m    564\u001b[0m         return self._eval(memorize_state[\"eval_code\"],\n\u001b[1;32m    565\u001b[0m                           \u001b[0mmemorize_state\u001b[0m\u001b[0;34m,\u001b[0m\u001b[0;34m\u001b[0m\u001b[0m\n\u001b[0;32m--> 566\u001b[0;31m                           data)\n\u001b[0m\u001b[1;32m    567\u001b[0m \u001b[0;34m\u001b[0m\u001b[0m\n\u001b[1;32m    568\u001b[0m     \u001b[0m__getstate__\u001b[0m \u001b[0;34m=\u001b[0m \u001b[0mno_pickling\u001b[0m\u001b[0;34m\u001b[0m\u001b[0m\n",
      "\u001b[0;32m/Users/Will/anaconda/envs/py34/lib/python3.4/site-packages/patsy/eval.py\u001b[0m in \u001b[0;36m_eval\u001b[0;34m(self, code, memorize_state, data)\u001b[0m\n\u001b[1;32m    549\u001b[0m                                  \u001b[0mmemorize_state\u001b[0m\u001b[0;34m[\u001b[0m\u001b[0;34m\"eval_env\"\u001b[0m\u001b[0;34m]\u001b[0m\u001b[0;34m.\u001b[0m\u001b[0meval\u001b[0m\u001b[0;34m,\u001b[0m\u001b[0;34m\u001b[0m\u001b[0m\n\u001b[1;32m    550\u001b[0m                                  \u001b[0mcode\u001b[0m\u001b[0;34m,\u001b[0m\u001b[0;34m\u001b[0m\u001b[0m\n\u001b[0;32m--> 551\u001b[0;31m                                  inner_namespace=inner_namespace)\n\u001b[0m\u001b[1;32m    552\u001b[0m \u001b[0;34m\u001b[0m\u001b[0m\n\u001b[1;32m    553\u001b[0m     \u001b[0;32mdef\u001b[0m \u001b[0mmemorize_chunk\u001b[0m\u001b[0;34m(\u001b[0m\u001b[0mself\u001b[0m\u001b[0;34m,\u001b[0m \u001b[0mstate\u001b[0m\u001b[0;34m,\u001b[0m \u001b[0mwhich_pass\u001b[0m\u001b[0;34m,\u001b[0m \u001b[0mdata\u001b[0m\u001b[0;34m)\u001b[0m\u001b[0;34m:\u001b[0m\u001b[0;34m\u001b[0m\u001b[0m\n",
      "\u001b[0;32m/Users/Will/anaconda/envs/py34/lib/python3.4/site-packages/patsy/compat.py\u001b[0m in \u001b[0;36mcall_and_wrap_exc\u001b[0;34m(msg, origin, f, *args, **kwargs)\u001b[0m\n\u001b[1;32m    122\u001b[0m                                  origin)\n\u001b[1;32m    123\u001b[0m             \u001b[0;31m# Use 'exec' to hide this syntax from the Python 2 parser:\u001b[0m\u001b[0;34m\u001b[0m\u001b[0;34m\u001b[0m\u001b[0m\n\u001b[0;32m--> 124\u001b[0;31m             \u001b[0mexec\u001b[0m\u001b[0;34m(\u001b[0m\u001b[0;34m\"raise new_exc from e\"\u001b[0m\u001b[0;34m)\u001b[0m\u001b[0;34m\u001b[0m\u001b[0m\n\u001b[0m\u001b[1;32m    125\u001b[0m         \u001b[0;32melse\u001b[0m\u001b[0;34m:\u001b[0m\u001b[0;34m\u001b[0m\u001b[0m\n\u001b[1;32m    126\u001b[0m             \u001b[0;31m# In python 2, we just let the original exception escape -- better\u001b[0m\u001b[0;34m\u001b[0m\u001b[0;34m\u001b[0m\u001b[0m\n",
      "\u001b[0;32m/Users/Will/anaconda/envs/py34/lib/python3.4/site-packages/patsy/compat.py\u001b[0m in \u001b[0;36m<module>\u001b[0;34m()\u001b[0m\n",
      "\u001b[0;31mPatsyError\u001b[0m: Error evaluating factor: NameError: name 'delinq' is not defined\n    delinq ~ fico_range_low + pub_rec + revol_util +C(home_ownership)\n    ^^^^^^"
     ]
    }
   ],
   "source": [
    "y, X = dmatrices('delinq ~ fico_range_low + pub_rec + revol_util +'\n",
    "                'C(home_ownership)')"
   ]
  },
  {
   "cell_type": "markdown",
   "metadata": {},
   "source": [
    "\n",
    "# Finding the average pay back in case of default"
   ]
  },
  {
   "cell_type": "code",
   "execution_count": 80,
   "metadata": {
    "collapsed": false
   },
   "outputs": [
    {
     "data": {
      "text/plain": [
       "Current               191303\n",
       "Fully Paid            144478\n",
       "Charged Off            33166\n",
       "Late (31-120 days)      5748\n",
       "In Grace Period         2872\n",
       "Late (16-30 days)       1087\n",
       "Default                  134\n",
       "dtype: int64"
      ]
     },
     "execution_count": 80,
     "metadata": {},
     "output_type": "execute_result"
    }
   ],
   "source": [
    "df.loan_status.value_counts()"
   ]
  },
  {
   "cell_type": "code",
   "execution_count": 84,
   "metadata": {
    "collapsed": false,
    "scrolled": true
   },
   "outputs": [
    {
     "data": {
      "text/plain": [
       "Index(['total_pymnt', 'zip_code', 'member_id', 'id', 'loan_amnt', 'int_rate',\n",
       "       'installment', 'emp_length', 'home_ownership', 'grade', 'sub_grade',\n",
       "       'emp_title', 'issue_d', 'loan_status', 'annual_inc',\n",
       "       'verification_status', 'purpose', 'addr_state', 'inq_last_6mths', 'dti',\n",
       "       'revol_util', 'mths_since_last_delinq', 'pub_rec', 'revol_bal',\n",
       "       'open_acc', 'collections_12_mths_ex_med', 'delinq_2yrs',\n",
       "       'earliest_cr_line', 'fico_range_low', 'last_credit_pull_d',\n",
       "       'ratio_inc_debt', 'ratio_inc_installment', 'ratio_mth_inc_all_payments',\n",
       "       'year_issued', 'month_issued', 'delinq'],\n",
       "      dtype='object')"
      ]
     },
     "execution_count": 84,
     "metadata": {},
     "output_type": "execute_result"
    }
   ],
   "source": [
    "df.columns"
   ]
  },
  {
   "cell_type": "code",
   "execution_count": 90,
   "metadata": {
    "collapsed": false,
    "scrolled": false
   },
   "outputs": [],
   "source": [
    "default_df = df.assign(percentage_paid= df.total_pymnt/df.loan_amnt\n",
    "                      )[df.loan_status=='Charged Off']"
   ]
  },
  {
   "cell_type": "code",
   "execution_count": 92,
   "metadata": {
    "collapsed": false,
    "scrolled": true
   },
   "outputs": [
    {
     "data": {
      "text/plain": [
       "0.45161542363848606"
      ]
     },
     "execution_count": 92,
     "metadata": {},
     "output_type": "execute_result"
    }
   ],
   "source": [
    "default_df.percentage_paid.mean()"
   ]
  },
  {
   "cell_type": "markdown",
   "metadata": {},
   "source": [
    "# Investing only in C, D, E ,G loans with lower default probabilities"
   ]
  },
  {
   "cell_type": "code",
   "execution_count": null,
   "metadata": {
    "collapsed": true
   },
   "outputs": [],
   "source": []
  }
 ],
 "metadata": {
  "kernelspec": {
   "display_name": "Python 3",
   "language": "python",
   "name": "python3"
  },
  "language_info": {
   "codemirror_mode": {
    "name": "ipython",
    "version": 3
   },
   "file_extension": ".py",
   "mimetype": "text/x-python",
   "name": "python",
   "nbconvert_exporter": "python",
   "pygments_lexer": "ipython3",
   "version": "3.4.3"
  }
 },
 "nbformat": 4,
 "nbformat_minor": 0
}
