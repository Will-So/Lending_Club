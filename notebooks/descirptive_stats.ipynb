{
 "cells": [
  {
   "cell_type": "code",
   "execution_count": 1,
   "metadata": {},
   "outputs": [
    {
     "name": "stdout",
     "output_type": "stream",
     "text": [
      "Populating the interactive namespace from numpy and matplotlib\n"
     ]
    }
   ],
   "source": [
    "%pylab inline\n",
    "import pandas as pd\n",
    "import seaborn as sns"
   ]
  },
  {
   "cell_type": "code",
   "execution_count": 2,
   "metadata": {},
   "outputs": [],
   "source": [
    "df = pd.read_pickle('cleaned_df1.pkl')"
   ]
  },
  {
   "cell_type": "code",
   "execution_count": 3,
   "metadata": {},
   "outputs": [
    {
     "name": "stdout",
     "output_type": "stream",
     "text": [
      "<class 'pandas.core.frame.DataFrame'>\n",
      "Int64Index: 643640 entries, 0 to 180101\n",
      "Data columns (total 35 columns):\n",
      "total_pymnt                   643640 non-null float64\n",
      "zip_code                      643640 non-null category\n",
      "member_id                     643640 non-null float64\n",
      "id                            643640 non-null int64\n",
      "loan_amnt                     643640 non-null float64\n",
      "int_rate                      643640 non-null float64\n",
      "installment                   643640 non-null float64\n",
      "emp_length                    613256 non-null float64\n",
      "home_ownership                643640 non-null category\n",
      "grade                         643640 non-null category\n",
      "sub_grade                     643640 non-null int64\n",
      "emp_title                     606774 non-null object\n",
      "issue_d                       643640 non-null datetime64[ns]\n",
      "loan_status                   643640 non-null category\n",
      "annual_inc                    643640 non-null float64\n",
      "verification_status           643640 non-null category\n",
      "purpose                       643640 non-null category\n",
      "addr_state                    643640 non-null category\n",
      "inq_last_6mths                643640 non-null float64\n",
      "dti                           643640 non-null float64\n",
      "revol_util                    643277 non-null float64\n",
      "mths_since_last_delinq        307491 non-null float64\n",
      "pub_rec                       643640 non-null float64\n",
      "revol_bal                     643640 non-null float64\n",
      "open_acc                      643640 non-null float64\n",
      "collections_12_mths_ex_med    643584 non-null float64\n",
      "delinq_2yrs                   643640 non-null float64\n",
      "earliest_cr_line              643640 non-null datetime64[ns]\n",
      "last_credit_pull_d            643594 non-null datetime64[ns]\n",
      "ratio_inc_debt                643640 non-null float64\n",
      "ratio_inc_installment         643640 non-null float64\n",
      "ratio_mth_inc_all_payments    643640 non-null float64\n",
      "year_issued                   643640 non-null int64\n",
      "month_issued                  643640 non-null int64\n",
      "delinq                        643640 non-null int64\n",
      "dtypes: category(7), datetime64[ns](3), float64(19), int64(5), object(1)\n",
      "memory usage: 147.3+ MB\n"
     ]
    }
   ],
   "source": [
    "df.info()"
   ]
  },
  {
   "cell_type": "markdown",
   "metadata": {},
   "source": [
    "# Plots"
   ]
  },
  {
   "cell_type": "code",
   "execution_count": null,
   "metadata": {},
   "outputs": [],
   "source": [
    ""
   ]
  }
 ],
 "metadata": {
  "kernelspec": {
   "display_name": "Python 3",
   "language": "python",
   "name": "python3"
  },
  "language_info": {
   "codemirror_mode": {
    "name": "ipython",
    "version": 3.0
   },
   "file_extension": ".py",
   "mimetype": "text/x-python",
   "name": "python",
   "nbconvert_exporter": "python",
   "pygments_lexer": "ipython3",
   "version": "3.4.3"
  }
 },
 "nbformat": 4,
 "nbformat_minor": 0
}