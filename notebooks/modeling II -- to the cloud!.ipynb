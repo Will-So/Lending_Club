{
 "cells": [
  {
   "cell_type": "markdown",
   "metadata": {},
   "source": [
    "# Motivation"
   ]
  },
  {
   "cell_type": "markdown",
   "metadata": {},
   "source": [
    "Random Forests are great because they don't require very much tuning to get get results with and they can be trained in Parallel. \n",
    "\n",
    "The problem is that Random Forests often offer inferior to well-tuned gradient boosting in predictive power.\n",
    "\n",
    "In this case it is especially likely that gradient boosting will perform better because of the (probable) absence of highly non-linear relationships. \n",
    "\n",
    "Using my laptop, it would take inconveniently long to tune gradient boosting. For this reason, we move to the cloud."
   ]
  },
  {
   "cell_type": "code",
   "execution_count": null,
   "metadata": {},
   "outputs": [],
   "source": [
    ""
   ]
  }
 ],
 "metadata": {
  "kernelspec": {
   "display_name": "Python 3",
   "language": "python",
   "name": "python3"
  },
  "language_info": {
   "codemirror_mode": {
    "name": "ipython",
    "version": 3.0
   },
   "file_extension": ".py",
   "mimetype": "text/x-python",
   "name": "python",
   "nbconvert_exporter": "python",
   "pygments_lexer": "ipython3",
   "version": "3.5.1"
  }
 },
 "nbformat": 4,
 "nbformat_minor": 0
}