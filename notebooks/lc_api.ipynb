{
 "cells": [
  {
   "cell_type": "markdown",
   "metadata": {},
   "source": [
    "# Services Available"
   ]
  },
  {
   "cell_type": "markdown",
   "metadata": {},
   "source": [
    "1. Transfer funds\n",
    "2. Summary\n",
    "3. Cancel transfers\n",
    "4. Submit order\n",
    "5. Create portfolio\n",
    "6. Listed Loans\n",
    "\n",
    "One request per second limit."
   ]
  },
  {
   "cell_type": "markdown",
   "metadata": {},
   "source": [
    "# Doing it"
   ]
  },
  {
   "cell_type": "code",
   "execution_count": 10,
   "metadata": {
    "collapsed": false,
    "scrolled": true
   },
   "outputs": [],
   "source": [
    "import os\n",
    "credentials = os.environ['LENDING_CLUB_API']\n",
    "investor_id = 5809260\n",
    "import sys\n",
    "sys.path.append('..')\n",
    "from scripts.model import create_matrix\n",
    "import numpy as np\n"
   ]
  },
  {
   "cell_type": "code",
   "execution_count": 3,
   "metadata": {
    "collapsed": true
   },
   "outputs": [],
   "source": [
    "import requests"
   ]
  },
  {
   "cell_type": "code",
   "execution_count": 4,
   "metadata": {
    "collapsed": true
   },
   "outputs": [],
   "source": [
    "headers = {'Authorization': credentials}"
   ]
  },
  {
   "cell_type": "code",
   "execution_count": 5,
   "metadata": {
    "collapsed": true
   },
   "outputs": [],
   "source": [
    "r = requests.get('https://api.lendingclub.com/api/investor/v1/loans/listing?showAll=true',\n",
    "                headers=headers)"
   ]
  },
  {
   "cell_type": "code",
   "execution_count": 6,
   "metadata": {
    "collapsed": false,
    "scrolled": false
   },
   "outputs": [],
   "source": [
    "assert r.status_code == 200"
   ]
  },
  {
   "cell_type": "code",
   "execution_count": 7,
   "metadata": {
    "collapsed": true
   },
   "outputs": [],
   "source": [
    "investor_id = 5809260"
   ]
  },
  {
   "cell_type": "code",
   "execution_count": 8,
   "metadata": {
    "collapsed": true
   },
   "outputs": [],
   "source": [
    "loans = r.json()['loans']"
   ]
  },
  {
   "cell_type": "code",
   "execution_count": 9,
   "metadata": {
    "collapsed": true
   },
   "outputs": [],
   "source": [
    "import pandas as pd\n",
    "df = pd.DataFrame(loans)"
   ]
  },
  {
   "cell_type": "code",
   "execution_count": 8,
   "metadata": {
    "collapsed": false
   },
   "outputs": [
    {
     "ename": "AttributeError",
     "evalue": "'DataFrame' object has no attribute 'earliest_cr_line'",
     "output_type": "error",
     "traceback": [
      "\u001b[0;31m---------------------------------------------------------------------------\u001b[0m",
      "\u001b[0;31mAttributeError\u001b[0m                            Traceback (most recent call last)",
      "\u001b[0;32m<ipython-input-8-8e9f58de6bd5>\u001b[0m in \u001b[0;36m<module>\u001b[0;34m()\u001b[0m\n\u001b[1;32m      1\u001b[0m \u001b[0;32mimport\u001b[0m \u001b[0mnumpy\u001b[0m \u001b[0;32mas\u001b[0m \u001b[0mnp\u001b[0m\u001b[0;34m\u001b[0m\u001b[0m\n\u001b[0;32m----> 2\u001b[0;31m \u001b[0mdf\u001b[0m\u001b[0;34m.\u001b[0m\u001b[0mearliest_cr_line\u001b[0m \u001b[0;34m=\u001b[0m \u001b[0mdf\u001b[0m\u001b[0;34m.\u001b[0m\u001b[0mearliest_cr_line\u001b[0m\u001b[0;34m.\u001b[0m\u001b[0mastype\u001b[0m\u001b[0;34m(\u001b[0m\u001b[0mnp\u001b[0m\u001b[0;34m.\u001b[0m\u001b[0mdatetime64\u001b[0m\u001b[0;34m)\u001b[0m\u001b[0;34m.\u001b[0m\u001b[0mdt\u001b[0m\u001b[0;34m.\u001b[0m\u001b[0myear\u001b[0m\u001b[0;34m.\u001b[0m\u001b[0mastype\u001b[0m\u001b[0;34m(\u001b[0m\u001b[0mint\u001b[0m\u001b[0;34m)\u001b[0m\u001b[0;34m\u001b[0m\u001b[0m\n\u001b[0m",
      "\u001b[0;32m/Users/Will/anaconda/envs/py34/lib/python3.4/site-packages/pandas/core/generic.py\u001b[0m in \u001b[0;36m__getattr__\u001b[0;34m(self, name)\u001b[0m\n\u001b[1;32m   2244\u001b[0m                 \u001b[0;32mreturn\u001b[0m \u001b[0mself\u001b[0m\u001b[0;34m[\u001b[0m\u001b[0mname\u001b[0m\u001b[0;34m]\u001b[0m\u001b[0;34m\u001b[0m\u001b[0m\n\u001b[1;32m   2245\u001b[0m             raise AttributeError(\"'%s' object has no attribute '%s'\" %\n\u001b[0;32m-> 2246\u001b[0;31m                                  (type(self).__name__, name))\n\u001b[0m\u001b[1;32m   2247\u001b[0m \u001b[0;34m\u001b[0m\u001b[0m\n\u001b[1;32m   2248\u001b[0m     \u001b[0;32mdef\u001b[0m \u001b[0m__setattr__\u001b[0m\u001b[0;34m(\u001b[0m\u001b[0mself\u001b[0m\u001b[0;34m,\u001b[0m \u001b[0mname\u001b[0m\u001b[0;34m,\u001b[0m \u001b[0mvalue\u001b[0m\u001b[0;34m)\u001b[0m\u001b[0;34m:\u001b[0m\u001b[0;34m\u001b[0m\u001b[0m\n",
      "\u001b[0;31mAttributeError\u001b[0m: 'DataFrame' object has no attribute 'earliest_cr_line'"
     ]
    }
   ],
   "source": [
    "df.earliest_cr_line = df.earliest_cr_line.astype(np.datetime64).dt.year.astype(int)"
   ]
  },
  {
   "cell_type": "markdown",
   "metadata": {},
   "source": [
    "## Predicting the Values"
   ]
  },
  {
   "cell_type": "code",
   "execution_count": 9,
   "metadata": {
    "collapsed": false,
    "scrolled": true
   },
   "outputs": [],
   "source": [
    "from sklearn.externals import joblib\n",
    "from scripts.model import create_matrix\n",
    "from app.process_api import rename_columns, process_columns"
   ]
  },
  {
   "cell_type": "markdown",
   "metadata": {},
   "source": [
    "## Steps"
   ]
  },
  {
   "cell_type": "markdown",
   "metadata": {},
   "source": [
    "1. Load the Model\n",
    "2. Load the df\n",
    "3. turn the df into the same matrix as before\n",
    "4. Predict the values"
   ]
  },
  {
   "cell_type": "code",
   "execution_count": 10,
   "metadata": {
    "collapsed": true
   },
   "outputs": [],
   "source": [
    "model = joblib.load('../model/rf_model.pkl')"
   ]
  },
  {
   "cell_type": "code",
   "execution_count": 11,
   "metadata": {
    "collapsed": false
   },
   "outputs": [],
   "source": [
    "df = rename_columns(df)"
   ]
  },
  {
   "cell_type": "code",
   "execution_count": 12,
   "metadata": {
    "collapsed": false,
    "scrolled": true
   },
   "outputs": [],
   "source": [
    "df = process_columns(df)"
   ]
  },
  {
   "cell_type": "code",
   "execution_count": 13,
   "metadata": {
    "collapsed": false
   },
   "outputs": [],
   "source": [
    "y, X = create_matrix(df)"
   ]
  },
  {
   "cell_type": "code",
   "execution_count": 15,
   "metadata": {
    "collapsed": false
   },
   "outputs": [
    {
     "data": {
      "text/plain": [
       "['Intercept',\n",
       " 'C(home_ownership)[T.OWN]',\n",
       " 'C(home_ownership)[T.RENT]',\n",
       " 'C(home_ownership)[T.OTHER]',\n",
       " 'C(grade)[T.B]',\n",
       " 'C(grade)[T.C]',\n",
       " 'C(grade)[T.D]',\n",
       " 'C(grade)[T.E]',\n",
       " 'C(grade)[T.F]',\n",
       " 'C(purpose)[T.credit_card]',\n",
       " 'C(purpose)[T.debt_consolidation]',\n",
       " 'C(purpose)[T.home_improvement]',\n",
       " 'C(purpose)[T.major_purchase]',\n",
       " 'C(purpose)[T.medical]',\n",
       " 'C(purpose)[T.moving]',\n",
       " 'C(purpose)[T.other]',\n",
       " 'C(purpose)[T.small_business]',\n",
       " 'C(purpose)[T.vacation]',\n",
       " 'C(purpose)[T.OH]',\n",
       " 'C(purpose)[T.SD]',\n",
       " 'C(purpose)[T.AZ]',\n",
       " 'C(purpose)[T.KY]',\n",
       " 'C(purpose)[T.AL]',\n",
       " 'C(purpose)[T.NE]',\n",
       " 'C(purpose)[T.CA]',\n",
       " 'C(purpose)[T.MD]',\n",
       " 'C(purpose)[T.NC]',\n",
       " 'C(purpose)[T.SC]',\n",
       " 'C(purpose)[T.MO]',\n",
       " 'C(purpose)[T.TN]',\n",
       " 'C(purpose)[T.ME]',\n",
       " 'C(purpose)[T.ND]',\n",
       " 'C(purpose)[T.NY]',\n",
       " 'C(purpose)[T.NH]',\n",
       " 'C(purpose)[T.AR]',\n",
       " 'C(purpose)[T.CO]',\n",
       " 'C(purpose)[T.NJ]',\n",
       " 'C(purpose)[T.LA]',\n",
       " 'C(purpose)[T.MA]',\n",
       " 'C(purpose)[T.WV]',\n",
       " 'C(purpose)[T.GA]',\n",
       " 'C(purpose)[T.UT]',\n",
       " 'C(purpose)[T.MS]',\n",
       " 'C(purpose)[T.OR]',\n",
       " 'C(purpose)[T.MI]',\n",
       " 'C(purpose)[T.KS]',\n",
       " 'C(purpose)[T.MN]',\n",
       " 'C(purpose)[T.DC]',\n",
       " 'C(purpose)[T.MT]',\n",
       " 'C(purpose)[T.IN]',\n",
       " 'C(purpose)[T.AK]',\n",
       " 'C(purpose)[T.RI]',\n",
       " 'C(purpose)[T.PA]',\n",
       " 'C(purpose)[T.DE]',\n",
       " 'C(purpose)[T.OK]',\n",
       " 'C(purpose)[T.WA]',\n",
       " 'C(purpose)[T.WI]',\n",
       " 'C(purpose)[T.FL]',\n",
       " 'C(purpose)[T.IL]',\n",
       " 'C(purpose)[T.HI]',\n",
       " 'C(purpose)[T.WY]',\n",
       " 'C(purpose)[T.CT]',\n",
       " 'C(purpose)[T.TX]',\n",
       " 'C(purpose)[T.VA]',\n",
       " 'C(purpose)[T.NV]',\n",
       " 'C(addr_state)[T.AL]',\n",
       " 'C(addr_state)[T.AR]',\n",
       " 'C(addr_state)[T.AZ]',\n",
       " 'C(addr_state)[T.CA]',\n",
       " 'C(addr_state)[T.CO]',\n",
       " 'C(addr_state)[T.CT]',\n",
       " 'C(addr_state)[T.DE]',\n",
       " 'C(addr_state)[T.FL]',\n",
       " 'C(addr_state)[T.GA]',\n",
       " 'C(addr_state)[T.HI]',\n",
       " 'C(addr_state)[T.IL]',\n",
       " 'C(addr_state)[T.IN]',\n",
       " 'C(addr_state)[T.KS]',\n",
       " 'C(addr_state)[T.KY]',\n",
       " 'C(addr_state)[T.LA]',\n",
       " 'C(addr_state)[T.MA]',\n",
       " 'C(addr_state)[T.MD]',\n",
       " 'C(addr_state)[T.ME]',\n",
       " 'C(addr_state)[T.MI]',\n",
       " 'C(addr_state)[T.MN]',\n",
       " 'C(addr_state)[T.MO]',\n",
       " 'C(addr_state)[T.MS]',\n",
       " 'C(addr_state)[T.MT]',\n",
       " 'C(addr_state)[T.NC]',\n",
       " 'C(addr_state)[T.ND]',\n",
       " 'C(addr_state)[T.NE]',\n",
       " 'C(addr_state)[T.NH]',\n",
       " 'C(addr_state)[T.NJ]',\n",
       " 'C(addr_state)[T.NM]',\n",
       " 'C(addr_state)[T.NV]',\n",
       " 'C(addr_state)[T.NY]',\n",
       " 'C(addr_state)[T.OH]',\n",
       " 'C(addr_state)[T.OK]',\n",
       " 'C(addr_state)[T.OR]',\n",
       " 'C(addr_state)[T.PA]',\n",
       " 'C(addr_state)[T.RI]',\n",
       " 'C(addr_state)[T.SC]',\n",
       " 'C(addr_state)[T.SD]',\n",
       " 'C(addr_state)[T.TN]',\n",
       " 'C(addr_state)[T.TX]',\n",
       " 'C(addr_state)[T.UT]',\n",
       " 'C(addr_state)[T.VA]',\n",
       " 'C(addr_state)[T.VT]',\n",
       " 'C(addr_state)[T.WA]',\n",
       " 'C(addr_state)[T.WI]',\n",
       " 'C(addr_state)[T.WV]',\n",
       " 'C(addr_state)[T.WY]',\n",
       " 'C(addr_state)[T.DC]',\n",
       " 'C(addr_state)[T.IA]',\n",
       " 'C(addr_state)[T.ID]',\n",
       " 'loan_amnt',\n",
       " 'int_rate',\n",
       " 'installment',\n",
       " 'emp_length',\n",
       " 'inq_last_6mths',\n",
       " 'pub_rec',\n",
       " 'revol_bal',\n",
       " 'open_acc',\n",
       " 'collections_12_mths_ex_med',\n",
       " 'delinq_2yrs',\n",
       " 'earliest_cr_line',\n",
       " 'fico_range_low',\n",
       " 'ratio_mth_inc_all_payments',\n",
       " 'annual_inc']"
      ]
     },
     "execution_count": 15,
     "metadata": {},
     "output_type": "execute_result"
    }
   ],
   "source": [
    "[i for i in X.columns]"
   ]
  },
  {
   "cell_type": "code",
   "execution_count": 38,
   "metadata": {
    "collapsed": false,
    "scrolled": true
   },
   "outputs": [
    {
     "name": "stdout",
     "output_type": "stream",
     "text": [
      "Intercept\n",
      "C(home_ownership)[T.OWN]\n",
      "C(home_ownership)[T.RENT]\n",
      "C(home_ownership)[T.OTHER]\n",
      "C(grade)[T.B]\n",
      "C(grade)[T.C]\n",
      "C(grade)[T.D]\n",
      "C(grade)[T.E]\n",
      "C(grade)[T.F]\n",
      "C(purpose)[T.credit_card]\n",
      "C(purpose)[T.debt_consolidation]\n",
      "C(purpose)[T.home_improvement]\n",
      "C(purpose)[T.major_purchase]\n",
      "C(purpose)[T.medical]\n",
      "C(purpose)[T.moving]\n",
      "C(purpose)[T.other]\n",
      "C(purpose)[T.small_business]\n",
      "C(purpose)[T.vacation]\n",
      "C(purpose)[T.ND]\n",
      "C(purpose)[T.DC]\n",
      "C(purpose)[T.WI]\n",
      "C(purpose)[T.WY]\n",
      "C(purpose)[T.UT]\n",
      "C(purpose)[T.MS]\n",
      "C(purpose)[T.NE]\n",
      "C(purpose)[T.ME]\n",
      "C(purpose)[T.CA]\n",
      "C(purpose)[T.TX]\n",
      "C(purpose)[T.IL]\n",
      "C(purpose)[T.FL]\n",
      "C(purpose)[T.TN]\n",
      "C(purpose)[T.HI]\n",
      "C(purpose)[T.RI]\n",
      "C(purpose)[T.NV]\n",
      "C(purpose)[T.OH]\n",
      "C(purpose)[T.NJ]\n",
      "C(purpose)[T.MN]\n",
      "C(purpose)[T.MD]\n",
      "C(purpose)[T.KS]\n",
      "C(purpose)[T.IN]\n",
      "C(purpose)[T.VA]\n",
      "C(purpose)[T.OK]\n",
      "C(purpose)[T.NC]\n",
      "C(purpose)[T.DE]\n",
      "C(purpose)[T.MA]\n",
      "C(purpose)[T.AL]\n",
      "C(purpose)[T.MT]\n",
      "C(purpose)[T.WV]\n",
      "C(purpose)[T.CO]\n",
      "C(purpose)[T.KY]\n",
      "C(purpose)[T.AZ]\n",
      "C(purpose)[T.OR]\n",
      "C(purpose)[T.MO]\n",
      "C(purpose)[T.PA]\n",
      "C(purpose)[T.NH]\n",
      "C(purpose)[T.AR]\n",
      "C(purpose)[T.CT]\n",
      "C(purpose)[T.WA]\n",
      "C(purpose)[T.SC]\n",
      "C(purpose)[T.GA]\n",
      "C(purpose)[T.SD]\n",
      "C(purpose)[T.LA]\n",
      "C(purpose)[T.AK]\n",
      "C(purpose)[T.MI]\n",
      "C(purpose)[T.NY]\n",
      "C(addr_state)[T.AL]\n",
      "C(addr_state)[T.AR]\n",
      "C(addr_state)[T.AZ]\n",
      "C(addr_state)[T.CA]\n",
      "C(addr_state)[T.CO]\n",
      "C(addr_state)[T.CT]\n",
      "C(addr_state)[T.DE]\n",
      "C(addr_state)[T.FL]\n",
      "C(addr_state)[T.GA]\n",
      "C(addr_state)[T.HI]\n",
      "C(addr_state)[T.IL]\n",
      "C(addr_state)[T.IN]\n",
      "C(addr_state)[T.KS]\n",
      "C(addr_state)[T.KY]\n",
      "C(addr_state)[T.LA]\n",
      "C(addr_state)[T.MA]\n",
      "C(addr_state)[T.MD]\n",
      "C(addr_state)[T.ME]\n",
      "C(addr_state)[T.MI]\n",
      "C(addr_state)[T.MN]\n",
      "C(addr_state)[T.MO]\n",
      "C(addr_state)[T.MS]\n",
      "C(addr_state)[T.MT]\n",
      "C(addr_state)[T.NC]\n",
      "C(addr_state)[T.ND]\n",
      "C(addr_state)[T.NE]\n",
      "C(addr_state)[T.NH]\n",
      "C(addr_state)[T.NJ]\n",
      "C(addr_state)[T.NM]\n",
      "C(addr_state)[T.NV]\n",
      "C(addr_state)[T.NY]\n",
      "C(addr_state)[T.OH]\n",
      "C(addr_state)[T.OK]\n",
      "C(addr_state)[T.OR]\n",
      "C(addr_state)[T.PA]\n",
      "C(addr_state)[T.RI]\n",
      "C(addr_state)[T.SC]\n",
      "C(addr_state)[T.SD]\n",
      "C(addr_state)[T.TN]\n",
      "C(addr_state)[T.TX]\n",
      "C(addr_state)[T.UT]\n",
      "C(addr_state)[T.VA]\n",
      "C(addr_state)[T.VT]\n",
      "C(addr_state)[T.WA]\n",
      "C(addr_state)[T.WI]\n",
      "C(addr_state)[T.WV]\n",
      "C(addr_state)[T.WY]\n",
      "C(addr_state)[T.ID]\n",
      "C(addr_state)[T.DC]\n",
      "C(addr_state)[T.IA]\n",
      "loan_amnt\n",
      "int_rate\n",
      "installment\n",
      "emp_length\n",
      "inq_last_6mths\n",
      "pub_rec\n",
      "revol_bal\n",
      "open_acc\n",
      "collections_12_mths_ex_med\n",
      "delinq_2yrs\n",
      "earliest_cr_line\n",
      "fico_range_low\n",
      "ratio_mth_inc_all_payments\n",
      "annual_inc\n"
     ]
    }
   ],
   "source": [
    "for i in X.columns:\n",
    "    print(i)"
   ]
  },
  {
   "cell_type": "code",
   "execution_count": 22,
   "metadata": {
    "collapsed": false,
    "scrolled": true
   },
   "outputs": [
    {
     "ename": "ValueError",
     "evalue": "Number of features of the model must  match the input. Model n_features is 86 and  input n_features is 737 ",
     "output_type": "error",
     "traceback": [
      "\u001b[0;31m---------------------------------------------------------------------------\u001b[0m",
      "\u001b[0;31mValueError\u001b[0m                                Traceback (most recent call last)",
      "\u001b[0;32m<ipython-input-22-e9360f06bfcd>\u001b[0m in \u001b[0;36m<module>\u001b[0;34m()\u001b[0m\n\u001b[0;32m----> 1\u001b[0;31m \u001b[0mmodel\u001b[0m \u001b[0;34m=\u001b[0m \u001b[0mmodel\u001b[0m\u001b[0;34m.\u001b[0m\u001b[0mpredict_proba\u001b[0m\u001b[0;34m(\u001b[0m\u001b[0mX\u001b[0m\u001b[0;34m)\u001b[0m\u001b[0;34m\u001b[0m\u001b[0m\n\u001b[0m",
      "\u001b[0;32m/Users/Will/anaconda/envs/py34/lib/python3.4/site-packages/sklearn/ensemble/forest.py\u001b[0m in \u001b[0;36mpredict_proba\u001b[0;34m(self, X)\u001b[0m\n\u001b[1;32m    511\u001b[0m                              \u001b[0mbackend\u001b[0m\u001b[0;34m=\u001b[0m\u001b[0;34m\"threading\"\u001b[0m\u001b[0;34m)\u001b[0m\u001b[0;34m(\u001b[0m\u001b[0;34m\u001b[0m\u001b[0m\n\u001b[1;32m    512\u001b[0m             \u001b[0mdelayed\u001b[0m\u001b[0;34m(\u001b[0m\u001b[0m_parallel_helper\u001b[0m\u001b[0;34m)\u001b[0m\u001b[0;34m(\u001b[0m\u001b[0me\u001b[0m\u001b[0;34m,\u001b[0m \u001b[0;34m'predict_proba'\u001b[0m\u001b[0;34m,\u001b[0m \u001b[0mX\u001b[0m\u001b[0;34m,\u001b[0m \u001b[0mcheck_input\u001b[0m\u001b[0;34m=\u001b[0m\u001b[0;32mFalse\u001b[0m\u001b[0;34m)\u001b[0m\u001b[0;34m\u001b[0m\u001b[0m\n\u001b[0;32m--> 513\u001b[0;31m             for e in self.estimators_)\n\u001b[0m\u001b[1;32m    514\u001b[0m \u001b[0;34m\u001b[0m\u001b[0m\n\u001b[1;32m    515\u001b[0m         \u001b[0;31m# Reduce\u001b[0m\u001b[0;34m\u001b[0m\u001b[0;34m\u001b[0m\u001b[0m\n",
      "\u001b[0;32m/Users/Will/anaconda/envs/py34/lib/python3.4/site-packages/sklearn/externals/joblib/parallel.py\u001b[0m in \u001b[0;36m__call__\u001b[0;34m(self, iterable)\u001b[0m\n\u001b[1;32m    657\u001b[0m             \u001b[0mself\u001b[0m\u001b[0;34m.\u001b[0m\u001b[0m_iterating\u001b[0m \u001b[0;34m=\u001b[0m \u001b[0;32mTrue\u001b[0m\u001b[0;34m\u001b[0m\u001b[0m\n\u001b[1;32m    658\u001b[0m             \u001b[0;32mfor\u001b[0m \u001b[0mfunction\u001b[0m\u001b[0;34m,\u001b[0m \u001b[0margs\u001b[0m\u001b[0;34m,\u001b[0m \u001b[0mkwargs\u001b[0m \u001b[0;32min\u001b[0m \u001b[0miterable\u001b[0m\u001b[0;34m:\u001b[0m\u001b[0;34m\u001b[0m\u001b[0m\n\u001b[0;32m--> 659\u001b[0;31m                 \u001b[0mself\u001b[0m\u001b[0;34m.\u001b[0m\u001b[0mdispatch\u001b[0m\u001b[0;34m(\u001b[0m\u001b[0mfunction\u001b[0m\u001b[0;34m,\u001b[0m \u001b[0margs\u001b[0m\u001b[0;34m,\u001b[0m \u001b[0mkwargs\u001b[0m\u001b[0;34m)\u001b[0m\u001b[0;34m\u001b[0m\u001b[0m\n\u001b[0m\u001b[1;32m    660\u001b[0m \u001b[0;34m\u001b[0m\u001b[0m\n\u001b[1;32m    661\u001b[0m             \u001b[0;32mif\u001b[0m \u001b[0mpre_dispatch\u001b[0m \u001b[0;34m==\u001b[0m \u001b[0;34m\"all\"\u001b[0m \u001b[0;32mor\u001b[0m \u001b[0mn_jobs\u001b[0m \u001b[0;34m==\u001b[0m \u001b[0;36m1\u001b[0m\u001b[0;34m:\u001b[0m\u001b[0;34m\u001b[0m\u001b[0m\n",
      "\u001b[0;32m/Users/Will/anaconda/envs/py34/lib/python3.4/site-packages/sklearn/externals/joblib/parallel.py\u001b[0m in \u001b[0;36mdispatch\u001b[0;34m(self, func, args, kwargs)\u001b[0m\n\u001b[1;32m    404\u001b[0m         \"\"\"\n\u001b[1;32m    405\u001b[0m         \u001b[0;32mif\u001b[0m \u001b[0mself\u001b[0m\u001b[0;34m.\u001b[0m\u001b[0m_pool\u001b[0m \u001b[0;32mis\u001b[0m \u001b[0;32mNone\u001b[0m\u001b[0;34m:\u001b[0m\u001b[0;34m\u001b[0m\u001b[0m\n\u001b[0;32m--> 406\u001b[0;31m             \u001b[0mjob\u001b[0m \u001b[0;34m=\u001b[0m \u001b[0mImmediateApply\u001b[0m\u001b[0;34m(\u001b[0m\u001b[0mfunc\u001b[0m\u001b[0;34m,\u001b[0m \u001b[0margs\u001b[0m\u001b[0;34m,\u001b[0m \u001b[0mkwargs\u001b[0m\u001b[0;34m)\u001b[0m\u001b[0;34m\u001b[0m\u001b[0m\n\u001b[0m\u001b[1;32m    407\u001b[0m             \u001b[0mindex\u001b[0m \u001b[0;34m=\u001b[0m \u001b[0mlen\u001b[0m\u001b[0;34m(\u001b[0m\u001b[0mself\u001b[0m\u001b[0;34m.\u001b[0m\u001b[0m_jobs\u001b[0m\u001b[0;34m)\u001b[0m\u001b[0;34m\u001b[0m\u001b[0m\n\u001b[1;32m    408\u001b[0m             \u001b[0;32mif\u001b[0m \u001b[0;32mnot\u001b[0m \u001b[0m_verbosity_filter\u001b[0m\u001b[0;34m(\u001b[0m\u001b[0mindex\u001b[0m\u001b[0;34m,\u001b[0m \u001b[0mself\u001b[0m\u001b[0;34m.\u001b[0m\u001b[0mverbose\u001b[0m\u001b[0;34m)\u001b[0m\u001b[0;34m:\u001b[0m\u001b[0;34m\u001b[0m\u001b[0m\n",
      "\u001b[0;32m/Users/Will/anaconda/envs/py34/lib/python3.4/site-packages/sklearn/externals/joblib/parallel.py\u001b[0m in \u001b[0;36m__init__\u001b[0;34m(self, func, args, kwargs)\u001b[0m\n\u001b[1;32m    138\u001b[0m         \u001b[0;31m# Don't delay the application, to avoid keeping the input\u001b[0m\u001b[0;34m\u001b[0m\u001b[0;34m\u001b[0m\u001b[0m\n\u001b[1;32m    139\u001b[0m         \u001b[0;31m# arguments in memory\u001b[0m\u001b[0;34m\u001b[0m\u001b[0;34m\u001b[0m\u001b[0m\n\u001b[0;32m--> 140\u001b[0;31m         \u001b[0mself\u001b[0m\u001b[0;34m.\u001b[0m\u001b[0mresults\u001b[0m \u001b[0;34m=\u001b[0m \u001b[0mfunc\u001b[0m\u001b[0;34m(\u001b[0m\u001b[0;34m*\u001b[0m\u001b[0margs\u001b[0m\u001b[0;34m,\u001b[0m \u001b[0;34m**\u001b[0m\u001b[0mkwargs\u001b[0m\u001b[0;34m)\u001b[0m\u001b[0;34m\u001b[0m\u001b[0m\n\u001b[0m\u001b[1;32m    141\u001b[0m \u001b[0;34m\u001b[0m\u001b[0m\n\u001b[1;32m    142\u001b[0m     \u001b[0;32mdef\u001b[0m \u001b[0mget\u001b[0m\u001b[0;34m(\u001b[0m\u001b[0mself\u001b[0m\u001b[0;34m)\u001b[0m\u001b[0;34m:\u001b[0m\u001b[0;34m\u001b[0m\u001b[0m\n",
      "\u001b[0;32m/Users/Will/anaconda/envs/py34/lib/python3.4/site-packages/sklearn/ensemble/forest.py\u001b[0m in \u001b[0;36m_parallel_helper\u001b[0;34m(obj, methodname, *args, **kwargs)\u001b[0m\n\u001b[1;32m    104\u001b[0m \u001b[0;32mdef\u001b[0m \u001b[0m_parallel_helper\u001b[0m\u001b[0;34m(\u001b[0m\u001b[0mobj\u001b[0m\u001b[0;34m,\u001b[0m \u001b[0mmethodname\u001b[0m\u001b[0;34m,\u001b[0m \u001b[0;34m*\u001b[0m\u001b[0margs\u001b[0m\u001b[0;34m,\u001b[0m \u001b[0;34m**\u001b[0m\u001b[0mkwargs\u001b[0m\u001b[0;34m)\u001b[0m\u001b[0;34m:\u001b[0m\u001b[0;34m\u001b[0m\u001b[0m\n\u001b[1;32m    105\u001b[0m     \u001b[0;34m\"\"\"Private helper to workaround Python 2 pickle limitations\"\"\"\u001b[0m\u001b[0;34m\u001b[0m\u001b[0m\n\u001b[0;32m--> 106\u001b[0;31m     \u001b[0;32mreturn\u001b[0m \u001b[0mgetattr\u001b[0m\u001b[0;34m(\u001b[0m\u001b[0mobj\u001b[0m\u001b[0;34m,\u001b[0m \u001b[0mmethodname\u001b[0m\u001b[0;34m)\u001b[0m\u001b[0;34m(\u001b[0m\u001b[0;34m*\u001b[0m\u001b[0margs\u001b[0m\u001b[0;34m,\u001b[0m \u001b[0;34m**\u001b[0m\u001b[0mkwargs\u001b[0m\u001b[0;34m)\u001b[0m\u001b[0;34m\u001b[0m\u001b[0m\n\u001b[0m\u001b[1;32m    107\u001b[0m \u001b[0;34m\u001b[0m\u001b[0m\n\u001b[1;32m    108\u001b[0m \u001b[0;34m\u001b[0m\u001b[0m\n",
      "\u001b[0;32m/Users/Will/anaconda/envs/py34/lib/python3.4/site-packages/sklearn/tree/tree.py\u001b[0m in \u001b[0;36mpredict_proba\u001b[0;34m(self, X, check_input)\u001b[0m\n\u001b[1;32m    588\u001b[0m                              \u001b[0;34m\" match the input. Model n_features is %s and \"\u001b[0m\u001b[0;34m\u001b[0m\u001b[0m\n\u001b[1;32m    589\u001b[0m                              \u001b[0;34m\" input n_features is %s \"\u001b[0m\u001b[0;34m\u001b[0m\u001b[0m\n\u001b[0;32m--> 590\u001b[0;31m                              % (self.n_features_, n_features))\n\u001b[0m\u001b[1;32m    591\u001b[0m \u001b[0;34m\u001b[0m\u001b[0m\n\u001b[1;32m    592\u001b[0m         \u001b[0mproba\u001b[0m \u001b[0;34m=\u001b[0m \u001b[0mself\u001b[0m\u001b[0;34m.\u001b[0m\u001b[0mtree_\u001b[0m\u001b[0;34m.\u001b[0m\u001b[0mpredict\u001b[0m\u001b[0;34m(\u001b[0m\u001b[0mX\u001b[0m\u001b[0;34m)\u001b[0m\u001b[0;34m\u001b[0m\u001b[0m\n",
      "\u001b[0;31mValueError\u001b[0m: Number of features of the model must  match the input. Model n_features is 86 and  input n_features is 737 "
     ]
    }
   ],
   "source": [
    "model = model.predict_proba(X)"
   ]
  },
  {
   "cell_type": "markdown",
   "metadata": {},
   "source": [
    "## Compatibility Issues"
   ]
  },
  {
   "cell_type": "code",
   "execution_count": null,
   "metadata": {
    "collapsed": true
   },
   "outputs": [],
   "source": [
    "import re\n",
    "def convert(name):\n",
    "    s1 = re.sub('(.)([A-Z][a-z]+)', r'\\1_\\2', name)\n",
    "    return re.sub('([a-z0-9])([A-Z])', r'\\1_\\2', s1).lower()"
   ]
  },
  {
   "cell_type": "code",
   "execution_count": null,
   "metadata": {
    "collapsed": true
   },
   "outputs": [],
   "source": [
    "df.columns = [convert(i) for i in df.columns]"
   ]
  },
  {
   "cell_type": "code",
   "execution_count": null,
   "metadata": {
    "collapsed": true
   },
   "outputs": [],
   "source": [
    "import numpy as np"
   ]
  },
  {
   "cell_type": "code",
   "execution_count": null,
   "metadata": {
    "collapsed": true
   },
   "outputs": [],
   "source": [
    "df = df.rename(columns={'collections12_mths_ex_med': \n",
    "    'collections_12_mths_ex_med', 'loan_amount': 'loan_amnt',\n",
    "    'delinq2_yrs': 'delinq_2yrs', 'inq_last6_mths':'inq_last_6mths',\n",
    "                       'addr_zip':'zip_code'})"
   ]
  },
  {
   "cell_type": "code",
   "execution_count": null,
   "metadata": {
    "collapsed": true
   },
   "outputs": [],
   "source": [
    "df['ratio_mth_inc_all_payments'] = (df.installment + df.revol_bal * .02) / (df.annual_inc / 12)"
   ]
  },
  {
   "cell_type": "code",
   "execution_count": null,
   "metadata": {
    "collapsed": false
   },
   "outputs": [],
   "source": [
    "df.columns"
   ]
  },
  {
   "cell_type": "markdown",
   "metadata": {},
   "source": [
    "## Processing"
   ]
  },
  {
   "cell_type": "code",
   "execution_count": null,
   "metadata": {
    "collapsed": true
   },
   "outputs": [],
   "source": [
    "df.emp_length = df.emp_length / 12"
   ]
  },
  {
   "cell_type": "code",
   "execution_count": null,
   "metadata": {
    "collapsed": false
   },
   "outputs": [],
   "source": [
    "import sys\n",
    "sys.path"
   ]
  },
  {
   "cell_type": "code",
   "execution_count": null,
   "metadata": {
    "collapsed": true
   },
   "outputs": [],
   "source": []
  },
  {
   "cell_type": "code",
   "execution_count": null,
   "metadata": {
    "collapsed": false
   },
   "outputs": [],
   "source": [
    "model.create_matrix()"
   ]
  },
  {
   "cell_type": "code",
   "execution_count": null,
   "metadata": {
    "collapsed": false
   },
   "outputs": [],
   "source": [
    "from app.process_api import process_columns, rename_columns"
   ]
  },
  {
   "cell_type": "code",
   "execution_count": null,
   "metadata": {
    "collapsed": false
   },
   "outputs": [],
   "source": [
    "df = clean_columns(df)\n",
    "df = category_processing(df)"
   ]
  },
  {
   "cell_type": "code",
   "execution_count": null,
   "metadata": {
    "collapsed": false
   },
   "outputs": [],
   "source": [
    "df"
   ]
  },
  {
   "cell_type": "markdown",
   "metadata": {},
   "source": [
    "## Converting the Matrix"
   ]
  },
  {
   "cell_type": "code",
   "execution_count": null,
   "metadata": {
    "collapsed": true
   },
   "outputs": [],
   "source": [
    "y, X = create_matrix(df)"
   ]
  },
  {
   "cell_type": "code",
   "execution_count": null,
   "metadata": {
    "collapsed": false
   },
   "outputs": [],
   "source": [
    "df.home_ownership.value_counts()"
   ]
  },
  {
   "cell_type": "code",
   "execution_count": null,
   "metadata": {
    "collapsed": false
   },
   "outputs": [],
   "source": [
    "X.columns"
   ]
  },
  {
   "cell_type": "code",
   "execution_count": null,
   "metadata": {
    "collapsed": true
   },
   "outputs": [],
   "source": [
    "df.home_ownership = df.home_ownership.astype('category')"
   ]
  },
  {
   "cell_type": "code",
   "execution_count": null,
   "metadata": {
    "collapsed": false
   },
   "outputs": [],
   "source": [
    "for i in X.columns:\n",
    "    print(i)"
   ]
  },
  {
   "cell_type": "code",
   "execution_count": null,
   "metadata": {
    "collapsed": false
   },
   "outputs": [],
   "source": [
    "df.zip_code"
   ]
  },
  {
   "cell_type": "code",
   "execution_count": null,
   "metadata": {
    "collapsed": false
   },
   "outputs": [],
   "source": [
    "len(df.addr_state.value_counts())"
   ]
  },
  {
   "cell_type": "code",
   "execution_count": 11,
   "metadata": {
    "collapsed": false,
    "scrolled": true
   },
   "outputs": [],
   "source": [
    "reference_df = pd.read_pickle('../cleaned_df.pkl')"
   ]
  },
  {
   "cell_type": "code",
   "execution_count": null,
   "metadata": {
    "collapsed": true
   },
   "outputs": [],
   "source": [
    "unique_states = reference_df.addr_state.unique()"
   ]
  },
  {
   "cell_type": "code",
   "execution_count": 17,
   "metadata": {
    "collapsed": true
   },
   "outputs": [],
   "source": [
    "purposes = reference_df.purpose.unique()"
   ]
  },
  {
   "cell_type": "code",
   "execution_count": 47,
   "metadata": {
    "collapsed": false
   },
   "outputs": [
    {
     "data": {
      "text/plain": [
       "[debt_consolidation, credit_card, medical, home_improvement, car, other, small_business, major_purchase, vacation, moving]\n",
       "Categories (10, object): [debt_consolidation, credit_card, medical, home_improvement, ..., small_business, major_purchase, vacation, moving]"
      ]
     },
     "execution_count": 47,
     "metadata": {},
     "output_type": "execute_result"
    }
   ],
   "source": [
    "purposes"
   ]
  },
  {
   "cell_type": "code",
   "execution_count": null,
   "metadata": {
    "collapsed": true
   },
   "outputs": [],
   "source": [
    "import pickle\n",
    "with open('state_list.pkl', 'wb') as picklefile:\n",
    "    pickle.dump(list(unique_states.get_values()), picklefile)"
   ]
  },
  {
   "cell_type": "code",
   "execution_count": 19,
   "metadata": {
    "collapsed": false
   },
   "outputs": [],
   "source": [
    "import pickle\n",
    "with open('purpose_list.pkl', 'wb') as picklefile:\n",
    "    pickle.dump(set(purposes), picklefile)"
   ]
  },
  {
   "cell_type": "code",
   "execution_count": null,
   "metadata": {
    "collapsed": true
   },
   "outputs": [],
   "source": [
    "with open('state_list.pkl', 'rb') as picklefile:\n",
    "    state_list = pickle.load(picklefile)"
   ]
  },
  {
   "cell_type": "code",
   "execution_count": null,
   "metadata": {
    "collapsed": true
   },
   "outputs": [],
   "source": [
    "unique_states = df.addr_state.unique()"
   ]
  },
  {
   "cell_type": "code",
   "execution_count": null,
   "metadata": {
    "collapsed": false
   },
   "outputs": [],
   "source": [
    "set(state_list) - set(unique_states.get_values())"
   ]
  },
  {
   "cell_type": "code",
   "execution_count": null,
   "metadata": {
    "collapsed": false
   },
   "outputs": [],
   "source": [
    "len(df.purpose.unique())"
   ]
  },
  {
   "cell_type": "code",
   "execution_count": null,
   "metadata": {
    "collapsed": true
   },
   "outputs": [],
   "source": []
  },
  {
   "cell_type": "code",
   "execution_count": null,
   "metadata": {
    "collapsed": false
   },
   "outputs": [],
   "source": [
    "df.addr_state = df.addr_state.astype('category')\n",
    "df.addr_state.cat.add_categories(state_list)"
   ]
  },
  {
   "cell_type": "code",
   "execution_count": null,
   "metadata": {
    "collapsed": false
   },
   "outputs": [],
   "source": [
    "state_list"
   ]
  },
  {
   "cell_type": "code",
   "execution_count": null,
   "metadata": {
    "collapsed": false
   },
   "outputs": [],
   "source": [
    "df.addr_state"
   ]
  },
  {
   "cell_type": "code",
   "execution_count": null,
   "metadata": {
    "collapsed": true
   },
   "outputs": [],
   "source": [
    "df.addr_state.cat."
   ]
  },
  {
   "cell_type": "markdown",
   "metadata": {},
   "source": [
    "# More Advanced Payback Stats"
   ]
  },
  {
   "cell_type": "markdown",
   "metadata": {},
   "source": [
    "Here I just find the pay stats for each and every point. "
   ]
  },
  {
   "cell_type": "code",
   "execution_count": 13,
   "metadata": {
    "collapsed": false
   },
   "outputs": [
    {
     "data": {
      "text/plain": [
       "Index(['total_pymnt', 'zip_code', 'member_id', 'id', 'loan_amnt', 'int_rate',\n",
       "       'installment', 'emp_length', 'home_ownership', 'grade', 'sub_grade',\n",
       "       'emp_title', 'issue_d', 'loan_status', 'annual_inc',\n",
       "       'verification_status', 'purpose', 'addr_state', 'inq_last_6mths', 'dti',\n",
       "       'revol_util', 'mths_since_last_delinq', 'pub_rec', 'revol_bal',\n",
       "       'open_acc', 'collections_12_mths_ex_med', 'delinq_2yrs',\n",
       "       'earliest_cr_line', 'fico_range_low', 'last_credit_pull_d',\n",
       "       'ratio_inc_debt', 'ratio_inc_installment', 'ratio_mth_inc_all_payments',\n",
       "       'year_issued', 'month_issued', 'delinq'],\n",
       "      dtype='object')"
      ]
     },
     "execution_count": 13,
     "metadata": {},
     "output_type": "execute_result"
    }
   ],
   "source": [
    "reference_df.columns"
   ]
  },
  {
   "cell_type": "code",
   "execution_count": 15,
   "metadata": {
    "collapsed": false
   },
   "outputs": [
    {
     "data": {
      "text/plain": [
       "grade\n",
       "A    5720.001445\n",
       "B    6157.045291\n",
       "C    6216.491646\n",
       "D    6474.710493\n",
       "E    7983.640198\n",
       "F    8859.668932\n",
       "G    9144.884202\n",
       "Name: total_pymnt, dtype: float64"
      ]
     },
     "execution_count": 15,
     "metadata": {},
     "output_type": "execute_result"
    }
   ],
   "source": [
    "reference_df[reference_df.delinq == 1].groupby('grade')['total_pymnt'].mean()"
   ]
  },
  {
   "cell_type": "code",
   "execution_count": 16,
   "metadata": {
    "collapsed": true
   },
   "outputs": [],
   "source": [
    "grouped_deliq = reference_df[reference_df.delinq == 1].groupby('grade')"
   ]
  },
  {
   "cell_type": "code",
   "execution_count": 18,
   "metadata": {
    "collapsed": false
   },
   "outputs": [
    {
     "data": {
      "text/plain": [
       "grade\n",
       "A    0.487823\n",
       "B    0.494928\n",
       "C    0.458241\n",
       "D    0.445103\n",
       "E    0.440516\n",
       "F    0.452705\n",
       "G    0.427903\n",
       "dtype: float64"
      ]
     },
     "execution_count": 18,
     "metadata": {},
     "output_type": "execute_result"
    }
   ],
   "source": [
    "grouped_deliq['total_pymnt'].mean() / grouped_deliq['loan_amnt'].mean()"
   ]
  },
  {
   "cell_type": "code",
   "execution_count": null,
   "metadata": {
    "collapsed": true
   },
   "outputs": [],
   "source": []
  }
 ],
 "metadata": {
  "kernelspec": {
   "display_name": "Python 3",
   "language": "python",
   "name": "python3"
  },
  "language_info": {
   "codemirror_mode": {
    "name": "ipython",
    "version": 3
   },
   "file_extension": ".py",
   "mimetype": "text/x-python",
   "name": "python",
   "nbconvert_exporter": "python",
   "pygments_lexer": "ipython3",
   "version": "3.4.3"
  }
 },
 "nbformat": 4,
 "nbformat_minor": 0
}
