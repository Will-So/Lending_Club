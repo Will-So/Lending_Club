{
 "cells": [
  {
   "cell_type": "code",
   "execution_count": 1,
   "metadata": {},
   "outputs": [
    {
     "name": "stdout",
     "output_type": "stream",
     "text": [
      "Populating the interactive namespace from numpy and matplotlib\n"
     ]
    }
   ],
   "source": [
    "%pylab inline\n",
    "import pandas as pd"
   ]
  },
  {
   "cell_type": "code",
   "execution_count": 2,
   "metadata": {},
   "outputs": [],
   "source": [
    "df = pd.read_pickle('../cleaned_df.pkl')"
   ]
  },
  {
   "cell_type": "markdown",
   "metadata": {},
   "source": [
    "## Preparation"
   ]
  },
  {
   "cell_type": "markdown",
   "metadata": {},
   "source": [
    "## Categorical variables"
   ]
  },
  {
   "cell_type": "markdown",
   "metadata": {},
   "source": [
    "This data has a lot of categorical variables. I prefer `dmatrices` instead of `pd.get_dummies` as it is a lot cleaner."
   ]
  },
  {
   "cell_type": "code",
   "execution_count": 5,
   "metadata": {},
   "outputs": [],
   "source": [
    "from patsy import dmatrices"
   ]
  },
  {
   "cell_type": "code",
   "execution_count": 6,
   "metadata": {},
   "outputs": [],
   "source": [
    "y, X = dmatrices('delinq ~  + loan_amnt + int_rate + installment + emp_length +'\n",
    "                 'C(home_ownership) + C(grade) + C(month_issued) + C(year_issued)'\n",
    "                 '+ C(purpose) + C(addr_state) + inq_last_6mths + pub_rec + revol_bal +open_acc+'\n",
    "                 'collections_12_mths_ex_med + delinq_2yrs + earliest_cr_line  + fico_range_low'\n",
    "                 '+ ratio_mth_inc_all_payments + annual_inc',\n",
    "                 df, return_type='dataframe')"
   ]
  },
  {
   "cell_type": "markdown",
   "metadata": {},
   "source": [
    "Earliest cr line to the year. Proabbly going to be quite good."
   ]
  },
  {
   "cell_type": "code",
   "execution_count": 7,
   "metadata": {},
   "outputs": [
    {
     "name": "stdout",
     "output_type": "stream",
     "text": [
      "Intercept\n",
      "C(home_ownership)[T.OTHER]\n",
      "C(home_ownership)[T.OWN]\n",
      "C(home_ownership)[T.RENT]\n",
      "C(grade)[T.B]\n",
      "C(grade)[T.C]\n",
      "C(grade)[T.D]\n",
      "C(grade)[T.E]\n",
      "C(grade)[T.F]\n",
      "C(grade)[T.G]\n"
     ]
    }
   ],
   "source": [
    "for i in X.columns[:10]:\n",
    "    print(i,)"
   ]
  },
  {
   "cell_type": "code",
   "execution_count": 8,
   "metadata": {},
   "outputs": [],
   "source": [
    "y = np.ravel(y)"
   ]
  },
  {
   "cell_type": "markdown",
   "metadata": {},
   "source": [
    "Create a small testset for testing purposes"
   ]
  },
  {
   "cell_type": "code",
   "execution_count": 9,
   "metadata": {},
   "outputs": [],
   "source": [
    "y_s, X_s = y[-10000:], X[-10000:]"
   ]
  },
  {
   "cell_type": "markdown",
   "metadata": {},
   "source": [
    "## A first model: Logistic Regression"
   ]
  },
  {
   "cell_type": "code",
   "execution_count": 10,
   "metadata": {},
   "outputs": [],
   "source": [
    "from sklearn.linear_model import LogisticRegressionCV"
   ]
  },
  {
   "cell_type": "code",
   "execution_count": 11,
   "metadata": {},
   "outputs": [],
   "source": [
    "model_log = LogisticRegressionCV(cv=5, penalty='l2', verbose=1, max_iter=1000)"
   ]
  },
  {
   "cell_type": "code",
   "execution_count": 12,
   "metadata": {},
   "outputs": [
    {
     "name": "stderr",
     "output_type": "stream",
     "text": [
      "[Parallel(n_jobs=1)]: Done   1 jobs       | elapsed:    0.1s\n",
      "[Parallel(n_jobs=1)]: Done   5 out of   5 | elapsed:    0.6s finished\n"
     ]
    }
   ],
   "source": [
    "fit = model_log.fit(X_s, y_s)"
   ]
  },
  {
   "cell_type": "code",
   "execution_count": 13,
   "metadata": {},
   "outputs": [],
   "source": [
    "predictions = model_log.predict(X_s)"
   ]
  },
  {
   "cell_type": "code",
   "execution_count": 14,
   "metadata": {},
   "outputs": [
    {
     "data": {
      "text/plain": [
       "0.0"
      ]
     },
     "execution_count": 14,
     "output_type": "execute_result",
     "metadata": {}
    }
   ],
   "source": [
    "predictions.mean()"
   ]
  },
  {
   "cell_type": "code",
   "execution_count": 15,
   "metadata": {},
   "outputs": [
    {
     "data": {
      "text/plain": [
       "0.91849999999999998"
      ]
     },
     "execution_count": 15,
     "output_type": "execute_result",
     "metadata": {}
    }
   ],
   "source": [
    "model_log.score(X_s, y_s)"
   ]
  },
  {
   "cell_type": "code",
   "execution_count": 16,
   "metadata": {},
   "outputs": [
    {
     "data": {
      "text/plain": [
       "0.081500000000000003"
      ]
     },
     "execution_count": 16,
     "output_type": "execute_result",
     "metadata": {}
    }
   ],
   "source": [
    "y_s.mean()"
   ]
  },
  {
   "cell_type": "markdown",
   "metadata": {},
   "source": [
    "## Train_test_split"
   ]
  },
  {
   "cell_type": "code",
   "execution_count": 10,
   "metadata": {},
   "outputs": [],
   "source": [
    "from sklearn.cross_validation import train_test_split"
   ]
  },
  {
   "cell_type": "code",
   "execution_count": 18,
   "metadata": {},
   "outputs": [],
   "source": [
    "X_train, X_test, y_train, y_test = train_test_split(X, y, test_size=0.15,\n",
    "                                                   random_state=42)"
   ]
  },
  {
   "cell_type": "markdown",
   "metadata": {},
   "source": [
    "## A Second Model: "
   ]
  },
  {
   "cell_type": "code",
   "execution_count": 7,
   "metadata": {},
   "outputs": [],
   "source": [
    "from sklearn.ensemble import RandomForestClassifier"
   ]
  },
  {
   "cell_type": "code",
   "execution_count": 8,
   "metadata": {},
   "outputs": [],
   "source": [
    "model_rf = RandomForestClassifier(n_estimators=200, oob_score=True, verbose=1, random_state=2143,\n",
    "                                 min_samples_split=50, n_jobs=-2)"
   ]
  },
  {
   "cell_type": "code",
   "execution_count": 21,
   "metadata": {},
   "outputs": [
    {
     "name": "stderr",
     "output_type": "stream",
     "text": [
      "[Parallel(n_jobs=1)]: Done   1 jobs       | elapsed:    1.5s\n",
      "[Parallel(n_jobs=1)]: Done  50 jobs       | elapsed:  1.3min\n",
      "[Parallel(n_jobs=1)]: Done 200 jobs       | elapsed:  5.2min\n",
      "[Parallel(n_jobs=1)]: Done 200 out of 200 | elapsed:  5.2min finished\n"
     ]
    }
   ],
   "source": [
    "rf_fit = model_rf.fit(X_train, y_train)"
   ]
  },
  {
   "cell_type": "code",
   "execution_count": 22,
   "metadata": {},
   "outputs": [
    {
     "name": "stderr",
     "output_type": "stream",
     "text": [
      "[Parallel(n_jobs=1)]: Done   1 jobs       | elapsed:    0.0s\n",
      "[Parallel(n_jobs=1)]: Done  50 jobs       | elapsed:    0.8s\n",
      "[Parallel(n_jobs=1)]: Done 200 jobs       | elapsed:    2.9s\n",
      "[Parallel(n_jobs=1)]: Done 200 out of 200 | elapsed:    2.9s finished\n"
     ]
    }
   ],
   "source": [
    "prediction = rf_fit.predict(X_test)"
   ]
  },
  {
   "cell_type": "code",
   "execution_count": 23,
   "metadata": {},
   "outputs": [
    {
     "name": "stderr",
     "output_type": "stream",
     "text": [
      "[Parallel(n_jobs=1)]: Done   1 jobs       | elapsed:    0.0s\n",
      "[Parallel(n_jobs=1)]: Done  50 jobs       | elapsed:    0.7s\n",
      "[Parallel(n_jobs=1)]: Done 200 jobs       | elapsed:    3.1s\n",
      "[Parallel(n_jobs=1)]: Done 200 out of 200 | elapsed:    3.1s finished\n"
     ]
    }
   ],
   "source": [
    "prob_pred = rf_fit.predict_proba(X_test)"
   ]
  },
  {
   "cell_type": "markdown",
   "metadata": {},
   "source": [
    "# Evaluating our Performance"
   ]
  },
  {
   "cell_type": "markdown",
   "metadata": {},
   "source": [
    "# Finding the Most Important Features"
   ]
  },
  {
   "cell_type": "markdown",
   "metadata": {},
   "source": [
    "A benefit of random forests is that it is possible to find the most important features in our model. "
   ]
  },
  {
   "cell_type": "markdown",
   "metadata": {},
   "source": [
    "## Steps"
   ]
  },
  {
   "cell_type": "markdown",
   "metadata": {},
   "source": [
    "1. Extract the most important features and sort them by value of importance\n",
    "1. Standarize the values\n",
    "2. multiply them such that 100 is the highest value."
   ]
  },
  {
   "cell_type": "code",
   "execution_count": 28,
   "metadata": {},
   "outputs": [],
   "source": [
    "features = sorted(list(zip(X.columns, model_rf.feature_importances_)), key=lambda x: x[1],\n",
    "      reverse=True)"
   ]
  },
  {
   "cell_type": "code",
   "execution_count": 29,
   "metadata": {},
   "outputs": [
    {
     "data": {
      "text/plain": [
       "[('int_rate', 0.087367583254206252),\n",
       " ('ratio_mth_inc_all_payments', 0.078217366603344093),\n",
       " ('revol_bal', 0.071783620370906631),\n",
       " ('annual_inc', 0.065117515624413966),\n",
       " ('installment', 0.064354902147432155),\n",
       " ('loan_amnt', 0.051682988339306381),\n",
       " ('earliest_cr_line', 0.044770817935560217),\n",
       " ('open_acc', 0.040189360438633512),\n",
       " ('fico_range_low', 0.039819423299314226),\n",
       " ('emp_length', 0.023505721478127985)]"
      ]
     },
     "execution_count": 29,
     "output_type": "execute_result",
     "metadata": {}
    }
   ],
   "source": [
    "features[:10]"
   ]
  },
  {
   "cell_type": "code",
   "execution_count": 34,
   "metadata": {},
   "outputs": [],
   "source": [
    "features = sorted(list(zip(X.columns, rf_fit.feature_importances_)), key=lambda x: x[1],\n",
    "      reverse=True)"
   ]
  },
  {
   "cell_type": "code",
   "execution_count": 35,
   "metadata": {},
   "outputs": [],
   "source": [
    "values = [feature[1] for feature in features]"
   ]
  },
  {
   "cell_type": "code",
   "execution_count": 36,
   "metadata": {},
   "outputs": [],
   "source": [
    "standardized_values =(values - np.mean(values)) / np.std(values)"
   ]
  },
  {
   "cell_type": "code",
   "execution_count": 37,
   "metadata": {},
   "outputs": [],
   "source": [
    "base_hundred = (100/  standardized_values[0]) * standardized_values"
   ]
  },
  {
   "cell_type": "code",
   "execution_count": 38,
   "metadata": {},
   "outputs": [],
   "source": [
    "hundred = list(zip([feature[0] for feature in features], base_hundred))"
   ]
  },
  {
   "cell_type": "code",
   "execution_count": 39,
   "metadata": {},
   "outputs": [],
   "source": [
    "importand_featuers = hundred[:10]"
   ]
  },
  {
   "cell_type": "code",
   "execution_count": 40,
   "metadata": {},
   "outputs": [
    {
     "data": {
      "text/plain": [
       "[('int_rate', 100.00000000000001),\n",
       " ('ratio_mth_inc_all_payments', 88.231565394867886),\n",
       " ('revol_bal', 79.956884620470973),\n",
       " ('annual_inc', 71.383358902621652),\n",
       " ('installment', 70.402533292114683),\n",
       " ('loan_amnt', 54.104712741740315),\n",
       " ('earliest_cr_line', 45.214712812793067),\n",
       " ('open_acc', 39.322329604173177),\n",
       " ('fico_range_low', 38.846539664087068),\n",
       " ('emp_length', 17.864879843806673)]"
      ]
     },
     "execution_count": 40,
     "output_type": "execute_result",
     "metadata": {}
    }
   ],
   "source": [
    "importand_featuers"
   ]
  },
  {
   "cell_type": "code",
   "execution_count": 42,
   "metadata": {},
   "outputs": [
    {
     "name": "stderr",
     "output_type": "stream",
     "text": [
      "[Parallel(n_jobs=1)]: Done   1 jobs       | elapsed:    0.0s\n",
      "[Parallel(n_jobs=1)]: Done  50 jobs       | elapsed:    0.7s\n",
      "[Parallel(n_jobs=1)]: Done 200 jobs       | elapsed:    2.9s\n",
      "[Parallel(n_jobs=1)]: Done 200 out of 200 | elapsed:    2.9s finished\n"
     ]
    },
    {
     "data": {
      "text/plain": [
       "0.89873045078196867"
      ]
     },
     "execution_count": 42,
     "output_type": "execute_result",
     "metadata": {}
    }
   ],
   "source": [
    "rf_fit.score(X_test, y_test)"
   ]
  },
  {
   "cell_type": "code",
   "execution_count": 55,
   "metadata": {},
   "outputs": [],
   "source": [
    "from sklearn import svm"
   ]
  },
  {
   "cell_type": "code",
   "execution_count": 56,
   "metadata": {},
   "outputs": [],
   "source": [
    "model = svm.SVC(random_state=4134)"
   ]
  },
  {
   "cell_type": "code",
   "execution_count": null,
   "metadata": {},
   "outputs": [],
   "source": [
    "svm_fit = model.fit(X_test, y_test)"
   ]
  },
  {
   "cell_type": "code",
   "execution_count": 80,
   "metadata": {},
   "outputs": [
    {
     "data": {
      "text/plain": [
       "Current               191303\n",
       "Fully Paid            144478\n",
       "Charged Off            33166\n",
       "Late (31-120 days)      5748\n",
       "In Grace Period         2872\n",
       "Late (16-30 days)       1087\n",
       "Default                  134\n",
       "dtype: int64"
      ]
     },
     "execution_count": 80,
     "output_type": "execute_result",
     "metadata": {}
    }
   ],
   "source": [
    "df.loan_status.value_counts()"
   ]
  },
  {
   "cell_type": "code",
   "execution_count": 84,
   "metadata": {},
   "outputs": [
    {
     "data": {
      "text/plain": [
       "Index(['total_pymnt', 'zip_code', 'member_id', 'id', 'loan_amnt', 'int_rate',\n",
       "       'installment', 'emp_length', 'home_ownership', 'grade', 'sub_grade',\n",
       "       'emp_title', 'issue_d', 'loan_status', 'annual_inc',\n",
       "       'verification_status', 'purpose', 'addr_state', 'inq_last_6mths', 'dti',\n",
       "       'revol_util', 'mths_since_last_delinq', 'pub_rec', 'revol_bal',\n",
       "       'open_acc', 'collections_12_mths_ex_med', 'delinq_2yrs',\n",
       "       'earliest_cr_line', 'fico_range_low', 'last_credit_pull_d',\n",
       "       'ratio_inc_debt', 'ratio_inc_installment', 'ratio_mth_inc_all_payments',\n",
       "       'year_issued', 'month_issued', 'delinq'],\n",
       "      dtype='object')"
      ]
     },
     "execution_count": 84,
     "output_type": "execute_result",
     "metadata": {}
    }
   ],
   "source": [
    "df.columns"
   ]
  },
  {
   "cell_type": "code",
   "execution_count": 90,
   "metadata": {},
   "outputs": [],
   "source": [
    "default_df = df.assign(percentage_paid= df.total_pymnt/df.loan_amnt\n",
    "                      )[df.loan_status=='Charged Off']"
   ]
  },
  {
   "cell_type": "code",
   "execution_count": 92,
   "metadata": {},
   "outputs": [
    {
     "data": {
      "text/plain": [
       "0.45161542363848606"
      ]
     },
     "execution_count": 92,
     "output_type": "execute_result",
     "metadata": {}
    }
   ],
   "source": [
    "default_df.percentage_paid.mean()"
   ]
  },
  {
   "cell_type": "markdown",
   "metadata": {},
   "source": [
    "# Dumping the model to pickle"
   ]
  },
  {
   "cell_type": "code",
   "execution_count": 45,
   "metadata": {},
   "outputs": [
    {
     "data": {
      "text/plain": [
       "0    0.1065\n",
       "1    0.1527\n",
       "2    0.1596\n",
       "3    0.1349\n",
       "4    0.1269\n",
       "Name: int_rate, dtype: float64"
      ]
     },
     "execution_count": 45,
     "output_type": "execute_result",
     "metadata": {}
    }
   ],
   "source": [
    "df.int_rate.head()"
   ]
  },
  {
   "cell_type": "code",
   "execution_count": 14,
   "metadata": {},
   "outputs": [],
   "source": [
    "from sklearn.externals import joblib\n",
    "# Prevent accidental execution\n",
    "## joblib.dump(rf_fit, 'model/rf_model.pkl');"
   ]
  },
  {
   "cell_type": "code",
   "execution_count": 14,
   "metadata": {},
   "outputs": [],
   "source": [
    "rf = joblib.load('../model/rf_model.pkl')"
   ]
  },
  {
   "cell_type": "code",
   "execution_count": 77,
   "metadata": {},
   "outputs": [],
   "source": [
    "model = joblib.load('../model/rf_model.pkl')"
   ]
  },
  {
   "cell_type": "markdown",
   "metadata": {},
   "source": [
    "# Fitting only Riskier Loans"
   ]
  },
  {
   "cell_type": "markdown",
   "metadata": {},
   "source": [
    "Since we aren't interested in investing high-grade loans, we can and should retrain our model so that our model learns only features indicative of default only in our risky-loan universe. \n",
    "\n",
    "It isn't clear, *a priori* that this model will yield better results. While excluding A, B loans almost surely reduces our asymptotic bias, this may be overwhelemed by the decrease in the amount of data our model has to work with."
   ]
  },
  {
   "cell_type": "code",
   "execution_count": 3,
   "metadata": {},
   "outputs": [],
   "source": [
    "df_risky = df[df.grade.isin(['C', 'D', 'E'])]"
   ]
  },
  {
   "cell_type": "code",
   "execution_count": 4,
   "metadata": {},
   "outputs": [],
   "source": [
    "import sys; \n",
    "sys.path.append(\"../scripts\")\n",
    "from model import create_matrix"
   ]
  },
  {
   "cell_type": "code",
   "execution_count": 5,
   "metadata": {},
   "outputs": [],
   "source": [
    "y, X = create_matrix(df)"
   ]
  },
  {
   "cell_type": "code",
   "execution_count": 11,
   "metadata": {},
   "outputs": [],
   "source": [
    "X_train, X_test, y_train, y_test = train_test_split(X, y, train_size=0.8)"
   ]
  },
  {
   "cell_type": "code",
   "execution_count": 12,
   "metadata": {},
   "outputs": [
    {
     "name": "stderr",
     "output_type": "stream",
     "text": [
      "[Parallel(n_jobs=-2)]: Done   1 out of 200 | elapsed:    2.6s remaining:  8.5min\n",
      "[Parallel(n_jobs=-2)]: Done 200 out of 200 | elapsed:  1.2min finished\n"
     ]
    }
   ],
   "source": [
    "fitted_risky_rf = model_rf.fit(X_train, y_train)"
   ]
  },
  {
   "cell_type": "code",
   "execution_count": 17,
   "metadata": {},
   "outputs": [],
   "source": [
    "# Prevent accidental running\n",
    "## joblib.dump(fitted_risky_rf, '../rf_risky_model/rf_model.pkl');"
   ]
  },
  {
   "cell_type": "code",
   "execution_count": 19,
   "metadata": {},
   "outputs": [
    {
     "name": "stderr",
     "output_type": "stream",
     "text": [
      "[Parallel(n_jobs=7)]: Done   1 out of 200 | elapsed:    0.0s remaining:    7.9s\n",
      "[Parallel(n_jobs=7)]: Done 200 out of 200 | elapsed:    0.9s finished\n"
     ]
    }
   ],
   "source": [
    "probs = fitted_risky_rf.predict_proba(X_test)"
   ]
  },
  {
   "cell_type": "code",
   "execution_count": 22,
   "metadata": {},
   "outputs": [],
   "source": [
    "default_prob = [i[1] for i in probs]"
   ]
  },
  {
   "cell_type": "code",
   "execution_count": 29,
   "metadata": {},
   "outputs": [
    {
     "name": "stderr",
     "output_type": "stream",
     "text": [
      "/Users/Will/anaconda/envs/py34/lib/python3.4/site-packages/ipykernel/__main__.py:1: SettingWithCopyWarning: \n",
      "A value is trying to be set on a copy of a slice from a DataFrame.\n",
      "Try using .loc[row_indexer,col_indexer] = value instead\n",
      "\n",
      "See the caveats in the documentation: http://pandas.pydata.org/pandas-docs/stable/indexing.html#indexing-view-versus-copy\n",
      "  if __name__ == '__main__':\n"
     ]
    }
   ],
   "source": [
    "X_test['default_prob'] = default_prob"
   ]
  },
  {
   "cell_type": "code",
   "execution_count": 30,
   "metadata": {},
   "outputs": [
    {
     "name": "stderr",
     "output_type": "stream",
     "text": [
      "/Users/Will/anaconda/envs/py34/lib/python3.4/site-packages/ipykernel/__main__.py:1: SettingWithCopyWarning: \n",
      "A value is trying to be set on a copy of a slice from a DataFrame.\n",
      "Try using .loc[row_indexer,col_indexer] = value instead\n",
      "\n",
      "See the caveats in the documentation: http://pandas.pydata.org/pandas-docs/stable/indexing.html#indexing-view-versus-copy\n",
      "  if __name__ == '__main__':\n"
     ]
    }
   ],
   "source": [
    "X_test['target'] = y_test"
   ]
  },
  {
   "cell_type": "markdown",
   "metadata": {},
   "source": [
    "# Basic Evaluation"
   ]
  },
  {
   "cell_type": "markdown",
   "metadata": {},
   "source": [
    "First we do a basic evaluation by sorting the notes by default probability. This is flawed in a number of ways. In particular, it only considers the default rate rather than ROI, which is what we are interested in. "
   ]
  },
  {
   "cell_type": "code",
   "execution_count": 32,
   "metadata": {},
   "outputs": [],
   "source": [
    "sorted_X = X_test.sort_values('default_prob')"
   ]
  },
  {
   "cell_type": "code",
   "execution_count": 33,
   "metadata": {},
   "outputs": [],
   "source": [
    "top_20_percent = sorted_X[:len(sorted_X) // 5]"
   ]
  },
  {
   "cell_type": "code",
   "execution_count": 34,
   "metadata": {},
   "outputs": [],
   "source": [
    "total_default_rate = X_test.target.mean()"
   ]
  },
  {
   "cell_type": "code",
   "execution_count": 35,
   "metadata": {},
   "outputs": [
    {
     "data": {
      "text/plain": [
       "0.10309662462396159"
      ]
     },
     "execution_count": 35,
     "output_type": "execute_result",
     "metadata": {}
    }
   ],
   "source": [
    "total_default_rate"
   ]
  },
  {
   "cell_type": "code",
   "execution_count": 36,
   "metadata": {},
   "outputs": [
    {
     "data": {
      "text/plain": [
       "0    13999\n",
       "1      494\n",
       "Name: target, dtype: int64"
      ]
     },
     "execution_count": 36,
     "output_type": "execute_result",
     "metadata": {}
    }
   ],
   "source": [
    "top_20_percent.target.value_counts()"
   ]
  },
  {
   "cell_type": "code",
   "execution_count": 152,
   "metadata": {},
   "outputs": [
    {
     "data": {
      "text/plain": [
       "0    7249\n",
       "1      44\n",
       "Name: target, dtype: int64"
      ]
     },
     "execution_count": 152,
     "output_type": "execute_result",
     "metadata": {}
    }
   ],
   "source": [
    "top_20_percent.target.value_counts()"
   ]
  },
  {
   "cell_type": "code",
   "execution_count": 37,
   "metadata": {},
   "outputs": [],
   "source": [
    "top_20_mean = top_20_percent.target.mean()"
   ]
  },
  {
   "cell_type": "code",
   "execution_count": 38,
   "metadata": {},
   "outputs": [
    {
     "data": {
      "text/plain": [
       "0.034085420547850687"
      ]
     },
     "execution_count": 38,
     "output_type": "execute_result",
     "metadata": {}
    }
   ],
   "source": [
    "top_20_mean"
   ]
  },
  {
   "cell_type": "markdown",
   "metadata": {},
   "source": [
    "As defaults eat up half the returns so halving the default rate corresponds to an increase from 9% ROI to 13.5% according to the test set."
   ]
  },
  {
   "cell_type": "markdown",
   "metadata": {},
   "source": [
    "# Moving Forward"
   ]
  },
  {
   "cell_type": "markdown",
   "metadata": {},
   "source": [
    "Additional evaluations can be found in the `Evaluation` notebook. In that section we consider a more rigorous "
   ]
  }
 ],
 "metadata": {
  "kernelspec": {
   "display_name": "Python 3",
   "language": "python",
   "name": "python3"
  },
  "language_info": {
   "codemirror_mode": {
    "name": "ipython",
    "version": 3.0
   },
   "file_extension": ".py",
   "mimetype": "text/x-python",
   "name": "python",
   "nbconvert_exporter": "python",
   "pygments_lexer": "ipython3",
   "version": "3.4.3"
  }
 },
 "nbformat": 4,
 "nbformat_minor": 0
}