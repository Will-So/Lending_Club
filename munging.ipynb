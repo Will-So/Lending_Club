{
 "cells": [
  {
   "cell_type": "code",
   "execution_count": 4,
   "metadata": {
    "collapsed": false,
    "scrolled": true
   },
   "outputs": [
    {
     "name": "stdout",
     "output_type": "stream",
     "text": [
      "Populating the interactive namespace from numpy and matplotlib\n"
     ]
    }
   ],
   "source": [
    "%pylab inline\n",
    "import pandas as pd\n",
    "import os\n",
    "DATA_DIR = '/Users/Will/Data/lending_club/'"
   ]
  },
  {
   "cell_type": "code",
   "execution_count": 5,
   "metadata": {
    "collapsed": false,
    "scrolled": true
   },
   "outputs": [
    {
     "data": {
      "text/plain": [
       "['.DS_Store',\n",
       " 'LoanStats3a.csv',\n",
       " 'LoanStats3b.csv',\n",
       " 'LoanStats3c.csv',\n",
       " 'LoanStats3d.csv']"
      ]
     },
     "execution_count": 5,
     "metadata": {},
     "output_type": "execute_result"
    }
   ],
   "source": [
    "os.listdir(DATA_DIR)"
   ]
  },
  {
   "cell_type": "code",
   "execution_count": 259,
   "metadata": {
    "collapsed": false,
    "scrolled": true
   },
   "outputs": [
    {
     "name": "stderr",
     "output_type": "stream",
     "text": [
      "/Users/Will/anaconda/envs/py34/lib/python3.4/site-packages/pandas/io/parsers.py:1170: DtypeWarning: Columns (0) have mixed types. Specify dtype option on import or set low_memory=False.\n",
      "  data = self._reader.read(nrows)\n",
      "/Users/Will/anaconda/envs/py34/lib/python3.4/site-packages/pandas/io/parsers.py:1170: DtypeWarning: Columns (0,19) have mixed types. Specify dtype option on import or set low_memory=False.\n",
      "  data = self._reader.read(nrows)\n"
     ]
    }
   ],
   "source": [
    "df = pd.DataFrame()\n",
    "for csv in os.listdir(DATA_DIR)[1:]:\n",
    "    df = df.append(pd.read_csv(DATA_DIR + csv, header=True))"
   ]
  },
  {
   "cell_type": "code",
   "execution_count": 261,
   "metadata": {
    "collapsed": false
   },
   "outputs": [],
   "source": [
    "important_columns = ['total_pymnt', 'zip_code', 'member_id', 'id', 'loan_amnt', 'int_rate',\n",
    "                    'installment', 'emp_length', 'home_ownership', 'grade', 'sub_grade', 'emp_title',\n",
    "                    'issue_d', 'loan_status', 'annual_inc', 'verification_status', 'purpose', 'addr_state', 'pymnt_plan',\n",
    "                     'inq_last_6mths', 'dti', 'revol_util', 'mths_since_last_record', 'mths_since_last_delinq',\n",
    "                     'pub_rec', 'revol_bal', 'open_acc', 'collections_12_mths_ex_med', 'delinq_2yrs',\n",
    "                     'earliest_cr_line',  'last_credit_pull_d']"
   ]
  },
  {
   "cell_type": "code",
   "execution_count": 262,
   "metadata": {
    "collapsed": false
   },
   "outputs": [],
   "source": [
    "lc = df[important_columns]"
   ]
  },
  {
   "cell_type": "code",
   "execution_count": 128,
   "metadata": {
    "collapsed": false,
    "scrolled": true
   },
   "outputs": [],
   "source": [
    "other_columns = ['last_pymnt_d', 'last_pymnt_amnt']"
   ]
  },
  {
   "cell_type": "code",
   "execution_count": 263,
   "metadata": {
    "collapsed": false
   },
   "outputs": [
    {
     "data": {
      "text/plain": [
       "50.786928010183928"
      ]
     },
     "execution_count": 263,
     "metadata": {},
     "output_type": "execute_result"
    }
   ],
   "source": [
    "mean(df.total_pymnt - df.total_pymnt_inv)"
   ]
  },
  {
   "cell_type": "markdown",
   "metadata": {},
   "source": [
    "Earliest CR line is a good proxy for age."
   ]
  },
  {
   "cell_type": "markdown",
   "metadata": {},
   "source": [
    "# Type Casting"
   ]
  },
  {
   "cell_type": "code",
   "execution_count": 300,
   "metadata": {
    "collapsed": true
   },
   "outputs": [],
   "source": [
    "lc = lc[:-2] # The last 2 rows of the CSV arent proper rows"
   ]
  },
  {
   "cell_type": "code",
   "execution_count": 301,
   "metadata": {
    "collapsed": false,
    "scrolled": true
   },
   "outputs": [
    {
     "name": "stdout",
     "output_type": "stream",
     "text": [
      "<class 'pandas.core.frame.DataFrame'>\n",
      "Int64Index: 646387 entries, 0 to 180099\n",
      "Data columns (total 30 columns):\n",
      "total_pymnt                   646387 non-null float64\n",
      "zip_code                      646387 non-null int64\n",
      "member_id                     646387 non-null float64\n",
      "id                            646387 non-null int64\n",
      "loan_amnt                     646387 non-null float64\n",
      "int_rate                      646387 non-null float64\n",
      "installment                   646387 non-null float64\n",
      "emp_length                    615969 non-null float64\n",
      "home_ownership                646387 non-null category\n",
      "grade                         646387 non-null category\n",
      "sub_grade                     646387 non-null int64\n",
      "emp_title                     609363 non-null object\n",
      "issue_d                       646387 non-null datetime64[ns]\n",
      "loan_status                   646387 non-null category\n",
      "annual_inc                    646383 non-null float64\n",
      "verification_status           646387 non-null int64\n",
      "purpose                       646387 non-null category\n",
      "addr_state                    646387 non-null category\n",
      "inq_last_6mths                646358 non-null float64\n",
      "dti                           646387 non-null float64\n",
      "revol_util                    645984 non-null float64\n",
      "mths_since_last_record        94340 non-null float64\n",
      "mths_since_last_delinq        309041 non-null float64\n",
      "pub_rec                       646358 non-null float64\n",
      "revol_bal                     646387 non-null float64\n",
      "open_acc                      646358 non-null float64\n",
      "collections_12_mths_ex_med    646242 non-null float64\n",
      "delinq_2yrs                   646358 non-null float64\n",
      "earliest_cr_line              646358 non-null datetime64[ns]\n",
      "last_credit_pull_d            646339 non-null datetime64[ns]\n",
      "dtypes: category(5), datetime64[ns](3), float64(17), int64(4), object(1)\n",
      "memory usage: 131.3+ MB\n"
     ]
    }
   ],
   "source": [
    "lc.info()"
   ]
  },
  {
   "cell_type": "code",
   "execution_count": 274,
   "metadata": {
    "collapsed": false,
    "scrolled": false
   },
   "outputs": [],
   "source": [
    "lc['zip_code'] = lc['zip_code'].str.replace('x', '')"
   ]
  },
  {
   "cell_type": "code",
   "execution_count": 275,
   "metadata": {
    "collapsed": false
   },
   "outputs": [
    {
     "data": {
      "text/plain": [
       "0         860\n",
       "1         309\n",
       "2         606\n",
       "3         917\n",
       "4         972\n",
       "5         852\n",
       "6         280\n",
       "7         900\n",
       "8         958\n",
       "9         774\n",
       "10        853\n",
       "11        913\n",
       "12        245\n",
       "13        606\n",
       "14        951\n",
       "15        641\n",
       "16        921\n",
       "17        067\n",
       "18        890\n",
       "19        921\n",
       "20        770\n",
       "21        335\n",
       "22        799\n",
       "23        917\n",
       "24        900\n",
       "25        605\n",
       "26        103\n",
       "27        150\n",
       "28        326\n",
       "29        564\n",
       "         ... \n",
       "180072    925\n",
       "180073    325\n",
       "180074    209\n",
       "180075    176\n",
       "180076    339\n",
       "180077    597\n",
       "180078    412\n",
       "180079    308\n",
       "180080    840\n",
       "180081    138\n",
       "180082    282\n",
       "180083    550\n",
       "180084    871\n",
       "180085    021\n",
       "180086    330\n",
       "180087    333\n",
       "180088    891\n",
       "180089    325\n",
       "180090    286\n",
       "180091    471\n",
       "180092    956\n",
       "180093    531\n",
       "180094    430\n",
       "180095    432\n",
       "180096    791\n",
       "180097    905\n",
       "180098    072\n",
       "180099    010\n",
       "180100    378\n",
       "180101    331\n",
       "Name: zip_code, dtype: object"
      ]
     },
     "execution_count": 275,
     "metadata": {},
     "output_type": "execute_result"
    }
   ],
   "source": [
    "lc.zip_code"
   ]
  },
  {
   "cell_type": "code",
   "execution_count": 282,
   "metadata": {
    "collapsed": false,
    "scrolled": false
   },
   "outputs": [],
   "source": [
    "lc.zip_code = lc.zip_code.astype(int)"
   ]
  },
  {
   "cell_type": "code",
   "execution_count": 283,
   "metadata": {
    "collapsed": true
   },
   "outputs": [],
   "source": [
    "lc = lc[~lc.id.str.contains('[A-z]', na=False)] #Remove ids with words"
   ]
  },
  {
   "cell_type": "code",
   "execution_count": 284,
   "metadata": {
    "collapsed": false
   },
   "outputs": [],
   "source": [
    "lc['id'] = lc.id.astype(int)"
   ]
  },
  {
   "cell_type": "code",
   "execution_count": 285,
   "metadata": {
    "collapsed": false
   },
   "outputs": [
    {
     "data": {
      "text/plain": [
       "array(['10+ years', '< 1 year', '1 year', '3 years', '8 years', '9 years',\n",
       "       '4 years', '5 years', '6 years', '2 years', '7 years', 'n/a'], dtype=object)"
      ]
     },
     "execution_count": 285,
     "metadata": {},
     "output_type": "execute_result"
    }
   ],
   "source": [
    "lc.emp_length.unique()"
   ]
  },
  {
   "cell_type": "code",
   "execution_count": 286,
   "metadata": {
    "collapsed": false
   },
   "outputs": [],
   "source": [
    "lc.emp_length = lc.emp_length.replace({'10+ years': 20, '< 1 year': 0, '1 year': 1})\n",
    "lc.emp_length = lc.emp_length.replace({'{} years'.format(i): i for i in range(1,10)})\n",
    "lc.emp_length = lc.emp_length.replace({'n/a': np.nan})"
   ]
  },
  {
   "cell_type": "code",
   "execution_count": 287,
   "metadata": {
    "collapsed": false
   },
   "outputs": [],
   "source": [
    "lc.int_rate = lc.int_rate.str.replace('%', '').astype(float) / 100"
   ]
  },
  {
   "cell_type": "code",
   "execution_count": 288,
   "metadata": {
    "collapsed": false
   },
   "outputs": [],
   "source": [
    "lc.home_ownership = lc.home_ownership.astype('category')"
   ]
  },
  {
   "cell_type": "code",
   "execution_count": 289,
   "metadata": {
    "collapsed": false,
    "scrolled": false
   },
   "outputs": [],
   "source": [
    "# Change the subgrades to numeric values\n",
    "\n",
    "unique_subgrades = sorted(lc.sub_grade.unique())\n",
    "lc.sub_grade = lc.sub_grade.replace({'{}'.format(i):\n",
    "                      unique_subgrades.index(i) for i in unique_subgrades})"
   ]
  },
  {
   "cell_type": "code",
   "execution_count": 290,
   "metadata": {
    "collapsed": false
   },
   "outputs": [],
   "source": [
    "lc['grade'] = lc['grade'].astype('category')"
   ]
  },
  {
   "cell_type": "code",
   "execution_count": 291,
   "metadata": {
    "collapsed": false,
    "scrolled": false
   },
   "outputs": [],
   "source": [
    "lc.issue_d = pd.to_datetime(lc.issue_d)"
   ]
  },
  {
   "cell_type": "code",
   "execution_count": 292,
   "metadata": {
    "collapsed": false
   },
   "outputs": [],
   "source": [
    "lc.loan_status = lc.loan_status.astype('category')"
   ]
  },
  {
   "cell_type": "code",
   "execution_count": 293,
   "metadata": {
    "collapsed": false
   },
   "outputs": [],
   "source": [
    "lc.verification_status = lc.verification_status.replace({'VERIFIED - income': 1,\n",
    "                                'VERIFIED - income source': 1, 'not verified': 0 })"
   ]
  },
  {
   "cell_type": "code",
   "execution_count": 294,
   "metadata": {
    "collapsed": false
   },
   "outputs": [],
   "source": [
    "lc.purpose = lc.purpose.astype('category')"
   ]
  },
  {
   "cell_type": "code",
   "execution_count": 295,
   "metadata": {
    "collapsed": false
   },
   "outputs": [],
   "source": [
    "lc.addr_state = lc.addr_state.astype('category')"
   ]
  },
  {
   "cell_type": "code",
   "execution_count": 296,
   "metadata": {
    "collapsed": false
   },
   "outputs": [],
   "source": [
    "lc = lc.drop('pymnt_plan', axis=1)"
   ]
  },
  {
   "cell_type": "code",
   "execution_count": 297,
   "metadata": {
    "collapsed": true
   },
   "outputs": [],
   "source": [
    "lc['revol_util'] = lc.revol_util.str.replace(\"%\", '').astype(float) / 100"
   ]
  },
  {
   "cell_type": "code",
   "execution_count": 298,
   "metadata": {
    "collapsed": false
   },
   "outputs": [],
   "source": [
    "lc.earliest_cr_line = pd.to_datetime(lc.earliest_cr_line)"
   ]
  },
  {
   "cell_type": "code",
   "execution_count": 299,
   "metadata": {
    "collapsed": false
   },
   "outputs": [],
   "source": [
    "lc.last_credit_pull_d = pd.to_datetime(lc.last_credit_pull_d)"
   ]
  },
  {
   "cell_type": "code",
   "execution_count": 304,
   "metadata": {
    "collapsed": false
   },
   "outputs": [],
   "source": [
    "import pickle\n",
    "with open('cleaned_df.pkl', 'wb') as picklefile:\n",
    "    pickle.dump(lc, picklefile)"
   ]
  },
  {
   "cell_type": "markdown",
   "metadata": {},
   "source": [
    "# Feature Engineering"
   ]
  },
  {
   "cell_type": "markdown",
   "metadata": {},
   "source": [
    "Feature | Why\n",
    "-- | --\n",
    "Ratio of income to installment payment | might suggest overpayment amount\n",
    "Ratio of income to all debt including installment | The previous but better."
   ]
  },
  {
   "cell_type": "code",
   "execution_count": 310,
   "metadata": {
    "collapsed": false
   },
   "outputs": [
    {
     "data": {
      "text/plain": [
       "installment      435.056483\n",
       "revol_bal      16545.933747\n",
       "dtype: float64"
      ]
     },
     "execution_count": 310,
     "metadata": {},
     "output_type": "execute_result"
    }
   ],
   "source": [
    "lc[['installment', 'revol_bal']].mean()"
   ]
  },
  {
   "cell_type": "code",
   "execution_count": 315,
   "metadata": {
    "collapsed": false
   },
   "outputs": [
    {
     "data": {
      "text/plain": [
       "Index(['total_pymnt', 'zip_code', 'member_id', 'id', 'loan_amnt', 'int_rate',\n",
       "       'installment', 'emp_length', 'home_ownership', 'grade', 'sub_grade',\n",
       "       'emp_title', 'issue_d', 'loan_status', 'annual_inc',\n",
       "       'verification_status', 'purpose', 'addr_state', 'inq_last_6mths', 'dti',\n",
       "       'revol_util', 'mths_since_last_record', 'mths_since_last_delinq',\n",
       "       'pub_rec', 'revol_bal', 'open_acc', 'collections_12_mths_ex_med',\n",
       "       'delinq_2yrs', 'earliest_cr_line', 'last_credit_pull_d',\n",
       "       'ratio_inc_debt'],\n",
       "      dtype='object')"
      ]
     },
     "execution_count": 315,
     "metadata": {},
     "output_type": "execute_result"
    }
   ],
   "source": [
    "lc.columns"
   ]
  },
  {
   "cell_type": "code",
   "execution_count": 316,
   "metadata": {
    "collapsed": true
   },
   "outputs": [],
   "source": [
    "lc['ratio_inc_debt'] = (lc.loan_amnt + lc.revol_bal) / lc.annual_inc"
   ]
  },
  {
   "cell_type": "code",
   "execution_count": 317,
   "metadata": {
    "collapsed": false
   },
   "outputs": [
    {
     "data": {
      "text/plain": [
       "count    646383.000000\n",
       "mean          0.458122\n",
       "std           0.257535\n",
       "min           0.001072\n",
       "25%           0.277250\n",
       "50%           0.418118\n",
       "75%           0.592603\n",
       "max          10.706455\n",
       "Name: ratio_inc_debt, dtype: float64"
      ]
     },
     "execution_count": 317,
     "metadata": {},
     "output_type": "execute_result"
    }
   ],
   "source": [
    "lc.ratio_inc_debt.describe()"
   ]
  },
  {
   "cell_type": "code",
   "execution_count": 322,
   "metadata": {
    "collapsed": true
   },
   "outputs": [],
   "source": [
    "lc['ratio_inc_installment'] = lc.installment / (lc.annual_inc / 12)"
   ]
  },
  {
   "cell_type": "code",
   "execution_count": 323,
   "metadata": {
    "collapsed": false
   },
   "outputs": [
    {
     "data": {
      "text/plain": [
       "count    646383.000000\n",
       "mean          0.080259\n",
       "std           0.040342\n",
       "min           0.000241\n",
       "25%           0.049286\n",
       "50%           0.075108\n",
       "75%           0.107037\n",
       "max           0.541710\n",
       "Name: ratio_inc_installment, dtype: float64"
      ]
     },
     "execution_count": 323,
     "metadata": {},
     "output_type": "execute_result"
    }
   ],
   "source": [
    "lc.ratio_inc_installment.describe()"
   ]
  },
  {
   "cell_type": "code",
   "execution_count": 332,
   "metadata": {
    "collapsed": true
   },
   "outputs": [],
   "source": [
    "lc['ratio_mth_inc_all_payments'] = (lc.installment + lc.revol_bal * .02) / (lc.annual_inc / 12)"
   ]
  },
  {
   "cell_type": "code",
   "execution_count": 333,
   "metadata": {
    "collapsed": false
   },
   "outputs": [
    {
     "data": {
      "text/plain": [
       "count    646383.000000\n",
       "mean          0.137122\n",
       "std           0.071193\n",
       "min           0.000393\n",
       "25%           0.085831\n",
       "50%           0.126881\n",
       "75%           0.177213\n",
       "max           2.644211\n",
       "Name: ratio_mth_inc_all_payments, dtype: float64"
      ]
     },
     "execution_count": 333,
     "metadata": {},
     "output_type": "execute_result"
    }
   ],
   "source": [
    "lc.ratio_mth_inc_all_payments.describe()"
   ]
  },
  {
   "cell_type": "markdown",
   "metadata": {
    "collapsed": true
   },
   "source": [
    "# List of features"
   ]
  },
  {
   "cell_type": "markdown",
   "metadata": {},
   "source": [
    "dti"
   ]
  }
 ],
 "metadata": {
  "kernelspec": {
   "display_name": "Python 3",
   "language": "python",
   "name": "python3"
  },
  "language_info": {
   "codemirror_mode": {
    "name": "ipython",
    "version": 3
   },
   "file_extension": ".py",
   "mimetype": "text/x-python",
   "name": "python",
   "nbconvert_exporter": "python",
   "pygments_lexer": "ipython3",
   "version": "3.4.3"
  }
 },
 "nbformat": 4,
 "nbformat_minor": 0
}
