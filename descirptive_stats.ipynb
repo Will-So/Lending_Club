{
 "cells": [
  {
   "cell_type": "code",
   "execution_count": 1,
   "metadata": {
    "collapsed": false
   },
   "outputs": [
    {
     "name": "stdout",
     "output_type": "stream",
     "text": [
      "Populating the interactive namespace from numpy and matplotlib\n"
     ]
    }
   ],
   "source": [
    "%pylab inline\n",
    "import pandas as pd\n",
    "import seaborn as sns"
   ]
  },
  {
   "cell_type": "code",
   "execution_count": 4,
   "metadata": {
    "collapsed": true
   },
   "outputs": [],
   "source": [
    "?pd.read_pickle"
   ]
  },
  {
   "cell_type": "code",
   "execution_count": 5,
   "metadata": {
    "collapsed": false
   },
   "outputs": [
    {
     "name": "stdout",
     "output_type": "stream",
     "text": [
      "The Model.ipynb         cleaned_df.pkl          munging.ipynb           \u001b[34mscripts\u001b[m\u001b[m\r\n",
      "Untitled.ipynb          \u001b[34mdata\u001b[m\u001b[m                    readme.md               test_case.csv\r\n",
      "better_use_case.csv     descirptive_stats.ipynb roadmap.ipynb\r\n"
     ]
    }
   ],
   "source": [
    "!ls"
   ]
  },
  {
   "cell_type": "code",
   "execution_count": 8,
   "metadata": {
    "collapsed": false,
    "scrolled": true
   },
   "outputs": [],
   "source": [
    "df = pd.read_pickle('cleaned_df.pkl')"
   ]
  },
  {
   "cell_type": "code",
   "execution_count": 10,
   "metadata": {
    "collapsed": false
   },
   "outputs": [
    {
     "name": "stdout",
     "output_type": "stream",
     "text": [
      "<class 'pandas.core.frame.DataFrame'>\n",
      "Int64Index: 646387 entries, 0 to 180099\n",
      "Data columns (total 30 columns):\n",
      "total_pymnt                   646387 non-null float64\n",
      "zip_code                      646387 non-null int64\n",
      "member_id                     646387 non-null float64\n",
      "id                            646387 non-null int64\n",
      "loan_amnt                     646387 non-null float64\n",
      "int_rate                      646387 non-null float64\n",
      "installment                   646387 non-null float64\n",
      "emp_length                    615969 non-null float64\n",
      "home_ownership                646387 non-null category\n",
      "grade                         646387 non-null category\n",
      "sub_grade                     646387 non-null int64\n",
      "emp_title                     609363 non-null object\n",
      "issue_d                       646387 non-null datetime64[ns]\n",
      "loan_status                   646387 non-null category\n",
      "annual_inc                    646383 non-null float64\n",
      "verification_status           646387 non-null int64\n",
      "purpose                       646387 non-null category\n",
      "addr_state                    646387 non-null category\n",
      "inq_last_6mths                646358 non-null float64\n",
      "dti                           646387 non-null float64\n",
      "revol_util                    645984 non-null float64\n",
      "mths_since_last_record        94340 non-null float64\n",
      "mths_since_last_delinq        309041 non-null float64\n",
      "pub_rec                       646358 non-null float64\n",
      "revol_bal                     646387 non-null float64\n",
      "open_acc                      646358 non-null float64\n",
      "collections_12_mths_ex_med    646242 non-null float64\n",
      "delinq_2yrs                   646358 non-null float64\n",
      "earliest_cr_line              646358 non-null datetime64[ns]\n",
      "last_credit_pull_d            646339 non-null datetime64[ns]\n",
      "dtypes: category(5), datetime64[ns](3), float64(17), int64(4), object(1)\n",
      "memory usage: 131.3+ MB\n"
     ]
    }
   ],
   "source": [
    "df.info()"
   ]
  },
  {
   "cell_type": "code",
   "execution_count": 11,
   "metadata": {
    "collapsed": false
   },
   "outputs": [
    {
     "data": {
      "text/plain": [
       "Current                                                     428292\n",
       "Fully Paid                                                  163412\n",
       "Charged Off                                                  35389\n",
       "Late (31-120 days)                                            9215\n",
       "In Grace Period                                               5155\n",
       "Does not meet the credit policy.  Status:Fully Paid           1959\n",
       "Late (16-30 days)                                             1952\n",
       "Does not meet the credit policy.  Status:Charged Off           761\n",
       "Default                                                        223\n",
       "Does not meet the credit policy.  Status:Current                28\n",
       "Does not meet the credit policy.  Status:In Grace Period         1\n",
       "dtype: int64"
      ]
     },
     "execution_count": 11,
     "metadata": {},
     "output_type": "execute_result"
    }
   ],
   "source": [
    "df.loan_status.value_counts()"
   ]
  },
  {
   "cell_type": "code",
   "execution_count": null,
   "metadata": {
    "collapsed": true
   },
   "outputs": [],
   "source": [
    "old_loans "
   ]
  }
 ],
 "metadata": {
  "kernelspec": {
   "display_name": "Python 3",
   "language": "python",
   "name": "python3"
  },
  "language_info": {
   "codemirror_mode": {
    "name": "ipython",
    "version": 3
   },
   "file_extension": ".py",
   "mimetype": "text/x-python",
   "name": "python",
   "nbconvert_exporter": "python",
   "pygments_lexer": "ipython3",
   "version": "3.4.3"
  }
 },
 "nbformat": 4,
 "nbformat_minor": 0
}
